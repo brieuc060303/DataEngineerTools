{
 "cells": [
  {
   "cell_type": "markdown",
   "metadata": {},
   "source": [
    "# Introduction"
   ]
  },
  {
   "cell_type": "markdown",
   "metadata": {},
   "source": [
    "Avant de commencer, parcourer le fichier README.rst"
   ]
  },
  {
   "cell_type": "markdown",
   "metadata": {},
   "source": [
    "# Requête HTTP "
   ]
  },
  {
   "cell_type": "markdown",
   "metadata": {},
   "source": [
    "Un requête HTTP est une requête basé sur le protocole TCP, elle fait partie de la couche application de la couche OSI. Elle permet d'accéder aux données mise à disposition sur une adresse IP (ou url résolue par un DNS) et un port. \n",
    "\n",
    "Les deux ports les plus utilisé dans le web sont le 80 pour les sites en HTTP et le 443 pour les sites en HTTPS. HTTPS est une variable du protocole HTTP basé sur le protocole TLS.\n",
    "\n",
    "Il existe de nombreux types de requêtes selon la convention `REST`: \n",
    "- GET\n",
    "- POST\n",
    "- PUT \n",
    "- DELETE\n",
    "- UPDATE.\n",
    "\n",
    "Dans notre cas nous allons utiliser la plupart du temps des GET et potentiellement des POST. \n",
    "- Le GET permet comme sont nom l'indique de récupérer des informations en fonction de certain paramètres. \n",
    "- Le POST nécéssite un envoie de données pour récupérer des données. Le body du post est, la plupart du temps, envoyé sous la forme d'un objet JSON.\n",
    "\n",
    "Ces requêtes encapsulent un certain nombre de paramètres qui permettent soient d'identifier une provenance et un utilisateur ou de réaliser différentes actions."
   ]
  },
  {
   "cell_type": "code",
   "execution_count": 92,
   "metadata": {
    "ExecuteTime": {
     "end_time": "2023-11-20T20:59:11.905045659Z",
     "start_time": "2023-11-20T20:59:11.838226577Z"
    }
   },
   "outputs": [],
   "source": [
    "import requests"
   ]
  },
  {
   "cell_type": "code",
   "execution_count": 93,
   "metadata": {
    "ExecuteTime": {
     "end_time": "2023-11-20T20:59:16.938734733Z",
     "start_time": "2023-11-20T20:59:16.563594647Z"
    }
   },
   "outputs": [
    {
     "data": {
      "text/plain": [
       "200"
      ]
     },
     "execution_count": 93,
     "metadata": {},
     "output_type": "execute_result"
    }
   ],
   "source": [
    "url = \"http://www.esiee.fr/\"\n",
    "response = requests.get(url)\n",
    "response.status_code"
   ]
  },
  {
   "cell_type": "markdown",
   "metadata": {},
   "source": [
    "Il existe deux méthodes pour récupérer le contenu de la page :\n",
    "\n",
    "- `response.text` qui permet de retourner le texte sous la forme d'une chaine de charactères.\n",
    "- `response.content` qui permet de récupérer le contenu de la page sous la forme de bytes"
   ]
  },
  {
   "cell_type": "code",
   "execution_count": 94,
   "metadata": {
    "ExecuteTime": {
     "end_time": "2023-11-20T20:59:20.562034696Z",
     "start_time": "2023-11-20T20:59:20.550215062Z"
    }
   },
   "outputs": [
    {
     "data": {
      "text/plain": [
       "bytes"
      ]
     },
     "execution_count": 94,
     "metadata": {},
     "output_type": "execute_result"
    }
   ],
   "source": [
    "type(response.content)"
   ]
  },
  {
   "cell_type": "code",
   "execution_count": 95,
   "metadata": {
    "ExecuteTime": {
     "end_time": "2023-11-20T20:59:22.443189306Z",
     "start_time": "2023-11-20T20:59:22.383493206Z"
    }
   },
   "outputs": [
    {
     "data": {
      "text/plain": [
       "str"
      ]
     },
     "execution_count": 95,
     "metadata": {},
     "output_type": "execute_result"
    }
   ],
   "source": [
    "type(response.text)"
   ]
  },
  {
   "cell_type": "markdown",
   "metadata": {},
   "source": [
    "Pour récupérer les 1000 premiers charactères de la page :"
   ]
  },
  {
   "cell_type": "code",
   "execution_count": 96,
   "metadata": {
    "ExecuteTime": {
     "end_time": "2023-11-20T20:59:25.414439410Z",
     "start_time": "2023-11-20T20:59:25.344856011Z"
    }
   },
   "outputs": [
    {
     "data": {
      "text/plain": [
       "'<!DOCTYPE html>\\n<html lang=\"fr-FR\">\\n<head>\\n\\n<meta charset=\"utf-8\">\\n<!-- \\n\\tThis website is powered by TYPO3 - inspiring people to share!\\n\\tTYPO3 is a free open source Content Management Framework initially created by Kasper Skaarhoj and licensed under GNU/GPL.\\n\\tTYPO3 is copyright 1998-2023 of Kasper Skaarhoj. Extensions are copyright of their respective owners.\\n\\tInformation and contribution at https://typo3.org/\\n-->\\n\\n\\n\\n<title>ESIEE Paris, l&#039;école de l&#039;innovation technologique | ESIEE Paris</title>\\n<meta name=\"generator\" content=\"TYPO3 CMS\" />\\n<meta name=\"description\" content=\"Rejoignez ESIEE Paris, grande école d&#039;ingénieur dans les domaines des transitions numérique, énergétique et environnementale. Classée dans le groupe A, parmi les meilleures écoles d&#039;ingénieur selon le classement de l&#039;Etudiant. Habilitée par la Commission des Titres d&#039;Ingénieur (CTI). Membre de la Conférence des Grandes Ecoles (CGE). \" />\\n<meta name=\"viewport\" content=\"width=device-width'"
      ]
     },
     "execution_count": 96,
     "metadata": {},
     "output_type": "execute_result"
    }
   ],
   "source": [
    "response.text[0:1000]"
   ]
  },
  {
   "cell_type": "markdown",
   "metadata": {},
   "source": [
    "Pour récupérer les headers HTTP de la réponse :"
   ]
  },
  {
   "cell_type": "code",
   "execution_count": 97,
   "metadata": {
    "ExecuteTime": {
     "end_time": "2023-11-20T20:59:29.188682108Z",
     "start_time": "2023-11-20T20:59:29.174041471Z"
    }
   },
   "outputs": [
    {
     "data": {
      "text/plain": [
       "{'Date': 'Tue, 21 Nov 2023 13:02:00 GMT', 'Server': 'Apache', 'Content-Language': 'fr', 'Vary': 'Accept-Encoding', 'Content-Encoding': 'gzip', 'X-UA-Compatible': 'IE=edge', 'X-Content-Type-Options': 'nosniff', 'Content-Length': '15693', 'Content-Type': 'text/html; charset=utf-8', 'X-Varnish': '781152 1282188', 'Age': '38', 'Via': '1.1 varnish (Varnish/7.1)', 'Accept-Ranges': 'bytes', 'Connection': 'keep-alive'}"
      ]
     },
     "execution_count": 97,
     "metadata": {},
     "output_type": "execute_result"
    }
   ],
   "source": [
    "response.headers"
   ]
  },
  {
   "cell_type": "markdown",
   "metadata": {},
   "source": [
    "On peut modifier les paramêtres de la requête et/ou ses headers. On peut par exemple ajouter un UserAgent et un timeout de 10 secondes:"
   ]
  },
  {
   "cell_type": "code",
   "execution_count": 98,
   "metadata": {
    "ExecuteTime": {
     "end_time": "2023-11-20T20:59:37.786334719Z",
     "start_time": "2023-11-20T20:59:37.720684526Z"
    }
   },
   "outputs": [
    {
     "data": {
      "text/plain": [
       "b'<!DOCTYPE html>\\n<html lang=\"fr-FR\">\\n<head>\\n\\n<meta charset=\"utf-8\">\\n<!-- \\n\\tThis website is powered by TYPO3 - inspiring people to share!\\n\\tTYPO3 is a free open source Content Management Framework initially created by Kasper Skaarhoj and licensed under GNU/GPL.\\n\\tTYPO3 is copyright 1998-2023 of Kasper Skaarhoj. Extensions are copyright of their respective owners.\\n\\tInformation and contribution at https://typo3.org/\\n-->\\n\\n\\n\\n<title>ESIEE Paris, l&#039;\\xc3\\xa9cole de l&#039;innovation technologique | ESIEE Paris</title>\\n<meta name=\"generator\" content=\"TYPO3 CMS\" />\\n<meta name=\"description\" content=\"Rejoignez ESIEE Paris, grande \\xc3\\xa9cole d&#039;ing\\xc3\\xa9nieur dans les domaines des transitions num\\xc3\\xa9rique, \\xc3\\xa9nerg\\xc3\\xa9tique et environnementale. Class\\xc3\\xa9e dans le groupe A, parmi les meilleures \\xc3\\xa9coles d&#039;ing\\xc3\\xa9nieur selon le classement de l&#039;Etudiant. Habilit\\xc3\\xa9e par la Commission des Titres d&#039;Ing\\xc3\\xa9nieur (CTI). Membre de la Conf\\xc3\\xa9rence des Grandes Ecoles (CGE). \" />\\n<meta name=\"viewport\" content=\"width='"
      ]
     },
     "execution_count": 98,
     "metadata": {},
     "output_type": "execute_result"
    }
   ],
   "source": [
    "headers = {'User-Agent': 'Mozilla/5.0 (Macintosh; Intel Mac OS X 10_10_1) AppleWebKit/537.36 (KHTML, like Gecko) Chrome/39.0.2171.95 Safari/537.36'}\n",
    "response = requests.get(url, headers=headers, timeout = 10)\n",
    "response.content[0:1000]"
   ]
  },
  {
   "cell_type": "markdown",
   "metadata": {},
   "source": [
    "## Exercice"
   ]
  },
  {
   "cell_type": "markdown",
   "metadata": {},
   "source": [
    "## Exercice 1\n",
    "\n",
    "- Créer une classe Python permettant de faire des requêtes HTTP.\n",
    "- Cette classe doit utiliser toujours le même UserAgent.\n",
    "- Le TimeOut sera spécifié à chaque appelle avec une valeur par défaut.\n",
    "- Un mécanisme de retry sera mis en place de façon recursive.\n",
    "\n",
    "## Exercice 2\n",
    "\n",
    "- Faire une fonction permettant de supprimer tous les espaces supperflus d'une string\n",
    "- Faire une fonction qui prend une string html et renvois une string intelligible (enlever les caractères spéciaux,\n",
    "- Récupérer le domaine en fonction d'un url"
   ]
  },
  {
   "cell_type": "markdown",
   "metadata": {},
   "source": [
    "# Exploitation du HTML  "
   ]
  },
  {
   "cell_type": "markdown",
   "metadata": {},
   "source": [
    "Ici, il faut récupérer le code HTML d'un site web à partir d'une requête. Lorsque vous avez récupéré le texte d'un site il faut le parser. Pour cela, on utilise BeautifulSoup qui permet de transformer la structure HTML en objet Python. Cela permet de récupérer efficacement les données qui nous intéresse.\n",
    "\n",
    "Pour les webmasters, le blocage le plus souvent mis en place et un blocage sur le User-Agent. Le User-Agent est un paramètre intégré dans la requête HTTP réalisé par le Navigateur pour envoyer au front des informations basiques :\n",
    "\n",
    "- la version du Navigateur,\n",
    "- la version de l'OS\n",
    "- Le type de gestionnaire graphique (Gecko)\n",
    "- le type de device utilisé"
   ]
  },
  {
   "cell_type": "markdown",
   "metadata": {},
   "source": [
    "Exemple de User Agent :  \n",
    "\n",
    "`Mozilla/5.0 (Windows NT 6.1; Win64; x64; rv:47.0) Gecko/20100101 Firefox/47.0`"
   ]
  },
  {
   "cell_type": "markdown",
   "metadata": {},
   "source": [
    "Commençons à utiliser `BeautifulSoup`, pour l'installer : "
   ]
  },
  {
   "cell_type": "code",
   "execution_count": 99,
   "metadata": {
    "ExecuteTime": {
     "end_time": "2023-11-20T21:10:36.519404987Z",
     "start_time": "2023-11-20T21:10:33.376765685Z"
    }
   },
   "outputs": [
    {
     "name": "stdout",
     "output_type": "stream",
     "text": [
      "Requirement already satisfied: bs4 in /root/.local/share/virtualenvs/code-AFz48Hjb/lib/python3.8/site-packages (0.0.1)\n",
      "Requirement already satisfied: beautifulsoup4 in /root/.local/share/virtualenvs/code-AFz48Hjb/lib/python3.8/site-packages (from bs4) (4.12.2)\n",
      "Requirement already satisfied: soupsieve>1.2 in /root/.local/share/virtualenvs/code-AFz48Hjb/lib/python3.8/site-packages (from beautifulsoup4->bs4) (2.5)\n",
      "Requirement already satisfied: lxml in /root/.local/share/virtualenvs/code-AFz48Hjb/lib/python3.8/site-packages (4.9.3)\n"
     ]
    }
   ],
   "source": [
    "!pip install bs4\n",
    "!pip install  lxml"
   ]
  },
  {
   "cell_type": "code",
   "execution_count": 100,
   "metadata": {
    "ExecuteTime": {
     "end_time": "2023-11-20T21:10:36.564455339Z",
     "start_time": "2023-11-20T21:10:36.519162417Z"
    }
   },
   "outputs": [],
   "source": [
    "import requests\n",
    "from bs4 import BeautifulSoup"
   ]
  },
  {
   "cell_type": "markdown",
   "metadata": {},
   "source": [
    "Pour transformer une requête (requests) en objet BeautifulSoup :"
   ]
  },
  {
   "cell_type": "code",
   "execution_count": 101,
   "metadata": {
    "ExecuteTime": {
     "end_time": "2023-11-20T21:12:17.688540775Z",
     "start_time": "2023-11-20T21:12:17.583955728Z"
    }
   },
   "outputs": [],
   "source": [
    "response = requests.get(url)\n",
    "soup = BeautifulSoup(response.text)"
   ]
  },
  {
   "cell_type": "markdown",
   "metadata": {},
   "source": [
    "Il se peut qu'un message d'erreur arrive à ce point là si vous n'avez pas la librarie `lxml` installée, pour se faire vous avez juste à lancer la commande suivante : "
   ]
  },
  {
   "cell_type": "code",
   "execution_count": 102,
   "metadata": {
    "ExecuteTime": {
     "end_time": "2023-11-20T21:10:38.049503283Z",
     "start_time": "2023-11-20T21:10:36.691220854Z"
    }
   },
   "outputs": [
    {
     "name": "stdout",
     "output_type": "stream",
     "text": [
      "Requirement already satisfied: lxml in /root/.local/share/virtualenvs/code-AFz48Hjb/lib/python3.8/site-packages (4.9.3)\n"
     ]
    }
   ],
   "source": [
    "!pip install lxml"
   ]
  },
  {
   "cell_type": "markdown",
   "metadata": {},
   "source": [
    "Pour trouver tous les liens d'une page on récupère la balise `a` qui permet de gérer les liens en HTML  :"
   ]
  },
  {
   "cell_type": "code",
   "execution_count": 103,
   "metadata": {
    "ExecuteTime": {
     "end_time": "2023-11-20T21:10:38.060231655Z",
     "start_time": "2023-11-20T21:10:38.043799766Z"
    }
   },
   "outputs": [
    {
     "data": {
      "text/plain": [
       "[<a href=\"/#content\">Aller au contenu</a>,\n",
       " <a href=\"/#menu\">Aller au menu</a>,\n",
       " <a href=\"/plan-du-site/\">Plan du site</a>,\n",
       " <a href=\"/nous-rencontrer-1\">Bien choisir son école, c'est aussi la rencontrer  ! Rendez-vous à la prochaine journée portes ouvertes le 9 décembre.</a>,\n",
       " <a href=\"/\"><img alt=\"ESIEE PARIS\" class=\"a42-ac-replace-img\" src=\"/typo3conf/ext/esiee_sitepackage/Resources/Public/imgs/svg/logo-esiee.svg\"/></a>,\n",
       " <a href=\"/brochures-1\">Brochures</a>,\n",
       " <a href=\"/informations/etudiantes-et-etudiants\">Espace élèves</a>,\n",
       " <a href=\"/\" hreflang=\"fr-FR\" title=\"Français\">\n",
       " <span>Fr</span>\n",
       " </a>,\n",
       " <a href=\"/en/\" hreflang=\"en-US\" title=\"English\">\n",
       " <span>En</span>\n",
       " </a>,\n",
       " <a href=\"/candidater-1\">Candidater</a>]"
      ]
     },
     "execution_count": 103,
     "metadata": {},
     "output_type": "execute_result"
    }
   ],
   "source": [
    "soup.find_all(\"a\")[0:10]"
   ]
  },
  {
   "cell_type": "markdown",
   "metadata": {},
   "source": [
    "On peut préciser la classe HTML voulue  pour l'ensemble des `a`:\n",
    "\n",
    "```python\n",
    "soup.find_all(class_=\"<CLASS_NAME>\")[0:10]\n",
    "```\n",
    "\n",
    "Ici par exemple: "
   ]
  },
  {
   "cell_type": "code",
   "execution_count": 104,
   "metadata": {
    "ExecuteTime": {
     "end_time": "2023-11-20T21:10:38.113443493Z",
     "start_time": "2023-11-20T21:10:38.055160283Z"
    }
   },
   "outputs": [
    {
     "data": {
      "text/plain": [
       "[<main class=\"main\" id=\"content\">\n",
       " <!--TYPO3SEARCH_begin--><div class=\"frame frame-default frame-type-esieesitepackage_landingslider frame-layout-0\" id=\"c29\"><section class=\"landing landing-slider\"><span class=\"lazy-wrapper\" style=\"max-height: 1080px;\"><img alt=\"\" class=\"\" data-src=\"/fileadmin/_processed_/2/4/csm_ESIEE-Home-Main-Picture_ff09bd6b6e.jpg\" height=\"1080\" src=\"data:image/gif;base64,R0lGODlhAQABAIAAAP///wAAACH5BAEAAAAALAAAAAABAAEAAAICRAEAOw==\" width=\"1920\"/><noscript><img alt=\"\" class=\"\" height=\"1080\" src=\"/fileadmin/_processed_/2/4/csm_ESIEE-Home-Main-Picture_ff09bd6b6e.jpg\" width=\"1920\"/></noscript></span><div class=\"swiper swiper-1-slide-per-view\"><div class=\"swiper-wrapper\"><div class=\"swiper-slide\"><div class=\"container\"><h2 class=\"h1-like\">ESIEE Paris, <strong>l’école de</strong><br/>\n",
       " l'innovation <strong>technologique</strong></h2><div class=\"cke_editable\"><p>ESIEE Paris, n°2 <a href=\"/actualites/classements\" target=\"_blank\" title=\"Ouvre une nouvelle fenêtre\">des écoles d’ingénieurs post-bac</a> d’Ile-de-France selon le Palmarès « L’Etudiant 2023 ».</p></div></div></div><div class=\"swiper-slide\"><div class=\"container\"><h2 class=\"h1-like\">Venez aux journées <br/><strong>portes ouvertes ESIEE Paris</strong></h2><div class=\"cke_editable\"><p>Bien choisir son école, c'est aussi <a href=\"/nous-rencontrer-1\" target=\"_blank\" title=\"Ouvre une nouvelle fenêtre\">la rencontrer</a> !</p></div></div></div><div class=\"swiper-slide\"><div class=\"container\"><h2 class=\"h1-like\">Envie d’en savoir plus sur la réalité de la vie d’un élève en école d’ingénieurs ?</h2><div class=\"cke_editable\"><p><a href=\"/actualites/lesiee-cest-ladopter-journee-dimmersion-a-esiee-paris\">Journées d'immersion</a> à ESIEE Paris<br/> Mercredi 13 décembre 2023 ou mercredi 24 janvier 2024</p></div></div></div></div><div class=\"swiper-navigation\"><div><div class=\"swiper-button-prev\"></div><div class=\"swiper-button-next\"></div></div></div></div></section></div><div class=\"frame frame-default frame-type-esieesitepackage_searchbox frame-layout-0\" id=\"c30\"><section class=\"searchbox\"><h2 class=\"sr-only\">Barre de recherche</h2><div class=\"container\"><div class=\"searchbox\"><button aria-controls=\"searchbox-30-form\" aria-expanded=\"false\" class=\"toggler\"><i class=\"fa-solid fa-magnifying-glass\"></i><i class=\"fa-solid fa-xmark\"></i><span class=\"sr-only\"><span class=\"display\">Afficher</span><span class=\"hide\">Masquer</span> la recherche\n",
       " \t\t</span></button><form action=\"/rechercher\" data-suggest=\"/rechercher?type=7384\" data-suggest-header=\"Meilleurs résultats\" id=\"searchbox-30-form\" method=\"get\"><div><label class=\"sr-only\" for=\"searchbox-30-form-input\">Saisissez votre recherche :</label><input class=\"tx-solr-suggest\" id=\"searchbox-30-form-input\" name=\"tx_solr[q]\" placeholder=\"Rechercher une information\" type=\"text\"/><button type=\"submit\"><i class=\"fa-solid fa-magnifying-glass\"></i><span class=\"sr-only\">Lancer la recherche</span></button></div></form></div></div></section></div><div class=\"frame frame-default frame-type-esieesitepackage_containersection frame-layout-0\" id=\"c34\"><section class=\"\"><div class=\"container\"><div class=\"frame frame-default frame-type-textpic frame-layout-0\" id=\"c1688\"><div class=\"ce-textpic ce-center ce-above\"><div class=\"ce-bodytext\"><div class=\"cke_editable\"><h3><strong>Découvrez ESIEE Paris !</strong> Une école d'ingénieurs spécialisée dans les domaines des transitions numériques, énergétiques et environnementales. Parmi nos illustres anciens élèves, <strong>Marcel Dassault</strong>, fondateur du groupe Dassault Aviation et <strong>Yann LeCun</strong>, à l'origine de la révolution actuelle de l'intelligence artificielle.</h3><p><a class=\"btn-primary\" href=\"/lecole/pourquoi-choisir-esiee-paris\">Pourquoi choisir ESIEE Paris ?</a> <a class=\"btn-primary\" href=\"/lecole/visite-virtuelle-esiee-paris\">Visite virtuelle</a></p></div></div></div></div></div></section></div><div class=\"frame frame-default frame-type-esieesitepackage_containersection frame-layout-0\" id=\"c32\"><section class=\"bg-light\"><div class=\"container\"><div class=\"frame frame-default frame-type-list frame-layout-0\" id=\"c9\"><header><h2 class=\"\" id=\"c9-header\">\n",
       "                 Nos <strong>formations</strong></h2></header><ul class=\"cta secondary has-pill\"><li class=\"col-12 col-md-6 col-lg-4\"><a class=\"pill\" href=\"/formations/ingenieur/ingenieur-a-esiee-paris\"><h3 class=\"uppercase\">Ingénieur</h3></a><p>3 ou 5 ans, accès post-bac ou bac +2/3</p><p><strong><i class=\"fa-solid fa-code-branch\"></i> 10 filières</strong></p></li><li class=\"col-12 col-md-6 col-lg-4\"><a class=\"pill\" href=\"/formations/ingenieur-par-apprentissage/devenir-ingenieur-par-apprentissage\"><h3 class=\"uppercase\">Ingénieur par apprentissage</h3></a><p>3  ans, accès bac +2/3</p><p><strong><i class=\"fa-solid fa-code-branch\"></i> 10 filières</strong></p></li><li class=\"col-12 col-md-6 col-lg-4\"><a class=\"pill\" href=\"/formations/programmes-internationaux/programmes-internationaux\"><h3 class=\"uppercase\">Programmes internationaux</h3></a><p>18 ou 24 mois, accès bachelor, bac +4</p><p><strong><i class=\"fa-solid fa-code-branch\"></i> 2 programmes</strong></p></li><li class=\"col-12 col-md-6 col-lg-4\"><a class=\"pill\" href=\"/formations/bachelor\"><h3 class=\"uppercase\">Bachelor</h3></a><p>3 ans, accès post-bac</p><p><strong><i class=\"fa-solid fa-code-branch\"></i> 1 programme</strong></p></li><li class=\"col-12 col-md-6 col-lg-4\"><a class=\"pill\" href=\"/formations/licence-professionnelle\"><h3 class=\"uppercase\">Licence professionnelle</h3></a><p>1 an, accès bac +2/3</p><p><strong><i class=\"fa-solid fa-code-branch\"></i> 1 programme</strong></p></li><li class=\"col-12 col-md-6 col-lg-4\"><a class=\"pill\" href=\"/formations/formation-continue/formation-continue\"><h3 class=\"uppercase\">Formation continue</h3></a><p>Programmes pour les professionnels</p></li></ul></div></div></section></div><div class=\"frame frame-default frame-type-esieesitepackage_containersection frame-layout-0\" id=\"c4\"><section class=\"\"><div class=\"container\"><div class=\"frame frame-default frame-type-list frame-layout-0\" id=\"c7\"><header><h2 class=\"\" id=\"c7-header\"><strong>Les news</strong> de l'école\n",
       "             </h2></header><!--TYPO3SEARCH_end--><div class=\"swiper swiper-3-slide-per-view\"><div class=\"swiper-wrapper\"><div class=\"swiper-slide\"><div class=\"article-shortcut article-shortcut-event\"><span class=\"lazy-wrapper\" style=\"max-height: 232px;\"><img alt=\"\" class=\"\" data-src=\"/fileadmin/_processed_/1/e/csm_eleves-groupe-galerie-1344x840_0f06698b28.jpg\" height=\"232\" src=\"data:image/gif;base64,R0lGODlhAQABAIAAAP///wAAACH5BAEAAAAALAAAAAABAAEAAAICRAEAOw==\" width=\"370\"/><noscript><img alt=\"\" class=\"\" height=\"232\" src=\"/fileadmin/_processed_/1/e/csm_eleves-groupe-galerie-1344x840_0f06698b28.jpg\" width=\"370\"/></noscript></span><div class=\"content\"><p class=\"meta\"><span class=\"category\">\n",
       "                 \n",
       "                     Portes ouvertes\n",
       "                 \n",
       "             </span><span class=\"date\">\n",
       "                 \n",
       "                         09 décembre 2023                        \n",
       "                                         \n",
       "             </span></p><h3><a href=\"/actualites/journees-portes-ouvertes-esiee-paris-vous-donne-rendez-vous\" title=\"ESIEE Paris vous ouvre ses portes\">ESIEE Paris vous ouvre ses portes</a></h3><p>Samedi 9 décembre 2023 | Samedi 3 février 2024 | Samedi 2 mars 2024</p></div></div></div><div class=\"swiper-slide\"><div class=\"article-shortcut article-shortcut-event\"><span class=\"lazy-wrapper\" style=\"max-height: 232px;\"><img alt=\"\" class=\"\" data-src=\"/fileadmin/_processed_/6/2/csm_forum-descartes-rue-2019-1344x840_eb74cce508.jpg\" height=\"232\" src=\"data:image/gif;base64,R0lGODlhAQABAIAAAP///wAAACH5BAEAAAAALAAAAAABAAEAAAICRAEAOw==\" width=\"370\"/><noscript><img alt=\"\" class=\"\" height=\"232\" src=\"/fileadmin/_processed_/6/2/csm_forum-descartes-rue-2019-1344x840_eb74cce508.jpg\" width=\"370\"/></noscript></span><div class=\"content\"><p class=\"meta\"><span class=\"category\">\n",
       "                 \n",
       "                     Entreprises\n",
       "                 \n",
       "             </span><span class=\"date\">\n",
       "                 16 novembre 2023                    \n",
       "             </span></p><h3><a href=\"/actualites/forum-pour-lemploi-esiee-paris-jeudi-16-novembre-2023\" title=\"Forum pour l’emploi ESIEE Paris : jeudi 16 novembre 2023\">Forum pour l’emploi ESIEE Paris : jeudi 16 novembre 2023</a></h3><p>Jeudi 16 novembre de 10  h à 17  h, ESIEE Paris organise son forum de recrutement annuel au sein de l’école. </p></div></div></div><div class=\"swiper-slide\"><div class=\"article-shortcut\"><span class=\"lazy-wrapper\" style=\"max-height: 232px;\"><img alt=\"\" class=\"\" data-src=\"/fileadmin/_processed_/c/8/csm_illustration-concours-jeunes-talents-orange-2023-1344x840_b06c9809ff.jpg\" height=\"232\" src=\"data:image/gif;base64,R0lGODlhAQABAIAAAP///wAAACH5BAEAAAAALAAAAAABAAEAAAICRAEAOw==\" width=\"370\"/><noscript><img alt=\"\" class=\"\" height=\"232\" src=\"/fileadmin/_processed_/c/8/csm_illustration-concours-jeunes-talents-orange-2023-1344x840_b06c9809ff.jpg\" width=\"370\"/></noscript></span><div class=\"content\"><p class=\"meta\"><span class=\"category\">\n",
       "                 \n",
       "                     Entreprises\n",
       "                 \n",
       "             </span></p><h3><a href=\"/actualites/des-eleves-esiee-paris-participent-au-concours-jeunes-talents-orange-2023\" title=\"Des élèves ESIEE Paris participent au Concours jeunes talents Orange 2023\">Des élèves ESIEE Paris participent au Concours jeunes talents Orange 2023</a></h3><p>Orange lance la 9e édition de son concours jeunes talents Orange sur le thème \"  Réduire ensemble l’impact...</p></div></div></div><div class=\"swiper-slide\"><div class=\"article-shortcut\"><span class=\"lazy-wrapper\" style=\"max-height: 232px;\"><img alt=\"\" class=\"\" data-src=\"/fileadmin/_processed_/c/1/csm_actu-classement-logo-ranking-1344x840_ec9b640c4f.jpg\" height=\"232\" src=\"data:image/gif;base64,R0lGODlhAQABAIAAAP///wAAACH5BAEAAAAALAAAAAABAAEAAAICRAEAOw==\" width=\"370\"/><noscript><img alt=\"\" class=\"\" height=\"232\" src=\"/fileadmin/_processed_/c/1/csm_actu-classement-logo-ranking-1344x840_ec9b640c4f.jpg\" width=\"370\"/></noscript></span><div class=\"content\"><p class=\"meta\"><span class=\"category\">\n",
       "                 \n",
       "                     Classements\n",
       "                 \n",
       "             </span></p><h3><a href=\"/actualites/classement-thematique-de-shanghai-2023-luniversite-gustave-eiffel-conforte-sa-place-parmi-les-meilleures-universites-mondiales\" title=\"Classement thématique de Shanghai 2023 : L’Université Gustave Eiffel conforte sa place parmi les meilleures universités mondiales\">Classement thématique de Shanghai 2023 : L’Université Gustave Eiffel conforte sa place parmi les meilleures universités mondiales</a></h3><p>Elle se démarque, cette année encore, dans 9 classements thématiques.  </p></div></div></div><div class=\"swiper-slide\"><div class=\"article-shortcut\"><span class=\"lazy-wrapper\" style=\"max-height: 232px;\"><img alt=\"\" class=\"\" data-src=\"/fileadmin/_processed_/3/6/csm_eleves-esiee-etudes-1344x840_e502c91148.jpg\" height=\"232\" src=\"data:image/gif;base64,R0lGODlhAQABAIAAAP///wAAACH5BAEAAAAALAAAAAABAAEAAAICRAEAOw==\" width=\"370\"/><noscript><img alt=\"\" class=\"\" height=\"232\" src=\"/fileadmin/_processed_/3/6/csm_eleves-esiee-etudes-1344x840_e502c91148.jpg\" width=\"370\"/></noscript></span><div class=\"content\"><p class=\"meta\"><span class=\"category\">\n",
       "                 \n",
       "                     Entreprises\n",
       "                 \n",
       "             </span></p><h3><a href=\"/actualites/esiee-paris-et-dassault-systemes-creent-une-cordee-handimanagement\" title=\"ESIEE Paris et Dassault Systèmes créent une cordée Handimanagement\">ESIEE Paris et Dassault Systèmes créent une cordée Handimanagement</a></h3><p>En septembre dernier, ESIEE Paris a lancé une cordée Handimanagement en partenariat avec l’organisme Companieros et...</p></div></div></div><div class=\"swiper-slide\"><div class=\"article-shortcut article-shortcut-event\"><span class=\"lazy-wrapper\" style=\"max-height: 232px;\"><img alt=\"\" class=\"\" data-src=\"/fileadmin/_processed_/8/a/csm_trophee-des-femmes-prix-debut-prometteur-2023-1344x840_72d113e61b.jpg\" height=\"232\" src=\"data:image/gif;base64,R0lGODlhAQABAIAAAP///wAAACH5BAEAAAAALAAAAAABAAEAAAICRAEAOw==\" width=\"370\"/><noscript><img alt=\"\" class=\"\" height=\"232\" src=\"/fileadmin/_processed_/8/a/csm_trophee-des-femmes-prix-debut-prometteur-2023-1344x840_72d113e61b.jpg\" width=\"370\"/></noscript></span><div class=\"content\"><p class=\"meta\"><span class=\"category\">\n",
       "                 \n",
       "                     Féminisation\n",
       "                 \n",
       "                     \n",
       "                 \n",
       "             </span><span class=\"date\">\n",
       "                 28 septembre 2023                    \n",
       "             </span></p><h3><a href=\"/actualites/esiee-paris-partenaire-des-trophees-des-femmes-de-lindustrie-2023\" title=\"ESIEE Paris, partenaire des Trophées des femmes de l'industrie 2023\">ESIEE Paris, partenaire des Trophées des femmes de l'industrie 2023</a></h3><p>Jean Mairesse, Directeur Général ESIEE Paris a eu le plaisir de remettre le \" Trophée de la femme au début prometteur \".</p></div></div></div><div class=\"swiper-slide\"><div class=\"article-shortcut article-shortcut-event\"><span class=\"lazy-wrapper\" style=\"max-height: 232px;\"><img alt=\"\" class=\"\" data-src=\"/fileadmin/_processed_/9/5/csm_journee-immersion-1344x756_607813ddcf.jpg\" height=\"232\" src=\"data:image/gif;base64,R0lGODlhAQABAIAAAP///wAAACH5BAEAAAAALAAAAAABAAEAAAICRAEAOw==\" width=\"370\"/><noscript><img alt=\"\" class=\"\" height=\"232\" src=\"/fileadmin/_processed_/9/5/csm_journee-immersion-1344x756_607813ddcf.jpg\" width=\"370\"/></noscript></span><div class=\"content\"><p class=\"meta\"><span class=\"category\">\n",
       "                 \n",
       "                     Immersion\n",
       "                 \n",
       "                     \n",
       "                 \n",
       "                     \n",
       "                 \n",
       "             </span><span class=\"date\">\n",
       "                 \n",
       "                         13 décembre 2023                        \n",
       "                                         \n",
       "             </span></p><h3><a href=\"/actualites/lesiee-cest-ladopter-journee-dimmersion-a-esiee-paris\" title=\"&quot;L’ESIEE, c'est l'adopter !&quot; Journées d'immersion à ESIEE Paris \">\"L’ESIEE, c'est l'adopter !\" Journées d'immersion à ESIEE Paris </a></h3><p>Envie d’en savoir plus sur la réalité de la vie d’un élève en école d’ingénieurs ?</p></div></div></div><div class=\"swiper-slide\"><div class=\"article-shortcut article-shortcut-event\"><span class=\"lazy-wrapper\" style=\"max-height: 232px;\"><img alt=\"\" class=\"\" data-src=\"/fileadmin/_processed_/4/5/csm_game-jam-esiee-paris_1eab0ad4b5.png\" height=\"232\" src=\"data:image/gif;base64,R0lGODlhAQABAIAAAP///wAAACH5BAEAAAAALAAAAAABAAEAAAICRAEAOw==\" width=\"370\"/><noscript><img alt=\"\" class=\"\" height=\"232\" src=\"/fileadmin/_processed_/4/5/csm_game-jam-esiee-paris_1eab0ad4b5.png\" width=\"370\"/></noscript></span><div class=\"content\"><p class=\"meta\"><span class=\"category\">\n",
       "                 \n",
       "                     Evénements\n",
       "                 \n",
       "             </span><span class=\"date\">\n",
       "                 \n",
       "                         \n",
       "                                 Du 20 septembre 2023\n",
       "                                 au 22 septembre 2023\n",
       "                                                     \n",
       "                                         \n",
       "             </span></p><h3><a href=\"/actualites/nouvelle-edition-de-la-game-jam-esiee-paris\" title=\"Nouvelle édition de la Game Jam ESIEE Paris\">Nouvelle édition de la Game Jam ESIEE Paris</a></h3><p>105 élèves ESIEE Paris ont conçu et développé des jeux vidéo sur un thème original. Découvrez leurs créations.</p></div></div></div><div class=\"swiper-slide\"><div class=\"article-shortcut\"><span class=\"lazy-wrapper\" style=\"max-height: 232px;\"><img alt=\"\" class=\"\" data-src=\"/fileadmin/_processed_/2/5/csm_conference-ia-science-trash-1344x840_fb17ec22a3.jpg\" height=\"232\" src=\"data:image/gif;base64,R0lGODlhAQABAIAAAP///wAAACH5BAEAAAAALAAAAAABAAEAAAICRAEAOw==\" width=\"370\"/><noscript><img alt=\"\" class=\"\" height=\"232\" src=\"/fileadmin/_processed_/2/5/csm_conference-ia-science-trash-1344x840_fb17ec22a3.jpg\" width=\"370\"/></noscript></span><div class=\"content\"><p class=\"meta\"><span class=\"category\">\n",
       "                 \n",
       "                     Actualités\n",
       "                 \n",
       "             </span></p><h3><a href=\"/actualites/lia-detruira-telle-lhumanite-une-table-ronde-en-partenariat-avec-science-trash\" title=\"&quot;  L'IA détruira-t-elle l'humanité ?  &quot; : une table ronde en partenariat avec Science trash\">\" L'IA détruira-t-elle l'humanité ? \" : une table ronde en partenariat avec Science trash</a></h3><p>Le lundi 12 juin 2023 à ESIEE Paris a eu lieu une table ronde dans le but de répondre à la question suivante : \"  L'IA...</p></div></div></div><div class=\"swiper-slide\"><div class=\"article-shortcut\"><span class=\"lazy-wrapper\" style=\"max-height: 232px;\"><img alt=\"\" class=\"\" data-src=\"/fileadmin/_processed_/f/0/csm_illustration-ingenieuses-2023-1344x840_85927aa5e2.jpg\" height=\"232\" src=\"data:image/gif;base64,R0lGODlhAQABAIAAAP///wAAACH5BAEAAAAALAAAAAABAAEAAAICRAEAOw==\" width=\"370\"/><noscript><img alt=\"\" class=\"\" height=\"232\" src=\"/fileadmin/_processed_/f/0/csm_illustration-ingenieuses-2023-1344x840_85927aa5e2.jpg\" width=\"370\"/></noscript></span><div class=\"content\"><p class=\"meta\"><span class=\"category\">\n",
       "                 \n",
       "                     Féminisation\n",
       "                 \n",
       "                     \n",
       "                 \n",
       "             </span></p><h3><a href=\"/actualites/esiee-paris-nomine-lors-de-la-13e-edition-de-loperaion-ingenieurses\" title=\"ESIEE Paris nominé lors de la 13e édition de l'opération &quot;  ingénieuses  &quot;\">ESIEE Paris nominé lors de la 13e édition de l'opération \" ingénieuses \"</a></h3><p>Le projet \"  Et Si Ingénieur s'Écrivait avec un E  \", porté par ESIEE Paris a été nominé lors de l'édition 2023 de \" ...</p></div></div></div><div class=\"swiper-slide\"><div class=\"article-shortcut\"><span class=\"lazy-wrapper\" style=\"max-height: 232px;\"><img alt=\"\" class=\"\" data-src=\"/fileadmin/_processed_/6/0/csm_illustration-best-paper-award-1344x840_6724a73fb6.jpg\" height=\"232\" src=\"data:image/gif;base64,R0lGODlhAQABAIAAAP///wAAACH5BAEAAAAALAAAAAABAAEAAAICRAEAOw==\" width=\"370\"/><noscript><img alt=\"\" class=\"\" height=\"232\" src=\"/fileadmin/_processed_/6/0/csm_illustration-best-paper-award-1344x840_6724a73fb6.jpg\" width=\"370\"/></noscript></span><div class=\"content\"><p class=\"meta\"><span class=\"category\">\n",
       "                 \n",
       "                     Distinctions\n",
       "                 \n",
       "                     \n",
       "                 \n",
       "                     \n",
       "                 \n",
       "             </span></p><h3><a href=\"/actualites/veronica-belmega-enseignante-chercheuse-a-esiee-paris-remporte-un-best-paper-award-a-la-conference-icl-gnss\" title=\"Veronica Belmega, enseignante-chercheuse à ESIEE Paris, remporte un Best Paper Award\">Veronica Belmega, enseignante-chercheuse à ESIEE Paris, remporte un Best Paper Award</a></h3><p>Découvrez son article sur la localisation dans les réseaux GNSS via machine (deep) learning.</p></div></div></div><div class=\"swiper-slide\"><div class=\"article-shortcut\"><span class=\"lazy-wrapper\" style=\"max-height: 232px;\"><img alt=\"\" class=\"\" data-src=\"/fileadmin/_processed_/5/d/csm_signature-partenariat-orange-mai-2023-1344x840_eece6c482f.jpg\" height=\"232\" src=\"data:image/gif;base64,R0lGODlhAQABAIAAAP///wAAACH5BAEAAAAALAAAAAABAAEAAAICRAEAOw==\" width=\"370\"/><noscript><img alt=\"\" class=\"\" height=\"232\" src=\"/fileadmin/_processed_/5/d/csm_signature-partenariat-orange-mai-2023-1344x840_eece6c482f.jpg\" width=\"370\"/></noscript></span><div class=\"content\"><p class=\"meta\"><span class=\"category\">\n",
       "                 \n",
       "                     Entreprises\n",
       "                 \n",
       "             </span></p><h3><a href=\"/actualites/orange-et-esiee-paris-signent-une-convention-de-partenariat\" title=\"Orange et ESIEE Paris signent une convention de partenariat\">Orange et ESIEE Paris signent une convention de partenariat</a></h3><p>Ce mercredi 31 mai 2023, Orange et ESIEE Paris ont signé un nouvelle convention de partenariat</p></div></div></div><div class=\"swiper-slide\"><div class=\"article-shortcut\"><span class=\"lazy-wrapper\" style=\"max-height: 232px;\"><img alt=\"\" class=\"\" data-src=\"/fileadmin/_processed_/b/0/csm_camille-fahy-cycliste-1344x756_af0832b451.jpg\" height=\"232\" src=\"data:image/gif;base64,R0lGODlhAQABAIAAAP///wAAACH5BAEAAAAALAAAAAABAAEAAAICRAEAOw==\" width=\"370\"/><noscript><img alt=\"\" class=\"\" height=\"232\" src=\"/fileadmin/_processed_/b/0/csm_camille-fahy-cycliste-1344x756_af0832b451.jpg\" width=\"370\"/></noscript></span><div class=\"content\"><p class=\"meta\"><span class=\"category\">\n",
       "                 \n",
       "                     Sport\n",
       "                 \n",
       "                     \n",
       "                 \n",
       "             </span></p><h3><a href=\"/actualites/camille-fahy-etudiante-a-esiee-paris-devient-cycliste-professionnelle\" title=\"Camille Fahy, étudiante à ESIEE Paris devient cycliste professionnelle\">Camille Fahy, étudiante à ESIEE Paris devient cycliste professionnelle</a></h3><p>Camille Fahy, étudiante en 2e année du premier cycle à ESIEE Paris a commencé le cyclisme en compétition dès l’âge de 11...</p></div></div></div><div class=\"swiper-slide\"><div class=\"article-shortcut\"><span class=\"lazy-wrapper\" style=\"max-height: 232px;\"><img alt=\"\" class=\"\" data-src=\"/fileadmin/_processed_/3/2/csm_olivier-francais-1344x840_d151119c68.jpg\" height=\"232\" src=\"data:image/gif;base64,R0lGODlhAQABAIAAAP///wAAACH5BAEAAAAALAAAAAABAAEAAAICRAEAOw==\" width=\"370\"/><noscript><img alt=\"\" class=\"\" height=\"232\" src=\"/fileadmin/_processed_/3/2/csm_olivier-francais-1344x840_d151119c68.jpg\" width=\"370\"/></noscript></span><div class=\"content\"><p class=\"meta\"><span class=\"category\">\n",
       "                 \n",
       "                     Actualités\n",
       "                 \n",
       "                     \n",
       "                 \n",
       "             </span></p><h3><a href=\"/actualites/olivier-francais-est-nomme-nouveau-doyen-du-corps-professoral-esiee-paris\" title=\"Olivier Français est nommé nouveau doyen du corps professoral ESIEE Paris\">Olivier Français est nommé nouveau doyen du corps professoral ESIEE Paris</a></h3><p>Olivier Français a été élu le jeudi 16 mars 2023 par l’ensemble de l’équipe enseignante ESIEE Paris en tant que nouveau...</p></div></div></div><div class=\"swiper-slide\"><div class=\"article-shortcut\"><span class=\"lazy-wrapper\" style=\"max-height: 232px;\"><img alt=\"\" class=\"\" data-src=\"/fileadmin/_processed_/3/c/csm_logo-actu-cwur-1344x840_96aa069e0e.jpg\" height=\"232\" src=\"data:image/gif;base64,R0lGODlhAQABAIAAAP///wAAACH5BAEAAAAALAAAAAABAAEAAAICRAEAOw==\" width=\"370\"/><noscript><img alt=\"\" class=\"\" height=\"232\" src=\"/fileadmin/_processed_/3/c/csm_logo-actu-cwur-1344x840_96aa069e0e.jpg\" width=\"370\"/></noscript></span><div class=\"content\"><p class=\"meta\"><span class=\"category\">\n",
       "                 \n",
       "                     Classements\n",
       "                 \n",
       "                     \n",
       "                 \n",
       "             </span></p><h3><a href=\"/actualites/luniversite-gustave-eiffel-parmi-les-meilleures-universites-au-monde-selon-cwur\" title=\"L'université Gustave Eiffel parmi les 3% des meilleures universités au monde selon CWUR\">L'université Gustave Eiffel parmi les 3% des meilleures universités au monde selon CWUR</a></h3><p>Le 15 mai 2023, le Center for World University Rankings (CWUR) a publié son classement des 2 000 meilleurs...</p></div></div></div><div class=\"swiper-slide\"><div class=\"article-shortcut article-shortcut-story\"><span class=\"lazy-wrapper\" style=\"max-height: 500px;\"><img alt=\"\" class=\"\" data-src=\"/fileadmin/_processed_/e/a/csm_story-classements-540x960_1f891460f0.jpg\" height=\"500\" src=\"data:image/gif;base64,R0lGODlhAQABAIAAAP///wAAACH5BAEAAAAALAAAAAABAAEAAAICRAEAOw==\" width=\"370\"/><noscript><img alt=\"\" class=\"\" height=\"500\" src=\"/fileadmin/_processed_/e/a/csm_story-classements-540x960_1f891460f0.jpg\" width=\"370\"/></noscript></span><div class=\"content\"><h3><a href=\"/actualites/classements\" title=\"Classements\">Classements</a></h3><p class=\"meta\"><span class=\"category\">\n",
       "                 \n",
       "                     Story\n",
       "                 \n",
       "                     \n",
       "                 \n",
       "             </span><span class=\"date\">26 mai 2023</span></p></div></div></div><div class=\"swiper-slide\"><div class=\"article-shortcut\"><span class=\"lazy-wrapper\" style=\"max-height: 232px;\"><img alt=\"\" class=\"\" data-src=\"/fileadmin/_processed_/b/4/csm_carte-grand-paris-1344x756_f1f626f07b.jpg\" height=\"232\" src=\"data:image/gif;base64,R0lGODlhAQABAIAAAP///wAAACH5BAEAAAAALAAAAAABAAEAAAICRAEAOw==\" width=\"370\"/><noscript><img alt=\"\" class=\"\" height=\"232\" src=\"/fileadmin/_processed_/b/4/csm_carte-grand-paris-1344x756_f1f626f07b.jpg\" width=\"370\"/></noscript></span><div class=\"content\"><p class=\"meta\"><span class=\"category\">\n",
       "                 \n",
       "                     Actualités\n",
       "                 \n",
       "                     \n",
       "                 \n",
       "             </span></p><h3><a href=\"/actualites/esiee-paris-au-coeur-des-nouvelles-lignes-du-grand-paris\" title=\"ESIEE Paris au coeur des nouvelles lignes du grand Paris\">ESIEE Paris au coeur des nouvelles lignes du grand Paris</a></h3><p>Découvrez la future gare et les deux nouvelles lignes de métro qui desserviront la gare de Noisy-Champs.</p></div></div></div><div class=\"swiper-slide\"><div class=\"article-shortcut article-shortcut-story\"><span class=\"lazy-wrapper\" style=\"max-height: 500px;\"><img alt=\"\" class=\"\" data-src=\"/fileadmin/_processed_/7/0/csm_story-feminisation-540x960_6e3222ad89.jpg\" height=\"500\" src=\"data:image/gif;base64,R0lGODlhAQABAIAAAP///wAAACH5BAEAAAAALAAAAAABAAEAAAICRAEAOw==\" width=\"370\"/><noscript><img alt=\"\" class=\"\" height=\"500\" src=\"/fileadmin/_processed_/7/0/csm_story-feminisation-540x960_6e3222ad89.jpg\" width=\"370\"/></noscript></span><div class=\"content\"><h3><a href=\"/actualites/toutes-ingenieures\" title=\"Toutes ingénieures\">Toutes ingénieures</a></h3><p class=\"meta\"><span class=\"category\">\n",
       "                 \n",
       "                     Story\n",
       "                 \n",
       "                     \n",
       "                 \n",
       "                     \n",
       "                 \n",
       "             </span></p></div></div></div></div><div class=\"swiper-navigation\"><div><div class=\"swiper-button-prev\"></div><div class=\"swiper-button-next\"></div></div><ul class=\"button-list primary justify-content-end\"><li><a href=\"/actualites\">Toutes les actualités</a></li></ul></div></div><!--TYPO3SEARCH_begin--></div></div></section></div><div class=\"frame frame-default frame-type-esieesitepackage_landingvideo frame-layout-0\" id=\"c31\"><div class=\"container\"><section class=\"landing landing-video\"><video aria-hidden=\"true\" autoplay=\"\" class=\"lazy\" loop=\"\" muted=\"\" preload=\"metadata\"><source data-src=\"/fileadmin/user_upload/Fichiers/videos/ESIEEParisVueDuCielHomeWeb.mp4\" type=\"video/mp4\"/></video><div class=\"wrapper\"><div class=\"container\"><h2><strong>Un cadre unique</strong> où étudier, près de paris</h2><div class=\"cke_editable\"><p>Une école en forme d'ordinateur. Découvrez notre vaste bâtiment à l'architecture futuriste implanté au coeur d'un campus de 17 000 étudiants, conçu par l'architecte Dominique Perrault.</p></div><ul class=\"button-list uppercase\"><li><a href=\"/vie-de-campus/la-vie-sur-le-campus\">Découvrir le campus</a></li><li><a href=\"/lecole/visite-virtuelle-esiee-paris\">Visite virtuelle</a></li><li><a href=\"/lecole/pourquoi-choisir-esiee-paris\">En savoir plus</a></li></ul></div></div></section></div></div><div class=\"frame frame-default frame-type-esieesitepackage_containersection frame-layout-0\" id=\"c33\"><section class=\"\"><div class=\"container\"><div class=\"frame frame-default frame-type-list frame-layout-0\" id=\"c8\"><header><h2 class=\"\" id=\"c8-header\">\n",
       "                 Toutes les <strong>filières</strong></h2></header><div class=\"swiper swiper-4-slide-per-view\"><div class=\"swiper-wrapper\"><div class=\"swiper-slide\"><div class=\"light\"><a class=\"pill primary\" href=\"/formations/ingenieur/filieres/informatique\"><h3><strong>Informatique</strong></h3></a><p><strong>Ingénieur</strong></p></div></div><div class=\"swiper-slide\"><div class=\"light\"><a class=\"pill primary\" href=\"/formations/ingenieur/filieres/cybersecurite\"><h3><strong>Cybersécurité</strong></h3></a><p><strong>Ingénieur</strong></p></div></div><div class=\"swiper-slide\"><div class=\"light\"><a class=\"pill primary\" href=\"/formations/ingenieur-par-apprentissage/systemes-embarques\"><h3><strong>Systèmes embarqués </strong></h3></a><p>Transports et objets intelligents</p><p><strong>Ingénieur par apprentissage</strong></p></div></div><div class=\"swiper-slide\"><div class=\"light\"><a class=\"pill primary\" href=\"/formations/ingenieur-par-apprentissage/informatique-design-architecture-et-developpement\"><h3><strong>Informatique, design, architecture et développement</strong></h3></a><p><strong>Ingénieur par apprentissage</strong></p></div></div><div class=\"swiper-slide\"><div class=\"light\"><a class=\"pill primary\" href=\"/formations/ingenieur-par-apprentissage/informatique-et-applications\"><h3><strong>Informatique et applications</strong></h3></a><p>Ingénierie 3D et technologie des médias</p><p><strong>Ingénieur par apprentissage</strong></p></div></div><div class=\"swiper-slide\"><div class=\"light\"><a class=\"pill primary\" href=\"/formations/ingenieur/filieres/artificial-intelligence-and-cybersecurity\"><h3><strong>Artificial intelligence and cybersecurity</strong></h3></a><p><strong>Ingénieur</strong></p></div></div><div class=\"swiper-slide\"><div class=\"light\"><a class=\"pill primary\" href=\"/formations/ingenieur/filieres/data-science-et-intelligence-artificielle\"><h3><strong>Datascience et intelligence artificielle</strong></h3></a><p><strong>Ingénieur</strong></p></div></div><div class=\"swiper-slide\"><div class=\"light\"><a class=\"pill primary\" href=\"/formations/ingenieur-par-apprentissage/reseaux-et-securite\"><h3><strong>Réseaux et sécurité </strong></h3></a><p>Architecture et Internet des objects</p><p><strong>Ingénieur par apprentissage</strong></p></div></div><div class=\"swiper-slide\"><div class=\"light\"><a class=\"pill primary\" href=\"/formations/ingenieur/filieres/systemes-embarques\"><h3><strong>Systèmes embarqués</strong></h3></a><p><strong>Ingénieur</strong></p></div></div><div class=\"swiper-slide\"><div class=\"light\"><a class=\"pill primary\" href=\"/formations/ingenieur-par-apprentissage/electronique-et-informatique\"><h3><strong>Electronique et informatique</strong></h3></a><p><strong>Ingénieur par apprentissage</strong></p></div></div><div class=\"swiper-slide\"><div class=\"light\"><a class=\"pill primary\" href=\"/formations/programmes-internationaux/msc-management-of-technology-information-systems\"><h3><strong>M.Sc. Management of technology - Information systems</strong></h3></a><p><strong>Programmes internationaux</strong></p></div></div><div class=\"swiper-slide\"><div class=\"light\"><a class=\"pill primary\" href=\"/formations/programmes-internationaux/filliere-artificial-intelligence-and-cybersecurity\"><h3><strong>Master in Artificial intelligence and cybersecurity</strong></h3></a><p><strong>Programmes internationaux</strong></p></div></div><div class=\"swiper-slide\"><div class=\"light\"><a class=\"pill primary\" href=\"/formations/licence-professionnelle\"><h3><strong>Licence professionnelle</strong></h3></a><p>Maintenance des systèmes industriels, de production et d’énergie maintenance industrielle et sûreté des process</p><p><strong>Licence professionnelle</strong></p></div></div><div class=\"swiper-slide\"><div class=\"light\"><a class=\"pill primary\" href=\"/formations/ingenieur/filieres/genie-industriel\"><h3><strong>Génie industriel</strong></h3></a><p><strong>Ingénieur</strong></p></div></div><div class=\"swiper-slide\"><div class=\"light\"><a class=\"pill primary\" href=\"/formations/ingenieur-par-apprentissage/genie-industriel\"><h3><strong>Génie industriel</strong></h3></a><p>Supply chain et numérique</p><p><strong>Ingénieur par apprentissage</strong></p></div></div><div class=\"swiper-slide\"><div class=\"light\"><a class=\"pill primary\" href=\"/formations/ingenieur/filieres/systemes-electroniques-intelligents\"><h3><strong>Systèmes électroniques intelligents</strong></h3></a><p><strong>Ingénieur</strong></p></div></div><div class=\"swiper-slide\"><div class=\"light\"><a class=\"pill primary\" href=\"/formations/ingenieur-par-apprentissage/genie-mecanique\"><h3><strong>Génie mécanique</strong></h3></a><p><strong>Ingénieur par apprentissage</strong></p></div></div><div class=\"swiper-slide\"><div class=\"light\"><a class=\"pill primary\" href=\"/formations/ingenieur/filieres/biotechnologies-et-e-sante\"><h3><strong>Biotechnologies et e-santé</strong></h3></a><p><strong>Ingénieur</strong></p></div></div><div class=\"swiper-slide\"><div class=\"light\"><a class=\"pill primary\" href=\"/formations/ingenieur-par-apprentissage/maintenance-et-fiabilite-des-processus-industriels\"><h3><strong>Maintenance et fiabilité des processus industriels</strong></h3></a><p><strong>Ingénieur par apprentissage</strong></p></div></div><div class=\"swiper-slide\"><div class=\"light\"><a class=\"pill primary\" href=\"/formations/ingenieur/filieres/energie\"><h3><strong>Energie</strong></h3></a><p><strong>Ingénieur</strong></p></div></div><div class=\"swiper-slide\"><div class=\"light\"><a class=\"pill primary\" href=\"/formations/ingenieur-par-apprentissage/genie-civil\"><h3><strong>Génie civil</strong></h3></a><p><strong>Ingénieur par apprentissage</strong></p></div></div><div class=\"swiper-slide\"><div class=\"light\"><a class=\"pill primary\" href=\"/formations/bachelor\"><h3><strong>Bachelor</strong></h3></a><p>Économie, Sciences et Technologies Multimédia (BEST'm)</p><p><strong>Bachelor</strong></p></div></div><div class=\"swiper-slide\"><div class=\"light\"><a class=\"pill primary\" href=\"/formations/ingenieur-par-apprentissage/energies\"><h3><strong>Energies</strong></h3></a><p>Ingénierie de la transition énergétique</p><p><strong>Ingénieur par apprentissage</strong></p></div></div><div class=\"swiper-slide\"><div class=\"light\"><a class=\"pill primary\" href=\"/formations/ingenieur/filieres/imac\"><h3><strong>Formation d'ingénieur IMAC</strong></h3></a><p><strong>Ingénieur</strong></p></div></div></div><div class=\"swiper-navigation\"><div><div class=\"swiper-button-prev\"></div><div class=\"swiper-button-next\"></div></div></div></div></div></div></section></div><div class=\"frame frame-default frame-type-esieesitepackage_containersection frame-layout-0\" id=\"c36\"><section class=\"bg-primary\"><div class=\"container\"><div class=\"frame frame-default frame-type-textpic frame-layout-0\" id=\"c804\"><div class=\"ce-textpic ce-right ce-intext ce-nowrap\"><div class=\"ce-gallery\" data-ce-columns=\"1\" data-ce-images=\"1\"><div class=\"ce-row\"><div class=\"ce-column\"><figure class=\"image\"><span class=\"lazy-wrapper\"><img alt=\"\" class=\"image-embed-item\" data-src=\"/fileadmin/_processed_/1/3/csm_test-T20-image_2c0b9a4f93.png\" height=\"232\" src=\"data:image/gif;base64,R0lGODlhAQABAIAAAP///wAAACH5BAEAAAAALAAAAAABAAEAAAICRAEAOw==\" width=\"570\"/><noscript><img alt=\"\" class=\"image-embed-item\" height=\"232\" src=\"/fileadmin/_processed_/1/3/csm_test-T20-image_2c0b9a4f93.png\" width=\"570\"/></noscript></span></figure></div></div></div><div class=\"ce-bodytext\"><header><h3 class=\"\">\n",
       "                 Vous rêvez d'une <strong>expérience à l'étranger ?</strong></h3></header><div class=\"cke_editable\"><p>Les élèves effectuent un séjour de 4 mois minimum à l'étranger.</p><p><a class=\"btn-primary\" href=\"/international/une-large-ouverture-a-linternational\" target=\"_blank\" title=\"Ouvre une nouvelle fenêtre\">Découvrir</a></p></div></div></div></div></div></section></div><div class=\"frame frame-default frame-type-esieesitepackage_containersection frame-layout-0\" id=\"c42\"><section class=\"\"><div class=\"container\"><div class=\"frame frame-default frame-type-textpic frame-layout-0 frame-space-before-medium\" id=\"c39\"><div class=\"ce-textpic ce-left ce-intext ce-nowrap\"><div class=\"ce-gallery\" data-ce-columns=\"1\" data-ce-images=\"1\"><div class=\"ce-row\"><div class=\"ce-column\"><figure class=\"image\"><span class=\"lazy-wrapper\"><img alt=\"\" class=\"image-embed-item\" data-src=\"/fileadmin/_processed_/0/f/csm_illustration-recherche-galette-1920x1080_a24a19d4b2.jpg\" height=\"225\" src=\"data:image/gif;base64,R0lGODlhAQABAIAAAP///wAAACH5BAEAAAAALAAAAAABAAEAAAICRAEAOw==\" width=\"400\"/><noscript><img alt=\"\" class=\"image-embed-item\" height=\"225\" src=\"/fileadmin/_processed_/0/f/csm_illustration-recherche-galette-1920x1080_a24a19d4b2.jpg\" width=\"400\"/></noscript></span></figure></div></div></div><div class=\"ce-bodytext\"><div class=\"cke_editable\"><h2>ESIEE Paris <strong>au coeur de la recherche</strong></h2><p>3 axes de recherche, 5 plateformes technologiques, des formations doctorales, de nombreux partenariats entreprises.</p><p><a class=\"btn-secondary\" href=\"/recherche/la-recherche-a-esiee-paris\">Découvrir la recherche à ESIEE Paris</a></p></div></div></div></div><div class=\"frame frame-default frame-type-div frame-layout-0 frame-space-before-medium\" id=\"c59\"><hr class=\"ce-div\"/></div><div class=\"frame frame-default frame-type-esieesitepackage_navigationctaimage frame-layout-0\" id=\"c43\"><header><h2 class=\"\" id=\"c43-header\">\n",
       "                 Relations <strong>entreprises</strong></h2><h3 class=\"\"><strong>Nos services dédiés</strong> pour mieux vous accompagner\n",
       "             </h3></header><ul class=\"cta image\"><li class=\"col-12 col-sm-6 col-lg-3\"><span class=\"lazy-wrapper\" style=\"max-height: 1080px;\"><img alt=\"\" class=\"\" data-src=\"/fileadmin/user_upload/Fichiers/entreprises/recruter-apprentis/illustration-travaux-groupe-1920x1080.jpg\" height=\"1080\" src=\"data:image/gif;base64,R0lGODlhAQABAIAAAP///wAAACH5BAEAAAAALAAAAAABAAEAAAICRAEAOw==\" width=\"1920\"/><noscript><img alt=\"\" class=\"\" height=\"1080\" src=\"/fileadmin/user_upload/Fichiers/entreprises/recruter-apprentis/illustration-travaux-groupe-1920x1080.jpg\" width=\"1920\"/></noscript></span><a class=\"pill big\" href=\"/entreprises/recrutez-des-eleves/recrutez-vos-stagiaires\">Recrutez nos étudiants</a></li><li class=\"col-12 col-sm-6 col-lg-3\"><span class=\"lazy-wrapper\" style=\"max-height: 1080px;\"><img alt=\"\" class=\"\" data-src=\"/fileadmin/user_upload/Fichiers/entreprises/illustration-innovation-abstaite-1920x1080.jpg\" height=\"1080\" src=\"data:image/gif;base64,R0lGODlhAQABAIAAAP///wAAACH5BAEAAAAALAAAAAABAAEAAAICRAEAOw==\" width=\"1920\"/><noscript><img alt=\"\" class=\"\" height=\"1080\" src=\"/fileadmin/user_upload/Fichiers/entreprises/illustration-innovation-abstaite-1920x1080.jpg\" width=\"1920\"/></noscript></span><a class=\"pill big\" href=\"/entreprises/developpez-vos-projets-technologiques\">Développez vos projets technologiques</a></li><li class=\"col-12 col-sm-6 col-lg-3\"><span class=\"lazy-wrapper\" style=\"max-height: 1080px;\"><img alt=\"\" class=\"\" data-src=\"/fileadmin/user_upload/Fichiers/recherche/illustration-salles-blanches-facade-exterieur-1920x1080.jpg\" height=\"1080\" src=\"data:image/gif;base64,R0lGODlhAQABAIAAAP///wAAACH5BAEAAAAALAAAAAABAAEAAAICRAEAOw==\" width=\"1920\"/><noscript><img alt=\"\" class=\"\" height=\"1080\" src=\"/fileadmin/user_upload/Fichiers/recherche/illustration-salles-blanches-facade-exterieur-1920x1080.jpg\" width=\"1920\"/></noscript></span><a class=\"pill big\" href=\"/lecole/salles-blanches/salles-blanches\">Découvrez les salles blanches</a></li><li class=\"col-12 col-sm-6 col-lg-3\"><span class=\"lazy-wrapper\" style=\"max-height: 1080px;\"><img alt=\"\" class=\"\" data-src=\"/fileadmin/user_upload/Fichiers/entreprises/illustration-entretien-poignee-mains-1920x1080.jpg\" height=\"1080\" src=\"data:image/gif;base64,R0lGODlhAQABAIAAAP///wAAACH5BAEAAAAALAAAAAABAAEAAAICRAEAOw==\" width=\"1920\"/><noscript><img alt=\"\" class=\"\" height=\"1080\" src=\"/fileadmin/user_upload/Fichiers/entreprises/illustration-entretien-poignee-mains-1920x1080.jpg\" width=\"1920\"/></noscript></span><a class=\"pill big\" href=\"/entreprises/soutenez-esiee-paris/devenez-mecene\">Soutenez nos projets</a></li></ul></div><div class=\"frame frame-default frame-type-div frame-layout-0\" id=\"c58\"><hr class=\"ce-div\"/></div><div class=\"frame frame-default frame-type-esieesitepackage_containersection frame-layout-0\" id=\"c912\"><section class=\"\"><div class=\"container\"><div class=\"frame frame-default frame-type-shortcut frame-layout-0\" id=\"c913\"><div class=\"frame frame-default frame-type-esieesitepackage_redactionnelst16-chiffrescles frame-layout-0\" id=\"c1114\"><div class=\"row mb-4\"><div class=\"col-lg-4 text-center\"><p><strong class=\"very-big text-primary\">97 %</strong><br/>\n",
       "                         des jeunes diplômés ont trouvé leur 1er emploi 6 mois après leur sortie (promo 2022)</p></div><div class=\"col-lg-4 text-center\"><p><strong class=\"very-big text-primary\">84 %</strong><br/>\n",
       "                         des élèves ont trouvé un contrat avant même la fin de leur formation</p></div><div class=\"col-lg-4 text-center\"><p><strong class=\"very-big text-primary\">42 072 €</strong><br/>\n",
       "                         Salaire moyen d'embauche (brut) annuel France et international</p></div></div></div></div></div></section></div><div class=\"frame frame-default frame-type-esieesitepackage_redactionnelst44-temoignageslider frame-layout-0 frame-space-before-medium\" id=\"c45\"><div class=\"row\"><div class=\"col\"><h2>Témoignages</h2></div><div class=\"col\"><span class=\"lazy-wrapper\" style=\"max-height: 50px;\"><img alt=\"\" class=\"\" data-src=\"/fileadmin/_processed_/d/8/csm_HappyAtSchool_243c0a85a1.png\" height=\"50\" src=\"data:image/gif;base64,R0lGODlhAQABAIAAAP///wAAACH5BAEAAAAALAAAAAABAAEAAAICRAEAOw==\" width=\"145\"/><noscript><img alt=\"\" class=\"\" height=\"50\" src=\"/fileadmin/_processed_/d/8/csm_HappyAtSchool_243c0a85a1.png\" width=\"145\"/></noscript></span></div></div><div class=\"swiper swiper-3-slide-per-view\"><div class=\"swiper-wrapper\"><div class=\"swiper-slide\"><div class=\"bg-light\"><p class=\"text-center\"><span class=\"lazy-wrapper\" style=\"max-height: 132px;\"><img alt=\"\" class=\"round\" data-src=\"/fileadmin/_processed_/0/9/csm_blank-profile-picture-bleu-400x400_00479b2092.png\" height=\"132\" src=\"data:image/gif;base64,R0lGODlhAQABAIAAAP///wAAACH5BAEAAAAALAAAAAABAAEAAAICRAEAOw==\" width=\"132\"/><noscript><img alt=\"\" class=\"round\" height=\"132\" src=\"/fileadmin/_processed_/0/9/csm_blank-profile-picture-bleu-400x400_00479b2092.png\" width=\"132\"/></noscript></span></p><h3 class=\"mb-0\"><strong class=\"big\">Elève ESIEE Paris</strong></h3><p><span class=\"small\">Avis certifié Happy at School</span></p><div class=\"cke_editable\"><p>\" Ce qui me plait le plus, c'est sans aucun doute l'ambiance. Les étudiants y sont tous très gentils, à l'écoute, et très ouverts. A cela j'ajoute la vie associative, riche et pleine d'opportunités. J'adore ! \"</p></div></div></div><div class=\"swiper-slide\"><div class=\"bg-light\"><p class=\"text-center\"><span class=\"lazy-wrapper\" style=\"max-height: 132px;\"><img alt=\"\" class=\"round\" data-src=\"/fileadmin/_processed_/e/5/csm_blank-profile-picture-rose-400-x-400_ed015df7e9.png\" height=\"132\" src=\"data:image/gif;base64,R0lGODlhAQABAIAAAP///wAAACH5BAEAAAAALAAAAAABAAEAAAICRAEAOw==\" width=\"132\"/><noscript><img alt=\"\" class=\"round\" height=\"132\" src=\"/fileadmin/_processed_/e/5/csm_blank-profile-picture-rose-400-x-400_ed015df7e9.png\" width=\"132\"/></noscript></span></p><h3 class=\"mb-0\"><strong class=\"big\">Elève ESIEE Paris</strong></h3><p><span class=\"small\">Avis certifié Happy at School</span></p><div class=\"cke_editable\"><p>\" Un atout : la relation que nous avons avec les profs. Ils sont toujours là pour répondre à nos questions même hors des cours et veulent notre réussite. \"</p></div></div></div><div class=\"swiper-slide\"><div class=\"bg-light\"><p class=\"text-center\"><span class=\"lazy-wrapper\" style=\"max-height: 132px;\"><img alt=\"\" class=\"round\" data-src=\"/fileadmin/_processed_/0/4/csm_blank-profile-picture-bleu2_400_x_400_97b4966771.png\" height=\"132\" src=\"data:image/gif;base64,R0lGODlhAQABAIAAAP///wAAACH5BAEAAAAALAAAAAABAAEAAAICRAEAOw==\" width=\"132\"/><noscript><img alt=\"\" class=\"round\" height=\"132\" src=\"/fileadmin/_processed_/0/4/csm_blank-profile-picture-bleu2_400_x_400_97b4966771.png\" width=\"132\"/></noscript></span></p><h3 class=\"mb-0\"><strong class=\"big\">Elève ESIEE Paris</strong></h3><p><span class=\"small\">Avis certifié Happy at School</span></p><div class=\"cke_editable\"><p>\" La bonne ambiance, le cadre de travail , les nombreux espaces de travail, les formations proposées et le lien avec les entreprises. \"</p></div></div></div><div class=\"swiper-slide\"><div class=\"bg-light\"><p class=\"text-center\"><span class=\"lazy-wrapper\" style=\"max-height: 132px;\"><img alt=\"\" class=\"round\" data-src=\"/fileadmin/_processed_/1/1/csm_blank-profile-picture-vert-400-x-400_d335e61b02.png\" height=\"132\" src=\"data:image/gif;base64,R0lGODlhAQABAIAAAP///wAAACH5BAEAAAAALAAAAAABAAEAAAICRAEAOw==\" width=\"132\"/><noscript><img alt=\"\" class=\"round\" height=\"132\" src=\"/fileadmin/_processed_/1/1/csm_blank-profile-picture-vert-400-x-400_d335e61b02.png\" width=\"132\"/></noscript></span></p><h3 class=\"mb-0\"><strong class=\"big\">Elève ESIEE Paris</strong></h3><p><span class=\"small\">Avis certifié Happy at School</span></p><div class=\"cke_editable\"><p>\" La proximité avec le corps enseignant. Post assistance : possibilité de contacter facilement un enseignant en cas de question. \"</p></div></div></div><div class=\"swiper-slide\"><div class=\"bg-light\"><p class=\"text-center\"><span class=\"lazy-wrapper\" style=\"max-height: 132px;\"><img alt=\"\" class=\"round\" data-src=\"/fileadmin/_processed_/0/9/csm_blank-profile-picture-bleu-400x400_00479b2092.png\" height=\"132\" src=\"data:image/gif;base64,R0lGODlhAQABAIAAAP///wAAACH5BAEAAAAALAAAAAABAAEAAAICRAEAOw==\" width=\"132\"/><noscript><img alt=\"\" class=\"round\" height=\"132\" src=\"/fileadmin/_processed_/0/9/csm_blank-profile-picture-bleu-400x400_00479b2092.png\" width=\"132\"/></noscript></span></p><h3 class=\"mb-0\"><strong class=\"big\">Elève ESIEE Paris</strong></h3><p><span class=\"small\">Avis certifié Happy at School</span></p><div class=\"cke_editable\"><p>\" L'associatif est très actif dans mon école, et nous avons un gymnase avec une salle de musculation à notre disposition. \"</p></div></div></div><div class=\"swiper-slide\"><div class=\"bg-light\"><p class=\"text-center\"><span class=\"lazy-wrapper\" style=\"max-height: 132px;\"><img alt=\"\" class=\"round\" data-src=\"/fileadmin/_processed_/e/5/csm_blank-profile-picture-rose-400-x-400_ed015df7e9.png\" height=\"132\" src=\"data:image/gif;base64,R0lGODlhAQABAIAAAP///wAAACH5BAEAAAAALAAAAAABAAEAAAICRAEAOw==\" width=\"132\"/><noscript><img alt=\"\" class=\"round\" height=\"132\" src=\"/fileadmin/_processed_/e/5/csm_blank-profile-picture-rose-400-x-400_ed015df7e9.png\" width=\"132\"/></noscript></span></p><h3 class=\"mb-0\"><strong class=\"big\">Elève ESIEE Paris</strong></h3><p><span class=\"small\">Avis certifié Happy at School</span></p><div class=\"cke_editable\"><p>\" L’ambiance, la proximité des étudiants, les événements associatifs, culturels organisés par le BDE et par l’école (journée des entreprises, Potluck, Future Days, Octobre rose…). \"</p></div></div></div><div class=\"swiper-slide\"><div class=\"bg-light\"><p class=\"text-center\"><span class=\"lazy-wrapper\" style=\"max-height: 132px;\"><img alt=\"\" class=\"round\" data-src=\"/fileadmin/_processed_/0/4/csm_blank-profile-picture-bleu2_400_x_400_97b4966771.png\" height=\"132\" src=\"data:image/gif;base64,R0lGODlhAQABAIAAAP///wAAACH5BAEAAAAALAAAAAABAAEAAAICRAEAOw==\" width=\"132\"/><noscript><img alt=\"\" class=\"round\" height=\"132\" src=\"/fileadmin/_processed_/0/4/csm_blank-profile-picture-bleu2_400_x_400_97b4966771.png\" width=\"132\"/></noscript></span></p><h3 class=\"mb-0\"><strong class=\"big\">Elève ESIEE Paris</strong></h3><p><span class=\"small\">Avis certifié Happy at School</span></p><div class=\"cke_editable\"><p>\" Les étudiants sont tous ouverts d’esprit et ultra bienveillants. De même pour les professeurs qui sont disponibles et à l’écoute. Je peux demander à un élève en dernière année de m’aider sur un sujet et sans hésitation, il le fera ! \"</p></div></div></div><div class=\"swiper-slide\"><div class=\"bg-light\"><p class=\"text-center\"><span class=\"lazy-wrapper\" style=\"max-height: 132px;\"><img alt=\"\" class=\"round\" data-src=\"/fileadmin/_processed_/1/1/csm_blank-profile-picture-vert-400-x-400_d335e61b02.png\" height=\"132\" src=\"data:image/gif;base64,R0lGODlhAQABAIAAAP///wAAACH5BAEAAAAALAAAAAABAAEAAAICRAEAOw==\" width=\"132\"/><noscript><img alt=\"\" class=\"round\" height=\"132\" src=\"/fileadmin/_processed_/1/1/csm_blank-profile-picture-vert-400-x-400_d335e61b02.png\" width=\"132\"/></noscript></span></p><h3 class=\"mb-0\"><strong class=\"big\">Elève ESIEE Paris</strong></h3><p><span class=\"small\">Avis certifié Happy at School</span></p><div class=\"cke_editable\"><p>\" L'école pousse les élèves à être plus autonomes et à faire leur propre projet. Elle développe leurs qualités de leadership mais aussi artistiques pour faire des ingénieurs innovants. \"</p></div></div></div><div class=\"swiper-slide\"><div class=\"bg-light\"><p class=\"text-center\"><span class=\"lazy-wrapper\" style=\"max-height: 132px;\"><img alt=\"\" class=\"round\" data-src=\"/fileadmin/_processed_/0/9/csm_blank-profile-picture-bleu-400x400_00479b2092.png\" height=\"132\" src=\"data:image/gif;base64,R0lGODlhAQABAIAAAP///wAAACH5BAEAAAAALAAAAAABAAEAAAICRAEAOw==\" width=\"132\"/><noscript><img alt=\"\" class=\"round\" height=\"132\" src=\"/fileadmin/_processed_/0/9/csm_blank-profile-picture-bleu-400x400_00479b2092.png\" width=\"132\"/></noscript></span></p><h3 class=\"mb-0\"><strong class=\"big\">Elève ESIEE Paris</strong></h3><p><span class=\"small\">Avis certifié Happy at School</span></p><div class=\"cke_editable\"><p>\" Le grand choix d'activités dans lesquelles s'engager (entreprenariat / apprentissage / associatif / double diplôme...). \"<br/>  </p></div></div></div><div class=\"swiper-slide\"><div class=\"bg-light\"><p class=\"text-center\"><span class=\"lazy-wrapper\" style=\"max-height: 132px;\"><img alt=\"\" class=\"round\" data-src=\"/fileadmin/_processed_/e/5/csm_blank-profile-picture-rose-400-x-400_ed015df7e9.png\" height=\"132\" src=\"data:image/gif;base64,R0lGODlhAQABAIAAAP///wAAACH5BAEAAAAALAAAAAABAAEAAAICRAEAOw==\" width=\"132\"/><noscript><img alt=\"\" class=\"round\" height=\"132\" src=\"/fileadmin/_processed_/e/5/csm_blank-profile-picture-rose-400-x-400_ed015df7e9.png\" width=\"132\"/></noscript></span></p><h3 class=\"mb-0\"><strong class=\"big\">Elève ESIEE Paris</strong></h3><p><span class=\"small\">Avis certifié Happy at School</span></p><div class=\"cke_editable\"><p>\" Engagement important de la part des étudiants envers l'inclusion des autres et le maintien d'un sentiment de sécurité (lutte contre les VSS par ex). \"</p></div></div></div><div class=\"swiper-slide\"><div class=\"bg-light\"><p class=\"text-center\"><span class=\"lazy-wrapper\" style=\"max-height: 132px;\"><img alt=\"\" class=\"round\" data-src=\"/fileadmin/_processed_/0/4/csm_blank-profile-picture-bleu2_400_x_400_97b4966771.png\" height=\"132\" src=\"data:image/gif;base64,R0lGODlhAQABAIAAAP///wAAACH5BAEAAAAALAAAAAABAAEAAAICRAEAOw==\" width=\"132\"/><noscript><img alt=\"\" class=\"round\" height=\"132\" src=\"/fileadmin/_processed_/0/4/csm_blank-profile-picture-bleu2_400_x_400_97b4966771.png\" width=\"132\"/></noscript></span></p><h3 class=\"mb-0\"><strong class=\"big\">Elève ESIEE Paris</strong></h3><p><span class=\"small\">Avis certifié Happy at School</span></p><div class=\"cke_editable\"><p>\" Les professeurs ont vraiment envie que les étudiants apprennent donc sont prêts à apporter leur aide en cas de besoin. Quant aux élèves, tous sont dans le respect les uns envers les autres et dans un esprit de solidarité. \"</p></div></div></div></div><div class=\"swiper-navigation\"><div><div class=\"swiper-button-prev\"></div><div class=\"swiper-button-next\"></div></div><ul class=\"button-list primary justify-content-end\"><li><a href=\"/nos-ambassadeurs\">Contactez nos ambassadeurs</a></li></ul></div></div></div><div class=\"frame frame-default frame-type-shortcut frame-layout-0 frame-space-before-extra-large\" id=\"c2341\"><div class=\"frame frame-default frame-type-esieesitepackage_redactionnelst15-partenaires frame-layout-0 frame-space-before-extra-large\" id=\"c46\"><div class=\"row mb-4 justify-content-center\"><div class=\"col-12 col-sm-6 col-lg-3 text-center d-flex align-items-center justify-content-center partenaire\"><a href=\"https://www.cge.asso.fr/\" rel=\"noreferrer\" target=\"_blank\" title=\"Ouvre une nouvelle fenêtre\"><span class=\"lazy-wrapper\" style=\"max-height: 66px;\"><img alt=\"Confédération des grandes écoles\" class=\"a42-ac-replace-img\" data-src=\"/fileadmin/_processed_/0/1/csm_CGE_RVB_c8cfe1001b.png\" height=\"66\" src=\"data:image/gif;base64,R0lGODlhAQABAIAAAP///wAAACH5BAEAAAAALAAAAAABAAEAAAICRAEAOw==\" width=\"200\"/><noscript><img alt=\"Confédération des grandes écoles\" class=\"a42-ac-replace-img\" height=\"66\" src=\"/fileadmin/_processed_/0/1/csm_CGE_RVB_c8cfe1001b.png\" width=\"200\"/></noscript></span></a></div><div class=\"col-12 col-sm-6 col-lg-3 text-center d-flex align-items-center justify-content-center partenaire\"><a href=\"https://www.cti-commission.fr/\" rel=\"noreferrer\" target=\"_blank\" title=\"Ouvre une nouvelle fenêtre\"><span class=\"lazy-wrapper\" style=\"max-height: 105px;\"><img alt=\"Commission des Titres d'Ingénieur (CTI)\" class=\"a42-ac-replace-img\" data-src=\"/fileadmin/_processed_/a/0/csm_cti_logo.svg_64c64e06e1.png\" height=\"105\" src=\"data:image/gif;base64,R0lGODlhAQABAIAAAP///wAAACH5BAEAAAAALAAAAAABAAEAAAICRAEAOw==\" width=\"150\"/><noscript><img alt=\"Commission des Titres d'Ingénieur (CTI)\" class=\"a42-ac-replace-img\" height=\"105\" src=\"/fileadmin/_processed_/a/0/csm_cti_logo.svg_64c64e06e1.png\" width=\"150\"/></noscript></span></a></div><div class=\"col-12 col-sm-6 col-lg-3 text-center d-flex align-items-center justify-content-center partenaire\"><a href=\"https://www.cti-commission.fr/la-cti/demarche-qualite/systeme-qe/eur-ace\" rel=\"noreferrer\" target=\"_blank\" title=\"Ouvre une nouvelle fenêtre\"><span class=\"lazy-wrapper\" style=\"max-height: 75px;\"><img alt=\"EURACE\" class=\"a42-ac-replace-img\" data-src=\"/fileadmin/_processed_/e/1/csm_EUR-ACE_52594b329c.png\" height=\"75\" src=\"data:image/gif;base64,R0lGODlhAQABAIAAAP///wAAACH5BAEAAAAALAAAAAABAAEAAAICRAEAOw==\" width=\"200\"/><noscript><img alt=\"EURACE\" class=\"a42-ac-replace-img\" height=\"75\" src=\"/fileadmin/_processed_/e/1/csm_EUR-ACE_52594b329c.png\" width=\"200\"/></noscript></span></a></div><div class=\"col-12 col-sm-6 col-lg-3 text-center d-flex align-items-center justify-content-center partenaire\"><a href=\"https://www.enseignementsup-recherche.gouv.fr/fr/labels-des-formations-controlees-par-l-etat-46088\" rel=\"noreferrer\" target=\"_blank\" title=\"Ouvre une nouvelle fenêtre\"><span class=\"lazy-wrapper\" style=\"max-height: 174px;\"><img alt=\"Diplôme d'ingénieur\" class=\"a42-ac-replace-img\" data-src=\"/fileadmin/_processed_/6/e/csm_1200px-DL_04_Dip_Ing.svg_0873c534da.png\" height=\"174\" src=\"data:image/gif;base64,R0lGODlhAQABAIAAAP///wAAACH5BAEAAAAALAAAAAABAAEAAAICRAEAOw==\" width=\"150\"/><noscript><img alt=\"Diplôme d'ingénieur\" class=\"a42-ac-replace-img\" height=\"174\" src=\"/fileadmin/_processed_/6/e/csm_1200px-DL_04_Dip_Ing.svg_0873c534da.png\" width=\"150\"/></noscript></span></a></div></div></div></div></div></section></div><!--TYPO3SEARCH_end-->\n",
       " <p class=\"totop\"><a href=\"#top\"><span class=\"sr-only\">Back to the top of the page</span></a></p>\n",
       " </main>]"
      ]
     },
     "execution_count": 104,
     "metadata": {},
     "output_type": "execute_result"
    }
   ],
   "source": [
    "soup.find_all(class_='main')[0:5]"
   ]
  },
  {
   "cell_type": "markdown",
   "metadata": {},
   "source": [
    "Pour récupérer le text sans les balises HTML :"
   ]
  },
  {
   "cell_type": "code",
   "execution_count": 105,
   "metadata": {
    "ExecuteTime": {
     "end_time": "2023-11-20T21:10:38.617396604Z",
     "start_time": "2023-11-20T21:10:38.111940101Z"
    }
   },
   "outputs": [
    {
     "data": {
      "text/plain": [
       "\"\\n\\n\\n\\nESIEE Paris, l'école de l'innovation technologique | ESIEE Paris\\n\\n\\n\\n\\n\\n\\n\\n\\n\\n\\n\\n\\n\\n\\n\\n\\n\\n\\n\\n\\n\\n\\n\\n\\nAller au contenu\\nAller au menu\\nPlan du site\\n\\n\\n\\n\\n\\n\\n\\nBien choisir son école, c'est aussi la rencontrer  ! Rendez-vous à la prochaine journée portes ouvertes le 9 décembre.\\n\\n\\n\\n\\n\\nMasquer l'alerte\\n\\n\\n\\n\\n\\n\\n\\n\\n\\n\\n\\n\\n\\n\\nBrochuresEspace élèves\\n\\n\\n\\nFr\\n\\n\\n\\n\\nEn\\n\\n\\n\\n\\n\\n\\n\\n\\n\\nAfficherMasquer la recherche\\r\\n\\t\\t\\n\\n\\n\\nSaisissez votre recherche\\xa0:\\n\\nLancer la recherche\\n\\n\\n\\nCandidater\\n\\nAfficherMasquer le menu\\n\\n\\n\\n\\n\\nRetour au menu principalAfficherMasquer le sous menu\\xa0: L'écolePourquoi choisir ESIEE Paris ?AfficherMasquer le sous menu\\xa0: Gouvernance et conseilsGouvernance et conseilsConseil scientifiqueAfficherMasquer le sous menu\\xa0: Départements d'enseignements et de rechercheInformatique et télécommunicationsIngénierie des systèmes cyberphysiquesIngénierie industrielleSanté, énergie et environnement durableManagement, sciences humaines et languesCorps professoralAfficherMasquer le sous menu\\xa0: Salles blanchesSalles blanchesÉquipements\""
      ]
     },
     "execution_count": 105,
     "metadata": {},
     "output_type": "execute_result"
    }
   ],
   "source": [
    "soup.text[0:1000]"
   ]
  },
  {
   "cell_type": "code",
   "execution_count": 106,
   "metadata": {
    "ExecuteTime": {
     "end_time": "2023-11-20T21:10:38.668946934Z",
     "start_time": "2023-11-20T21:10:38.616230458Z"
    },
    "collapsed": false,
    "jupyter": {
     "outputs_hidden": false
    }
   },
   "outputs": [],
   "source": [
    "from requests.adapters import HTTPAdapter\n",
    "from requests.packages.urllib3.util.retry import Retry\n",
    "class CustomRequest:\n",
    "    def __init__(self, user_agent=\"MyUserAgent/5.0\", timeout=5, max_retries=3):\n",
    "        self.user_agent = user_agent\n",
    "        self.timeout = timeout\n",
    "        self.max_retries = max_retries\n",
    "        self.session = self._create_session()\n",
    "\n",
    "    def _create_session(self):\n",
    "        session = requests.Session()\n",
    "        retries = Retry(total=self.max_retries,\n",
    "                        backoff_factor=0.1,\n",
    "                        status_forcelist=[500, 502, 503, 504])\n",
    "        adapter = HTTPAdapter(max_retries=retries)\n",
    "        session.mount('http://', adapter)\n",
    "        session.mount('https://', adapter)\n",
    "        return session\n",
    "\n",
    "    def _make_request(self, url):\n",
    "        headers = {'User-Agent': self.user_agent}\n",
    "        try:\n",
    "            response = self.session.get(url, headers=headers, timeout=self.timeout)\n",
    "            response.raise_for_status()\n",
    "            return response\n",
    "        except requests.exceptions.RequestException as e:\n",
    "            print(f\"Error making request: {e}\")\n",
    "            return None"
   ]
  },
  {
   "cell_type": "code",
   "execution_count": 107,
   "metadata": {
    "ExecuteTime": {
     "end_time": "2023-11-20T21:12:37.880566713Z",
     "start_time": "2023-11-20T21:12:37.776196542Z"
    },
    "collapsed": false,
    "jupyter": {
     "outputs_hidden": false
    }
   },
   "outputs": [
    {
     "data": {
      "text/plain": [
       "\"\\n\\n\\n\\nESIEE Paris, l'école de l'innovation technologique | ESIEE Paris\\n\\n\\n\\n\\n\\n\\n\\n\\n\\n\\n\\n\\n\\n\\n\\n\\n\\n\\n\\n\\n\\n\\n\\n\\nAller au contenu\\nAller au menu\\nPlan du site\\n\\n\\n\\n\\n\\n\\n\\nBien choisir son école, c'est aussi la rencontrer  ! Rendez-vous à la prochaine journée portes ouvertes le 9 décembre.\\n\\n\\n\\n\\n\\nMasquer l'alerte\\n\\n\\n\\n\\n\\n\\n\\n\\n\\n\\n\\n\\n\\n\\nBrochuresEspace élèves\\n\\n\\n\\nFr\\n\\n\\n\\n\\nEn\\n\\n\\n\\n\\n\\n\\n\\n\\n\\nAfficherMasquer la recherche\\r\\n\\t\\t\\n\\n\\n\\nSaisissez votre recherche\\xa0:\\n\\nLancer la recherche\\n\\n\\n\\nCandidater\\n\\nAfficherMasquer le menu\\n\\n\\n\\n\\n\\nRetour au menu principalAfficherMasquer le sous menu\\xa0: L'écolePourquoi choisir ESIEE Paris ?AfficherMasquer le sous menu\\xa0: Gouvernance et conseilsGouvernance et conseilsConseil scientifiqueAfficherMasquer le sous menu\\xa0: Départements d'enseignements et de rechercheInformatique et télécommunicationsIngénierie des systèmes cyberphysiquesIngénierie industrielleSanté, énergie et environnement durableManagement, sciences humaines et languesCorps professoralAfficherMasquer le sous menu\\xa0: Salles blanchesSalles blanchesÉquipements\""
      ]
     },
     "execution_count": 107,
     "metadata": {},
     "output_type": "execute_result"
    }
   ],
   "source": [
    "custom_request = CustomRequest()\n",
    "response = custom_request._make_request(url)\n",
    "soup = BeautifulSoup(response.text)\n",
    "soup.text[0:1000]"
   ]
  },
  {
   "cell_type": "code",
   "execution_count": 108,
   "metadata": {
    "ExecuteTime": {
     "end_time": "2023-11-20T21:14:22.253817675Z",
     "start_time": "2023-11-20T21:14:22.186682817Z"
    },
    "collapsed": false,
    "jupyter": {
     "outputs_hidden": false
    }
   },
   "outputs": [],
   "source": [
    "def remove_extra_spaces(input_string):\n",
    "    return ' '.join(input_string.split())"
   ]
  },
  {
   "cell_type": "code",
   "execution_count": 109,
   "metadata": {
    "ExecuteTime": {
     "end_time": "2023-11-20T21:14:58.533624421Z",
     "start_time": "2023-11-20T21:14:58.493146306Z"
    },
    "collapsed": false,
    "jupyter": {
     "outputs_hidden": false
    }
   },
   "outputs": [],
   "source": [
    "import re\n",
    "\n",
    "def clean_html_string(html_string):\n",
    "    soup = BeautifulSoup(html_string, 'html.parser')\n",
    "    cleaned_text = re.sub(r'\\s+', ' ', soup.get_text().strip())\n",
    "    return cleaned_text"
   ]
  },
  {
   "cell_type": "code",
   "execution_count": 110,
   "metadata": {
    "ExecuteTime": {
     "end_time": "2023-11-20T21:15:26.550102730Z",
     "start_time": "2023-11-20T21:15:26.536289188Z"
    },
    "collapsed": false,
    "jupyter": {
     "outputs_hidden": false
    }
   },
   "outputs": [],
   "source": [
    "from urllib.parse import urlparse\n",
    "\n",
    "def get_domain_from_url(url):\n",
    "    parsed_url = urlparse(url)\n",
    "    return parsed_url.netloc"
   ]
  },
  {
   "cell_type": "code",
   "execution_count": 111,
   "metadata": {
    "ExecuteTime": {
     "end_time": "2023-11-20T21:15:37.418060432Z",
     "start_time": "2023-11-20T21:15:37.000618328Z"
    },
    "collapsed": false,
    "jupyter": {
     "outputs_hidden": false
    }
   },
   "outputs": [
    {
     "name": "stdout",
     "output_type": "stream",
     "text": [
      "www.esiee.fr\n"
     ]
    }
   ],
   "source": [
    "domain = get_domain_from_url(url)\n",
    "print(domain)"
   ]
  },
  {
   "cell_type": "markdown",
   "metadata": {},
   "source": [
    "## Exercice\n",
    "### Exercice 3\n",
    "\n",
    "Améliorer la classe développé précédemment.\n",
    "\n",
    "- Ajouter une méthode pour récupérer l'objet soup d'un url\n",
    "- Récupérer une liste de User Agent et effectuer une rotation aléatoire sur celui à utiliser\n",
    "- Utiliser cette classe pour parser une page HTML et récupérer : le titre, tous les H1 (si ils existent), les liens vers les images, les liens sortants vers d'autres sites, et le texte principal.\n",
    "\n",
    "Parsing d'un sitemaps pour récupérer une listes de liens avec les informations disponibles. -> Stocker dans un dictionnaire et dans un fichier JSON local."
   ]
  },
  {
   "cell_type": "code",
   "execution_count": 112,
   "metadata": {
    "ExecuteTime": {
     "end_time": "2023-11-20T21:22:22.101207182Z",
     "start_time": "2023-11-20T21:22:21.990464246Z"
    },
    "collapsed": false,
    "jupyter": {
     "outputs_hidden": false
    }
   },
   "outputs": [],
   "source": [
    "import requests\n",
    "from requests.adapters import HTTPAdapter\n",
    "from requests.packages.urllib3.util.retry import Retry\n",
    "from bs4 import BeautifulSoup\n",
    "from urllib.parse import urlparse, urljoin\n",
    "import random\n",
    "import json\n",
    "\n",
    "class CustomRequest:\n",
    "    def __init__(self, user_agents=None, timeout=5, max_retries=3):\n",
    "        self.user_agents = user_agents or [\"Mozilla/5.0\", \"Chrome/39.0.2171.95\"]\n",
    "        self.timeout = timeout\n",
    "        self.max_retries = max_retries\n",
    "        self.session = self._create_session()\n",
    "\n",
    "    def _create_session(self):\n",
    "        session = requests.Session()\n",
    "        retries = Retry(total=self.max_retries,\n",
    "                        backoff_factor=0.1,\n",
    "                        status_forcelist=[500, 502, 503, 504])\n",
    "        adapter = HTTPAdapter(max_retries=retries)\n",
    "        session.mount('http://', adapter)\n",
    "        session.mount('https://', adapter)\n",
    "        return session\n",
    "\n",
    "    def _make_request(self, url):\n",
    "        headers = {'User-Agent': random.choice(self.user_agents)}\n",
    "        try:\n",
    "            response = self.session.get(url, headers=headers, timeout=self.timeout)\n",
    "            response.raise_for_status()\n",
    "            return response\n",
    "        except requests.exceptions.RequestException as e:\n",
    "            print(f\"Error making request: {e}\")\n",
    "            return None\n",
    "\n",
    "    def get_soup(self, url):\n",
    "        response = self._make_request(url)\n",
    "\n",
    "        if response is None:\n",
    "            return None\n",
    "\n",
    "        soup = BeautifulSoup(response.text, 'html.parser')\n",
    "        return soup\n",
    "\n",
    "    def rotate_user_agent(self):\n",
    "        return random.choice(self.user_agents)\n",
    "\n",
    "    def parse_html_page(self, url):\n",
    "        soup = self.get_soup(url)\n",
    "\n",
    "        if soup:\n",
    "            title = soup.title.text.strip() if soup.title else None\n",
    "            h1_tags = [h1.text.strip() for h1 in soup.find_all('h1')]\n",
    "            img_links = [img['src'] for img in soup.find_all('img', src=True)]\n",
    "            external_links = [a['href'] for a in soup.find_all('a', href=True) if not urlparse(a['href']).netloc == urlparse(url).netloc]\n",
    "            main_text = soup.get_text().strip()\n",
    "\n",
    "            page_info = {\n",
    "                'url': url,\n",
    "                'title': title,\n",
    "                'h1_tags': h1_tags,\n",
    "                'img_links': img_links,\n",
    "                'external_links': external_links,\n",
    "                'main_text': main_text\n",
    "            }\n",
    "\n",
    "            return page_info\n",
    "        else:\n",
    "            return None\n",
    "\n",
    "    def parse_sitemap(self, sitemap_url, output_file=\"sitemap_data.json\"):\n",
    "        soup = self.get_soup(sitemap_url)\n",
    "\n",
    "        if soup:\n",
    "            links = [loc.text.strip() for loc in soup.find_all('loc')]\n",
    "            sitemap_data = {}\n",
    "\n",
    "            for link in links:\n",
    "                page_info = self.parse_html_page(link)\n",
    "                if page_info:\n",
    "                    sitemap_data[link] = page_info\n",
    "\n",
    "            with open(output_file, 'w', encoding='utf-8') as json_file:\n",
    "                json.dump(sitemap_data, json_file, ensure_ascii=False, indent=2)\n",
    "\n",
    "            print(f\"Sitemap data has been saved to {output_file}\")\n",
    "            return sitemap_data\n",
    "        else:\n",
    "            return None"
   ]
  },
  {
   "cell_type": "code",
   "execution_count": 113,
   "metadata": {
    "ExecuteTime": {
     "end_time": "2023-11-20T21:23:19.816329429Z",
     "start_time": "2023-11-20T21:23:19.606446510Z"
    },
    "collapsed": false,
    "jupyter": {
     "outputs_hidden": false
    }
   },
   "outputs": [
    {
     "name": "stdout",
     "output_type": "stream",
     "text": [
      "{'url': 'http://www.esiee.fr/', 'title': \"ESIEE Paris, l'école de l'innovation technologique | ESIEE Paris\", 'h1_tags': [''], 'img_links': ['/typo3conf/ext/esiee_sitepackage/Resources/Public/imgs/svg/logo-esiee.svg', 'data:image/gif;base64,R0lGODlhAQABAIAAAP///wAAACH5BAEAAAAALAAAAAABAAEAAAICRAEAOw==', '/fileadmin/_processed_/2/4/csm_ESIEE-Home-Main-Picture_ff09bd6b6e.jpg', 'data:image/gif;base64,R0lGODlhAQABAIAAAP///wAAACH5BAEAAAAALAAAAAABAAEAAAICRAEAOw==', '/fileadmin/_processed_/1/e/csm_eleves-groupe-galerie-1344x840_0f06698b28.jpg', 'data:image/gif;base64,R0lGODlhAQABAIAAAP///wAAACH5BAEAAAAALAAAAAABAAEAAAICRAEAOw==', '/fileadmin/_processed_/6/2/csm_forum-descartes-rue-2019-1344x840_eb74cce508.jpg', 'data:image/gif;base64,R0lGODlhAQABAIAAAP///wAAACH5BAEAAAAALAAAAAABAAEAAAICRAEAOw==', '/fileadmin/_processed_/c/8/csm_illustration-concours-jeunes-talents-orange-2023-1344x840_b06c9809ff.jpg', 'data:image/gif;base64,R0lGODlhAQABAIAAAP///wAAACH5BAEAAAAALAAAAAABAAEAAAICRAEAOw==', '/fileadmin/_processed_/c/1/csm_actu-classement-logo-ranking-1344x840_ec9b640c4f.jpg', 'data:image/gif;base64,R0lGODlhAQABAIAAAP///wAAACH5BAEAAAAALAAAAAABAAEAAAICRAEAOw==', '/fileadmin/_processed_/3/6/csm_eleves-esiee-etudes-1344x840_e502c91148.jpg', 'data:image/gif;base64,R0lGODlhAQABAIAAAP///wAAACH5BAEAAAAALAAAAAABAAEAAAICRAEAOw==', '/fileadmin/_processed_/8/a/csm_trophee-des-femmes-prix-debut-prometteur-2023-1344x840_72d113e61b.jpg', 'data:image/gif;base64,R0lGODlhAQABAIAAAP///wAAACH5BAEAAAAALAAAAAABAAEAAAICRAEAOw==', '/fileadmin/_processed_/9/5/csm_journee-immersion-1344x756_607813ddcf.jpg', 'data:image/gif;base64,R0lGODlhAQABAIAAAP///wAAACH5BAEAAAAALAAAAAABAAEAAAICRAEAOw==', '/fileadmin/_processed_/4/5/csm_game-jam-esiee-paris_1eab0ad4b5.png', 'data:image/gif;base64,R0lGODlhAQABAIAAAP///wAAACH5BAEAAAAALAAAAAABAAEAAAICRAEAOw==', '/fileadmin/_processed_/2/5/csm_conference-ia-science-trash-1344x840_fb17ec22a3.jpg', 'data:image/gif;base64,R0lGODlhAQABAIAAAP///wAAACH5BAEAAAAALAAAAAABAAEAAAICRAEAOw==', '/fileadmin/_processed_/f/0/csm_illustration-ingenieuses-2023-1344x840_85927aa5e2.jpg', 'data:image/gif;base64,R0lGODlhAQABAIAAAP///wAAACH5BAEAAAAALAAAAAABAAEAAAICRAEAOw==', '/fileadmin/_processed_/6/0/csm_illustration-best-paper-award-1344x840_6724a73fb6.jpg', 'data:image/gif;base64,R0lGODlhAQABAIAAAP///wAAACH5BAEAAAAALAAAAAABAAEAAAICRAEAOw==', '/fileadmin/_processed_/5/d/csm_signature-partenariat-orange-mai-2023-1344x840_eece6c482f.jpg', 'data:image/gif;base64,R0lGODlhAQABAIAAAP///wAAACH5BAEAAAAALAAAAAABAAEAAAICRAEAOw==', '/fileadmin/_processed_/b/0/csm_camille-fahy-cycliste-1344x756_af0832b451.jpg', 'data:image/gif;base64,R0lGODlhAQABAIAAAP///wAAACH5BAEAAAAALAAAAAABAAEAAAICRAEAOw==', '/fileadmin/_processed_/3/2/csm_olivier-francais-1344x840_d151119c68.jpg', 'data:image/gif;base64,R0lGODlhAQABAIAAAP///wAAACH5BAEAAAAALAAAAAABAAEAAAICRAEAOw==', '/fileadmin/_processed_/3/c/csm_logo-actu-cwur-1344x840_96aa069e0e.jpg', 'data:image/gif;base64,R0lGODlhAQABAIAAAP///wAAACH5BAEAAAAALAAAAAABAAEAAAICRAEAOw==', '/fileadmin/_processed_/e/a/csm_story-classements-540x960_1f891460f0.jpg', 'data:image/gif;base64,R0lGODlhAQABAIAAAP///wAAACH5BAEAAAAALAAAAAABAAEAAAICRAEAOw==', '/fileadmin/_processed_/b/4/csm_carte-grand-paris-1344x756_f1f626f07b.jpg', 'data:image/gif;base64,R0lGODlhAQABAIAAAP///wAAACH5BAEAAAAALAAAAAABAAEAAAICRAEAOw==', '/fileadmin/_processed_/7/0/csm_story-feminisation-540x960_6e3222ad89.jpg', 'data:image/gif;base64,R0lGODlhAQABAIAAAP///wAAACH5BAEAAAAALAAAAAABAAEAAAICRAEAOw==', '/fileadmin/_processed_/1/3/csm_test-T20-image_2c0b9a4f93.png', 'data:image/gif;base64,R0lGODlhAQABAIAAAP///wAAACH5BAEAAAAALAAAAAABAAEAAAICRAEAOw==', '/fileadmin/_processed_/0/f/csm_illustration-recherche-galette-1920x1080_a24a19d4b2.jpg', 'data:image/gif;base64,R0lGODlhAQABAIAAAP///wAAACH5BAEAAAAALAAAAAABAAEAAAICRAEAOw==', '/fileadmin/user_upload/Fichiers/entreprises/recruter-apprentis/illustration-travaux-groupe-1920x1080.jpg', 'data:image/gif;base64,R0lGODlhAQABAIAAAP///wAAACH5BAEAAAAALAAAAAABAAEAAAICRAEAOw==', '/fileadmin/user_upload/Fichiers/entreprises/illustration-innovation-abstaite-1920x1080.jpg', 'data:image/gif;base64,R0lGODlhAQABAIAAAP///wAAACH5BAEAAAAALAAAAAABAAEAAAICRAEAOw==', '/fileadmin/user_upload/Fichiers/recherche/illustration-salles-blanches-facade-exterieur-1920x1080.jpg', 'data:image/gif;base64,R0lGODlhAQABAIAAAP///wAAACH5BAEAAAAALAAAAAABAAEAAAICRAEAOw==', '/fileadmin/user_upload/Fichiers/entreprises/illustration-entretien-poignee-mains-1920x1080.jpg', 'data:image/gif;base64,R0lGODlhAQABAIAAAP///wAAACH5BAEAAAAALAAAAAABAAEAAAICRAEAOw==', '/fileadmin/_processed_/d/8/csm_HappyAtSchool_243c0a85a1.png', 'data:image/gif;base64,R0lGODlhAQABAIAAAP///wAAACH5BAEAAAAALAAAAAABAAEAAAICRAEAOw==', '/fileadmin/_processed_/0/9/csm_blank-profile-picture-bleu-400x400_00479b2092.png', 'data:image/gif;base64,R0lGODlhAQABAIAAAP///wAAACH5BAEAAAAALAAAAAABAAEAAAICRAEAOw==', '/fileadmin/_processed_/e/5/csm_blank-profile-picture-rose-400-x-400_ed015df7e9.png', 'data:image/gif;base64,R0lGODlhAQABAIAAAP///wAAACH5BAEAAAAALAAAAAABAAEAAAICRAEAOw==', '/fileadmin/_processed_/0/4/csm_blank-profile-picture-bleu2_400_x_400_97b4966771.png', 'data:image/gif;base64,R0lGODlhAQABAIAAAP///wAAACH5BAEAAAAALAAAAAABAAEAAAICRAEAOw==', '/fileadmin/_processed_/1/1/csm_blank-profile-picture-vert-400-x-400_d335e61b02.png', 'data:image/gif;base64,R0lGODlhAQABAIAAAP///wAAACH5BAEAAAAALAAAAAABAAEAAAICRAEAOw==', '/fileadmin/_processed_/0/9/csm_blank-profile-picture-bleu-400x400_00479b2092.png', 'data:image/gif;base64,R0lGODlhAQABAIAAAP///wAAACH5BAEAAAAALAAAAAABAAEAAAICRAEAOw==', '/fileadmin/_processed_/e/5/csm_blank-profile-picture-rose-400-x-400_ed015df7e9.png', 'data:image/gif;base64,R0lGODlhAQABAIAAAP///wAAACH5BAEAAAAALAAAAAABAAEAAAICRAEAOw==', '/fileadmin/_processed_/0/4/csm_blank-profile-picture-bleu2_400_x_400_97b4966771.png', 'data:image/gif;base64,R0lGODlhAQABAIAAAP///wAAACH5BAEAAAAALAAAAAABAAEAAAICRAEAOw==', '/fileadmin/_processed_/1/1/csm_blank-profile-picture-vert-400-x-400_d335e61b02.png', 'data:image/gif;base64,R0lGODlhAQABAIAAAP///wAAACH5BAEAAAAALAAAAAABAAEAAAICRAEAOw==', '/fileadmin/_processed_/0/9/csm_blank-profile-picture-bleu-400x400_00479b2092.png', 'data:image/gif;base64,R0lGODlhAQABAIAAAP///wAAACH5BAEAAAAALAAAAAABAAEAAAICRAEAOw==', '/fileadmin/_processed_/e/5/csm_blank-profile-picture-rose-400-x-400_ed015df7e9.png', 'data:image/gif;base64,R0lGODlhAQABAIAAAP///wAAACH5BAEAAAAALAAAAAABAAEAAAICRAEAOw==', '/fileadmin/_processed_/0/4/csm_blank-profile-picture-bleu2_400_x_400_97b4966771.png', 'data:image/gif;base64,R0lGODlhAQABAIAAAP///wAAACH5BAEAAAAALAAAAAABAAEAAAICRAEAOw==', '/fileadmin/_processed_/0/1/csm_CGE_RVB_c8cfe1001b.png', 'data:image/gif;base64,R0lGODlhAQABAIAAAP///wAAACH5BAEAAAAALAAAAAABAAEAAAICRAEAOw==', '/fileadmin/_processed_/a/0/csm_cti_logo.svg_64c64e06e1.png', 'data:image/gif;base64,R0lGODlhAQABAIAAAP///wAAACH5BAEAAAAALAAAAAABAAEAAAICRAEAOw==', '/fileadmin/_processed_/e/1/csm_EUR-ACE_52594b329c.png', 'data:image/gif;base64,R0lGODlhAQABAIAAAP///wAAACH5BAEAAAAALAAAAAABAAEAAAICRAEAOw==', '/fileadmin/_processed_/6/e/csm_1200px-DL_04_Dip_Ing.svg_0873c534da.png', '/typo3conf/ext/esiee_sitepackage/Resources/Public/imgs/svg/logo-esiee-footer.svg', '/typo3conf/ext/esiee_sitepackage/Resources/Public/imgs/svg/logo-cci-paris-ile-de-france-education.svg', '/typo3conf/ext/esiee_sitepackage/Resources/Public/imgs/svg/logo-univ-gustave-eiffel.svg'], 'external_links': ['/#content', '/#menu', '/plan-du-site/', '/nous-rencontrer-1', '/', '/brochures-1', '/informations/etudiantes-et-etudiants', '/', '/en/', '/candidater-1', '/lecole/pourquoi-choisir-esiee-paris', '/lecole/gouvernance-et-conseils/gouvernance-et-conseils', '/lecole/gouvernance-et-conseils/conseil-scientifique', '/lecole/departements-denseignements-et-de-recherche/informatique-et-telecommunications', '/lecole/departements-denseignements-et-de-recherche/ingenierie-des-systemes-cyberphysiques', '/lecole/departements-denseignements-et-de-recherche/ingenierie-industrielle', '/lecole/departements-denseignements-et-de-recherche/sante-energie-et-environnement-durable', '/lecole/departements-denseignements-et-de-recherche/management-sciences-humaines-et-langues', '/lecole/corps-professoral', '/lecole/salles-blanches/salles-blanches', '/lecole/salles-blanches/equipements-et-procedes', '/lecole/salles-blanches/formation', '/lecole/salles-blanches/recherche', '/lecole/salles-blanches/collaborations-industrielles', '/lecole/alumni/le-reseau', '/lecole/alumni/wall-of-fame', '/lecole/visite-virtuelle-esiee-paris', '/lecole/esiee-paris-recrute', '/lecole/location-despaces', '/formations/les-formations-esiee-paris', '/formations/ingenieur/ingenieur-a-esiee-paris', '/formations/ingenieur/le-premier-cycle', '/formations/ingenieur/le-cycle-ingenieur', '/formations/ingenieur/double-diplomes', '/formations/ingenieur/filieres/nos-filieres', '/formations/ingenieur/filieres/informatique', '/formations/ingenieur/filieres/cybersecurite', '/formations/ingenieur/filieres/data-science-et-intelligence-artificielle', '/formations/ingenieur/filieres/artificial-intelligence-and-cybersecurity', '/formations/ingenieur/filieres/systemes-embarques', '/formations/ingenieur/filieres/systemes-electroniques-intelligents', '/formations/ingenieur/filieres/genie-industriel', '/formations/ingenieur/filieres/biotechnologies-et-e-sante', '/formations/ingenieur/filieres/energie', '/formations/ingenieur/filieres/imac', '/formations/ingenieur/stages', '/formations/ingenieur/insertion-professionnelle', '/formations/ingenieur/frais-de-scolarite-et-aides-financieres', '/formations/ingenieur-par-apprentissage/devenir-ingenieur-par-apprentissage', '/formations/ingenieur-par-apprentissage/informatique-et-applications', '/formations/ingenieur-par-apprentissage/informatique-design-architecture-et-developpement', '/formations/ingenieur-par-apprentissage/reseaux-et-securite', '/formations/ingenieur-par-apprentissage/electronique-et-informatique', '/formations/ingenieur-par-apprentissage/systemes-embarques', '/formations/ingenieur-par-apprentissage/genie-industriel', '/formations/ingenieur-par-apprentissage/genie-mecanique', '/formations/ingenieur-par-apprentissage/maintenance-et-fiabilite-des-processus-industriels', '/formations/ingenieur-par-apprentissage/energies', '/formations/ingenieur-par-apprentissage/genie-civil', '/formations/ingenieur-par-apprentissage/diplome-universitaire-du', '/formations/bachelor', '/formations/programmes-internationaux/programmes-internationaux', '/formations/programmes-internationaux/filliere-artificial-intelligence-and-cybersecurity', '/formations/programmes-internationaux/msc-management-of-technology-information-systems', '/formations/licence-professionnelle', '/formations/formation-continue/formation-continue', '/formations/formation-continue/programmes-courts-salles-blanches/decouverte-des-technologies-de-salles-blanches', '/formations/formation-continue/programmes-courts-salles-blanches/initiation-aux-technologies-de-microfabrication', '/recherche/la-recherche-a-esiee-paris', '/recherche/3-axes-de-recherche', '/recherche/projets-de-recherche', '/recherche/laboratoires', '/recherche/publications', '/recherche/plateformes-et-equipements', '/recherche/partenariats-entreprise', '/recherche/se-former-a-la-recherche', '/vie-de-campus/la-vie-sur-le-campus', '/vie-de-campus/services-aux-eleves/financer-vos-etudes', '/vie-de-campus/services-aux-eleves/amenagements-detude', '/vie-de-campus/services-aux-eleves/assistetud-et-relais-handicap', '/vie-de-campus/services-aux-eleves/sante', '/vie-de-campus/services-aux-eleves/logements', '/vie-de-campus/vie-associative-et-culturelle', '/vie-de-campus/ressources/ressources-numeriques', '/vie-de-campus/ressources/espace-de-travail-partage', '/vie-de-campus/ressources/centre-de-langues', '/vie-de-campus/ressources/laboratoires-denseignement', '/vie-de-campus/ressources/ordinateurs-portables', '/vie-de-campus/restauration', '/vie-de-campus/sport', '/international/une-large-ouverture-a-linternational', '/international/partenaires-academiques', '/international/etudiants-en-echange', '/international/partir-etudier-a-linternational', '/formations/programmes-internationaux/programmes-internationaux', '/international/organiser-votre-sejour-a-esiee-paris', '/international/campus-a-letranger', '/entreprises/entreprises', 'http://esiee.jobteaser.com/fr/recruiter_account/job_offers', '/entreprises/entreprises-partenaires', '/entreprises/devenez-partenaire', '/entreprises/recrutez-des-eleves/recrutez-vos-stagiaires', '/entreprises/recrutez-des-eleves/recrutez-vos-apprentis', '/entreprises/developpez-vos-projets-technologiques', '/entreprises/soutenez-esiee-paris/devenez-mecene', '/entreprises/soutenez-esiee-paris/versez-votre-taxe-dapprentissage', '/formations/formation-continue/formation-continue', '/brochures-1', '/informations/etudiantes-et-etudiants', '/actualites/classements', '/nous-rencontrer-1', '/actualites/lesiee-cest-ladopter-journee-dimmersion-a-esiee-paris', '/lecole/pourquoi-choisir-esiee-paris', '/lecole/visite-virtuelle-esiee-paris', '/formations/ingenieur/ingenieur-a-esiee-paris', '/formations/ingenieur-par-apprentissage/devenir-ingenieur-par-apprentissage', '/formations/programmes-internationaux/programmes-internationaux', '/formations/bachelor', '/formations/licence-professionnelle', '/formations/formation-continue/formation-continue', '/actualites/journees-portes-ouvertes-esiee-paris-vous-donne-rendez-vous', '/actualites/forum-pour-lemploi-esiee-paris-jeudi-16-novembre-2023', '/actualites/des-eleves-esiee-paris-participent-au-concours-jeunes-talents-orange-2023', '/actualites/classement-thematique-de-shanghai-2023-luniversite-gustave-eiffel-conforte-sa-place-parmi-les-meilleures-universites-mondiales', '/actualites/esiee-paris-et-dassault-systemes-creent-une-cordee-handimanagement', '/actualites/esiee-paris-partenaire-des-trophees-des-femmes-de-lindustrie-2023', '/actualites/lesiee-cest-ladopter-journee-dimmersion-a-esiee-paris', '/actualites/nouvelle-edition-de-la-game-jam-esiee-paris', '/actualites/lia-detruira-telle-lhumanite-une-table-ronde-en-partenariat-avec-science-trash', '/actualites/esiee-paris-nomine-lors-de-la-13e-edition-de-loperaion-ingenieurses', '/actualites/veronica-belmega-enseignante-chercheuse-a-esiee-paris-remporte-un-best-paper-award-a-la-conference-icl-gnss', '/actualites/orange-et-esiee-paris-signent-une-convention-de-partenariat', '/actualites/camille-fahy-etudiante-a-esiee-paris-devient-cycliste-professionnelle', '/actualites/olivier-francais-est-nomme-nouveau-doyen-du-corps-professoral-esiee-paris', '/actualites/luniversite-gustave-eiffel-parmi-les-meilleures-universites-au-monde-selon-cwur', '/actualites/classements', '/actualites/esiee-paris-au-coeur-des-nouvelles-lignes-du-grand-paris', '/actualites/toutes-ingenieures', '/actualites', '/vie-de-campus/la-vie-sur-le-campus', '/lecole/visite-virtuelle-esiee-paris', '/lecole/pourquoi-choisir-esiee-paris', '/formations/ingenieur/filieres/informatique', '/formations/ingenieur/filieres/cybersecurite', '/formations/ingenieur-par-apprentissage/systemes-embarques', '/formations/ingenieur-par-apprentissage/informatique-design-architecture-et-developpement', '/formations/ingenieur-par-apprentissage/informatique-et-applications', '/formations/ingenieur/filieres/artificial-intelligence-and-cybersecurity', '/formations/ingenieur/filieres/data-science-et-intelligence-artificielle', '/formations/ingenieur-par-apprentissage/reseaux-et-securite', '/formations/ingenieur/filieres/systemes-embarques', '/formations/ingenieur-par-apprentissage/electronique-et-informatique', '/formations/programmes-internationaux/msc-management-of-technology-information-systems', '/formations/programmes-internationaux/filliere-artificial-intelligence-and-cybersecurity', '/formations/licence-professionnelle', '/formations/ingenieur/filieres/genie-industriel', '/formations/ingenieur-par-apprentissage/genie-industriel', '/formations/ingenieur/filieres/systemes-electroniques-intelligents', '/formations/ingenieur-par-apprentissage/genie-mecanique', '/formations/ingenieur/filieres/biotechnologies-et-e-sante', '/formations/ingenieur-par-apprentissage/maintenance-et-fiabilite-des-processus-industriels', '/formations/ingenieur/filieres/energie', '/formations/ingenieur-par-apprentissage/genie-civil', '/formations/bachelor', '/formations/ingenieur-par-apprentissage/energies', '/formations/ingenieur/filieres/imac', '/international/une-large-ouverture-a-linternational', '/recherche/la-recherche-a-esiee-paris', '/entreprises/recrutez-des-eleves/recrutez-vos-stagiaires', '/entreprises/developpez-vos-projets-technologiques', '/lecole/salles-blanches/salles-blanches', '/entreprises/soutenez-esiee-paris/devenez-mecene', '/nos-ambassadeurs', 'https://www.cge.asso.fr/', 'https://www.cti-commission.fr/', 'https://www.cti-commission.fr/la-cti/demarche-qualite/systeme-qe/eur-ace', 'https://www.enseignementsup-recherche.gouv.fr/fr/labels-des-formations-controlees-par-l-etat-46088', '#top', 'https://www.facebook.com/esieeparis', 'https://www.instagram.com/esieeparis/', 'https://www.linkedin.com/edu/school?id=20041&trk=tyah&trkInfo=idx%3A4-1-4%2CtarId%3A1425998561386%2Ctas%3Aesiee+paris', 'https://twitter.com/ESIEEPARIS', 'http://www.youtube.com/esieeparis', '/rss.xml', '/contact-1', '/nous-rencontrer-1', '/', 'https://www.cci-paris-idf.fr/fr/education', 'https://www.univ-gustave-eiffel.fr/', 'tel:+33145926500', '/informations/plan-dacces', '/informations/plan-dacces', '/lecole/esiee-paris-recrute', '/brochures-1', '/jour-des-projets', '/lecole/visite-virtuelle-esiee-paris', '/nos-ambassadeurs', '/vie-de-campus/services-aux-eleves/logements', '/vie-de-campus/services-aux-eleves/financer-vos-etudes', '/presse', '/lecole/salles-blanches/salles-blanches', '/lecole/location-despaces', '/entreprises/entreprises', '/lecole/alumni/le-reseau', '/lecole/alumni/wall-of-fame', '/informations/mentions-legales', '/informations/protection-des-donnees', '/plan-site', '#cookies'], 'main_text': 'ESIEE Paris, l\\'école de l\\'innovation technologique | ESIEE Paris\\n\\n\\n\\n\\n\\n\\n\\n\\n\\n\\n\\n\\n\\n\\n\\n\\n\\n\\n\\n\\n\\n\\n\\n\\nAller au contenu\\nAller au menu\\nPlan du site\\n\\n\\n\\n\\n\\n\\n\\nBien choisir son école, c\\'est aussi la rencontrer  ! Rendez-vous à la prochaine journée portes ouvertes le 9 décembre.\\n\\n\\n\\n\\n\\nMasquer l\\'alerte\\n\\n\\n\\n\\n\\n\\n\\n\\n\\n\\n\\n\\n\\n\\nBrochuresEspace élèves\\n\\n\\n\\nFr\\n\\n\\n\\n\\nEn\\n\\n\\n\\n\\n\\n\\n\\n\\n\\nAfficherMasquer la recherche\\r\\n\\t\\t\\n\\n\\n\\nSaisissez votre recherche\\xa0:\\n\\nLancer la recherche\\n\\n\\n\\nCandidater\\n\\nAfficherMasquer le menu\\n\\n\\n\\n\\n\\nRetour au menu principalAfficherMasquer le sous menu\\xa0: L\\'écolePourquoi choisir ESIEE Paris ?AfficherMasquer le sous menu\\xa0: Gouvernance et conseilsGouvernance et conseilsConseil scientifiqueAfficherMasquer le sous menu\\xa0: Départements d\\'enseignements et de rechercheInformatique et télécommunicationsIngénierie des systèmes cyberphysiquesIngénierie industrielleSanté, énergie et environnement durableManagement, sciences humaines et languesCorps professoralAfficherMasquer le sous menu\\xa0: Salles blanchesSalles blanchesÉquipements et procédésFormationRechercheCollaborations industriellesAfficherMasquer le sous menu\\xa0: AlumniLe réseauWall of fameVisite virtuelle ESIEE ParisESIEE Paris recruteLocation d\\'espacesfermer le sous menu\\xa0:L\\'écoleAfficherMasquer le sous menu\\xa0: FormationsLes formations ESIEE ParisAfficherMasquer le sous menu\\xa0: IngénieurIngénieur à ESIEE ParisLe premier cycleLe cycle ingénieurDouble-diplômesAfficherMasquer le sous menu\\xa0: FilièresNos filièresInformatiqueCybersécuritéData science et intelligence artificielleArtificial intelligence and cybersecuritySystèmes embarquésSystèmes électroniques intelligentsGénie industrielBiotechnologies et e-santéEnergieIMACStagesInsertion professionnelleFrais de scolarité et aides financièresAfficherMasquer le sous menu\\xa0: Ingénieur par apprentissageDevenir ingénieur par apprentissageInformatique et applicationsInformatique, design, architecture et développementRéseaux et sécuritéElectronique et informatiqueSystèmes embarquésGénie industrielGénie mécaniqueMaintenance et fiabilité des processus industrielsÉnergiesGénie civilDiplôme universitaire - DUBachelorAfficherMasquer le sous menu\\xa0: Programmes internationauxProgrammes internationauxFillière artificial intelligence and cybersecurityM.Sc Management of technology - Information systemsLicence professionnelleAfficherMasquer le sous menu\\xa0: Formation continueFormation continueAfficherMasquer le sous menu\\xa0: Programmes courts salles blanchesDécouverte des technologies de salles blanchesInitiation aux technologies de microfabricationfermer le sous menu\\xa0:FormationsAfficherMasquer le sous menu\\xa0: RechercheLa recherche à ESIEE Paris3 axes de rechercheProjets de rechercheLaboratoiresPublicationsPlateformes et équipementsPartenariats entrepriseSe former à la recherchefermer le sous menu\\xa0:RechercheAfficherMasquer le sous menu\\xa0: Vie de campusLa vie sur le campusAfficherMasquer le sous menu\\xa0: Services aux élèvesFinancer vos étudesAménagements d\\'étudeAssist\\'Étud et relais HandicapSantéLogementsVie associative et culturelleAfficherMasquer le sous menu\\xa0: RessourcesRessources numériquesEspace de travail partagéCentre de languesLaboratoires d\\'enseignementOrdinateurs portablesRestaurationSportfermer le sous menu\\xa0:Vie de campusAfficherMasquer le sous menu\\xa0: InternationalUne large ouverture à l\\'internationalPartenaires académiquesEtudiants en échangePartir étudier à l\\'internationalProgrammes internationauxOrganiser votre séjour à ESIEE ParisCampus à l\\'étrangerfermer le sous menu\\xa0:InternationalAfficherMasquer le sous menu\\xa0: EntreprisesEntreprisesDéposez une offreEntreprises partenairesDevenez partenaireAfficherMasquer le sous menu\\xa0: Recrutez des élèvesRecrutez vos stagiairesRecrutez vos apprentisDéveloppez vos projets technologiquesAfficherMasquer le sous menu\\xa0: Soutenez ESIEE ParisDevenez mécèneVersez votre taxe d\\'apprentissageFormez vos collaborateursfermer le sous menu\\xa0:Entreprises\\nBrochuresEspace élèves\\n\\n\\n\\n\\n\\n\\n\\nESIEE Paris, l’école de\\nl\\'innovation technologiqueESIEE Paris, n°2 des écoles d’ingénieurs post-bac d’Ile-de-France selon le Palmarès « L’Etudiant 2023 ».Venez aux journées portes ouvertes ESIEE ParisBien choisir son école, c\\'est aussi la rencontrer !Envie d’en savoir plus sur la réalité de la vie d’un élève en école d’ingénieurs ?Journées d\\'immersion à ESIEE Paris Mercredi 13 décembre 2023 ou mercredi 24 janvier 2024Barre de rechercheAfficherMasquer la recherche\\r\\n\\t\\tSaisissez votre recherche\\xa0:Lancer la rechercheDécouvrez ESIEE Paris ! Une école d\\'ingénieurs spécialisée dans les domaines des transitions numériques, énergétiques et environnementales. Parmi nos illustres anciens élèves, Marcel Dassault, fondateur du groupe Dassault Aviation et\\xa0Yann LeCun, à l\\'origine de la révolution actuelle de l\\'intelligence artificielle.Pourquoi choisir ESIEE Paris ?\\xa0Visite virtuelle\\n                Nos formationsIngénieur3 ou 5 ans, accès post-bac ou bac\\xa0+2/3 10 filièresIngénieur par apprentissage3\\xa0 ans, accès bac\\xa0+2/3 10 filièresProgrammes internationaux18 ou 24 mois, accès bachelor, bac\\xa0+4 2 programmesBachelor3 ans, accès post-bac 1 programmeLicence professionnelle1 an, accès bac\\xa0+2/3 1 programmeFormation continueProgrammes pour les professionnelsLes news de l\\'école\\n            \\n                \\n                    Portes ouvertes\\n                \\n            \\n                \\n                        09 décembre 2023                        \\n                                        \\n            ESIEE Paris vous ouvre ses portesSamedi 9 décembre 2023 | Samedi 3 février 2024 | Samedi 2 mars 2024\\n                \\n                    Entreprises\\n                \\n            \\n                16 novembre 2023                    \\n            Forum pour l’emploi ESIEE Paris : jeudi 16 novembre 2023Jeudi 16 novembre de 10  h à 17  h, ESIEE Paris organise son forum de recrutement annuel au sein de l’école. \\n                \\n                    Entreprises\\n                \\n            Des élèves ESIEE Paris participent au Concours jeunes talents Orange 2023Orange lance la 9e édition de son concours jeunes talents Orange sur le thème \"  Réduire ensemble l’impact...\\n                \\n                    Classements\\n                \\n            Classement thématique de Shanghai 2023 : L’Université Gustave Eiffel conforte sa place parmi les meilleures universités mondialesElle se démarque, cette année encore, dans 9 classements thématiques.  \\n                \\n                    Entreprises\\n                \\n            ESIEE Paris et Dassault Systèmes créent une cordée HandimanagementEn septembre dernier, ESIEE Paris a lancé une cordée Handimanagement en partenariat avec l’organisme Companieros et...\\n                \\n                    Féminisation\\n                \\n                    \\n                \\n            \\n                28 septembre 2023                    \\n            ESIEE Paris, partenaire des Trophées des femmes de l\\'industrie 2023Jean Mairesse, Directeur Général ESIEE Paris a eu le plaisir de remettre le \" Trophée de la femme au début prometteur \".\\n                \\n                    Immersion\\n                \\n                    \\n                \\n                    \\n                \\n            \\n                \\n                        13 décembre 2023                        \\n                                        \\n            \"L’ESIEE, c\\'est l\\'adopter !\" Journées d\\'immersion à ESIEE Paris Envie d’en savoir plus sur la réalité de la vie d’un élève en école d’ingénieurs ?\\n                \\n                    Evénements\\n                \\n            \\n                \\n                        \\n                                Du 20 septembre 2023\\n                                au 22 septembre 2023\\n                                                    \\n                                        \\n            Nouvelle édition de la Game Jam ESIEE Paris105 élèves ESIEE Paris ont conçu et développé des jeux vidéo sur un thème original. Découvrez leurs créations.\\n                \\n                    Actualités\\n                \\n            \"\\xa0L\\'IA détruira-t-elle l\\'humanité ?\\xa0\" : une table ronde en partenariat avec Science trashLe lundi 12 juin 2023 à ESIEE Paris a eu lieu une table ronde dans le but de répondre à la question suivante : \"  L\\'IA...\\n                \\n                    Féminisation\\n                \\n                    \\n                \\n            ESIEE Paris nominé lors de la 13e édition de l\\'opération \"\\xa0ingénieuses\\xa0\"Le projet \"  Et Si Ingénieur s\\'Écrivait avec un E  \", porté par ESIEE Paris a été nominé lors de l\\'édition 2023 de \" ...\\n                \\n                    Distinctions\\n                \\n                    \\n                \\n                    \\n                \\n            Veronica Belmega, enseignante-chercheuse à ESIEE Paris, remporte un Best Paper AwardDécouvrez son article sur la localisation dans les réseaux GNSS via machine (deep) learning.\\n                \\n                    Entreprises\\n                \\n            Orange et ESIEE Paris signent une convention de partenariatCe mercredi 31 mai 2023, Orange et ESIEE Paris ont signé un nouvelle convention de partenariat\\n                \\n                    Sport\\n                \\n                    \\n                \\n            Camille Fahy, étudiante à ESIEE Paris devient cycliste professionnelleCamille Fahy, étudiante en 2e année du premier cycle à ESIEE Paris a commencé le cyclisme en compétition dès l’âge de 11...\\n                \\n                    Actualités\\n                \\n                    \\n                \\n            Olivier Français est nommé nouveau doyen du corps professoral ESIEE ParisOlivier Français a été élu le jeudi 16 mars 2023 par l’ensemble de l’équipe enseignante ESIEE Paris en tant que nouveau...\\n                \\n                    Classements\\n                \\n                    \\n                \\n            L\\'université Gustave Eiffel parmi les 3% des meilleures universités au monde selon CWURLe 15 mai 2023, le Center for World University Rankings (CWUR) a publié son classement des 2 000 meilleurs...Classements\\n                \\n                    Story\\n                \\n                    \\n                \\n            26 mai 2023\\n                \\n                    Actualités\\n                \\n                    \\n                \\n            ESIEE Paris au coeur des nouvelles lignes du grand ParisDécouvrez la future gare et les deux nouvelles lignes de métro qui desserviront la gare de Noisy-Champs.Toutes ingénieures\\n                \\n                    Story\\n                \\n                    \\n                \\n                    \\n                \\n            Toutes les actualitésUn cadre unique où étudier, près de parisUne école en forme d\\'ordinateur. Découvrez notre vaste bâtiment à l\\'architecture futuriste implanté au coeur d\\'un campus de 17 000 étudiants, conçu par l\\'architecte Dominique Perrault.Découvrir le campusVisite virtuelleEn savoir plus\\n                Toutes les filièresInformatiqueIngénieurCybersécuritéIngénieurSystèmes embarqués Transports et objets intelligentsIngénieur par apprentissageInformatique, design, architecture et développementIngénieur par apprentissageInformatique et applicationsIngénierie 3D et technologie des médiasIngénieur par apprentissageArtificial intelligence and cybersecurityIngénieurDatascience et intelligence artificielleIngénieurRéseaux et sécurité Architecture et Internet des objectsIngénieur par apprentissageSystèmes embarquésIngénieurElectronique et informatiqueIngénieur par apprentissageM.Sc. Management of technology - Information systemsProgrammes internationauxMaster in Artificial intelligence and cybersecurityProgrammes internationauxLicence professionnelleMaintenance des systèmes industriels, de production et d’énergie maintenance industrielle et sûreté des processLicence professionnelleGénie industrielIngénieurGénie industrielSupply chain et numériqueIngénieur par apprentissageSystèmes électroniques intelligentsIngénieurGénie mécaniqueIngénieur par apprentissageBiotechnologies et e-santéIngénieurMaintenance et fiabilité des processus industrielsIngénieur par apprentissageEnergieIngénieurGénie civilIngénieur par apprentissageBachelorÉconomie, Sciences et Technologies Multimédia (BEST\\'m)BachelorEnergiesIngénierie de la transition énergétiqueIngénieur par apprentissageFormation d\\'ingénieur IMACIngénieur\\n                Vous rêvez d\\'une expérience à l\\'étranger ?Les élèves effectuent un séjour de 4 mois minimum à l\\'étranger.DécouvrirESIEE Paris\\xa0au coeur de la recherche3 axes de recherche, 5 plateformes technologiques, des formations doctorales, de nombreux partenariats entreprises.Découvrir la recherche à ESIEE Paris\\n                Relations entreprisesNos services dédiés pour mieux vous accompagner\\n            Recrutez nos étudiantsDéveloppez vos projets technologiquesDécouvrez les salles blanchesSoutenez nos projets97\\xa0%\\r\\n                        des jeunes diplômés ont trouvé leur 1er emploi 6 mois après leur sortie (promo 2022)84\\xa0%\\r\\n                        des élèves ont trouvé un contrat avant même la fin de leur formation42\\xa0072\\xa0€\\r\\n                        Salaire moyen d\\'embauche (brut) annuel France et internationalTémoignagesElève ESIEE ParisAvis certifié Happy at School\" Ce qui me plait le plus, c\\'est sans aucun doute l\\'ambiance. Les étudiants y sont tous très gentils, à l\\'écoute, et très ouverts. A cela j\\'ajoute la vie associative, riche et pleine d\\'opportunités. J\\'adore ! \"Elève ESIEE ParisAvis certifié Happy at School\" Un atout : la relation que nous avons avec les profs. Ils sont toujours là pour répondre à nos questions même hors des cours et veulent notre réussite. \"Elève ESIEE ParisAvis certifié Happy at School\" La bonne ambiance, le cadre de travail , les nombreux espaces de travail, les formations proposées et le lien avec les entreprises. \"Elève ESIEE ParisAvis certifié Happy at School\" La proximité avec le corps enseignant. Post assistance : possibilité de contacter facilement un enseignant en cas de question. \"Elève ESIEE ParisAvis certifié Happy at School\" L\\'associatif est très actif dans mon école, et nous avons un gymnase avec une salle de musculation à notre disposition. \"Elève ESIEE ParisAvis certifié Happy at School\" L’ambiance, la proximité des étudiants, les événements associatifs, culturels organisés par le BDE et par l’école (journée des entreprises, Potluck, Future Days, Octobre rose…). \"Elève ESIEE ParisAvis certifié Happy at School\" Les étudiants sont tous ouverts d’esprit et ultra bienveillants. De même pour les professeurs qui sont disponibles et à l’écoute. Je peux demander à un élève en dernière année de m’aider sur un sujet et sans hésitation, il le fera ! \"Elève ESIEE ParisAvis certifié Happy at School\" L\\'école pousse les élèves à être plus autonomes et à faire leur propre projet. Elle développe leurs qualités de leadership mais aussi artistiques pour faire des ingénieurs innovants. \"Elève ESIEE ParisAvis certifié Happy at School\" Le grand choix d\\'activités dans lesquelles s\\'engager (entreprenariat / apprentissage / associatif / double diplôme...). \" \\xa0Elève ESIEE ParisAvis certifié Happy at School\" Engagement important de la part des étudiants envers l\\'inclusion des autres et le maintien d\\'un sentiment de sécurité (lutte contre les VSS par ex). \"Elève ESIEE ParisAvis certifié Happy at School\" Les professeurs ont vraiment envie que les étudiants apprennent donc sont prêts à apporter leur aide en cas de besoin. Quant aux élèves, tous sont dans le respect les uns envers les autres et dans un esprit de solidarité. \"Contactez nos ambassadeurs\\nBack to the top of the page\\n\\n\\n\\n\\n\\n\\n\\n\\n\\n\\n\\n\\n\\n\\n\\nVous avez des questions ?\\nEtudiants, parents, entreprises... Vous souhaitez obtenir des informations, contacter directemment nos équipes.\\n\\nNous contacterNous rencontrer\\n\\n\\n\\n\\n\\n\\n\\n\\n\\n\\n\\n\\n\\n\\n\\n\\n\\n\\xa001 45 92 65 00\\nNous rejoindre 27 avenue André-Marie Ampère 77420 Champs-sur-Marne Plan d’accès\\nEnvoyer un courrier 2 boulevard Blaise Pascal Cité Descartes, BP 99 93162 Noisy-le-Grand Cedex\\n\\n\\n\\nAccès rapidePlan d\\'accèsESIEE Paris recruteNos brochuresLe Jour des ProjetsVisite virtuelleEtudiantes et étudiantsClassementAmbassadeursLogementsAides financièresProfessionnelsPresseSalles blanchesLocation d\\'espacesRecruter nos élèvesAlumniWall of fame\\n\\n\\n\\n\\n\\n\\n\\nMentions LégalesProtection des donnéesPlan du site\\nGestion des cookies'}\n"
     ]
    }
   ],
   "source": [
    "custom_request2 = CustomRequest()\n",
    "info = custom_request2.parse_html_page(url)\n",
    "print(info)"
   ]
  },
  {
   "cell_type": "markdown",
   "metadata": {},
   "source": [
    "# Exploitation des appels d'API\n"
   ]
  },
  {
   "cell_type": "markdown",
   "metadata": {},
   "source": [
    "\n",
    "Losque le front du site récupère des données sur une API géré par le back, un appel d'API est réalisé. Cet appel est recensé dans les appels réseaux. Il est alors possible de re-jouer cet appel pour récupérer à nouveau les données. Il est très facile de récupérer ces appels dans l'onglet Network de la console développeur de Chrome ou FireFox. La console vous permet de copier le code CURL pour effectuée et vous pouvez ensuite la transformer en code Python depuis le site https://curl.trillworks.com/.\n",
    "\n",
    "Souvent les APIs sont bloquées avec certain paramètres. L'API verifie que dans les headers de la requêtes HTTP ces paramètres sont présents : * un token généré à la volée avec des protocole OAuth2 (ou moins développés). * un referer provenant du site web (la source de la requête), très facile à falsifier.\n",
    "\n"
   ]
  },
  {
   "cell_type": "markdown",
   "metadata": {},
   "source": [
    "## Exercice \n",
    "### Exercice 4\n",
    "\n",
    "- Utiliser les informations développées plus haut pour récupérer les premiers résultats d'une recherche d'une requête\n",
    "sur Qwant. \n",
    "\n",
    "Tips : \n",
    "\n",
    "- Aller sur https://www.qwant.com/\n",
    "- Ouvrir les outils de développements de Chrome ou Firefox\n",
    "- Onglet Network\n",
    "- Fouiller dans les requêtes"
   ]
  },
  {
   "cell_type": "code",
   "execution_count": 121,
   "metadata": {
    "ExecuteTime": {
     "end_time": "2023-11-20T21:31:15.893821680Z",
     "start_time": "2023-11-20T21:31:14.723002195Z"
    },
    "collapsed": false,
    "jupyter": {
     "outputs_hidden": false
    }
   },
   "outputs": [
    {
     "name": "stdout",
     "output_type": "stream",
     "text": [
      "La requête a réussi.\n",
      "['update your browser', 'Privacy', 'About', 'Terms of service', 'Legal notices', 'F.A.Q.', 'Cookie management', 'Qwant Lite by default', 'Settings']\n"
     ]
    }
   ],
   "source": [
    "urlQwant = \"https://www.qwant.com\"\n",
    "custom_request = CustomRequest()\n",
    "user_agent = custom_request.rotate_user_agent()\n",
    "headers = {'User-Agent': user_agent}\n",
    "    \n",
    "response = requests.get(urlQwant, headers=headers)\n",
    "if response.status_code == 200:\n",
    "    print(\"La requête a réussi.\")\n",
    "    soup = BeautifulSoup(response.text, 'html.parser')\n",
    "    result_titles = [result.text.strip() for result in soup.find_all('a')]\n",
    "\n",
    "    print(result_titles)"
   ]
  },
  {
   "cell_type": "markdown",
   "metadata": {},
   "source": [
    "# Exercice Final  "
   ]
  },
  {
   "cell_type": "markdown",
   "metadata": {},
   "source": [
    "Exercice Final\n",
    "Utilisez tout ce que vous avez appris pour récupérer des articles de News avec une catégorie. Il est souvent intéressant de partir des flux RSS pour commencer :\n",
    "\n",
    "Les données doivent comprendre :\n",
    "- Le texte important propre\n",
    "- L'url\n",
    "- Le domaine\n",
    "- la catégorie\n",
    "- Le titre de l'article\n",
    "- Le titre de la page\n",
    "- (Facultatif) : les images\n",
    "\n",
    "Tips : \n",
    "\n",
    "- Taper le nom de votre média favoris + RSS (par exemple : https://www.lemonde.fr/rss/)\n",
    "- Aller dans le DOM de la page \n",
    "- Trouver les catégories et les liens vers les articles"
   ]
  },
  {
   "cell_type": "code",
   "execution_count": 142,
   "metadata": {
    "ExecuteTime": {
     "start_time": "2023-11-20T21:10:38.764674827Z"
    }
   },
   "outputs": [
    {
     "name": "stdout",
     "output_type": "stream",
     "text": [
      "url: https://www.lemonde.fr/jeux-olympiques-2024/\n",
      "titre: Jeux olympiques de Paris 2024 - Actualités, vidéos et infos en direct\n",
      "domaine: www.lemonde.fr\n",
      "text important: Jeux olympiques de Paris 2024 - Actualités, vidéos et infos en direct Consulterle journal Navigation Le Monde - retour à la une Se connecter Se connecter S’abonner dès 5,49 €/mois À la une nav_back_to_home En continu Actualités En ce moment Guerre Israël-Hamas Guerre en Ukraine Antisémitisme Procès d'Éric Dupond-Moretti Immigration et diversité Crues et inondations Climat Jeux olympiques de Paris 2024 Droit à l'avortement Tempêtes et ouragans Toute l’actualité en continu Actualités International Politique Société Planète Climat Le Monde Afrique Les Décodeurs Sport Education M Campus Santé Intimités Sciences Pixels Disparitions Le Fil Good Podcasts Le Monde & Vous Économie Économie Économie mondiale Économie française Médias Emploi Argent & placements Tribunes éco Cities Le Club de l’économie Économie OpenAI : de hauts cadres menacent de partir si le conseil d’administration ne démissionne pas Économie Article réservé aux abonnés Pourquoi Sam Altman, star de l’intelligence artificielle, a été débarqué d’OpenAI Chronique Article réservé aux abonnés « Longtemps considérée comme mourante, la plus vieille banque du monde sort du purgatoire » Philippe Escande Tribune Article réservé aux abonnés « Les Etats-Unis et l’Union européenne doivent soutenir une convention fiscale des Nations unies » Collectif Vidéos Vidéos L’actualité Les explications Enquêtes vidéo Les mini-séries International Article réservé aux abonnés Bande de Gaza : avant la guerre, un territoire à l’agonie International Article réservé aux abonnés Du cartel mexicain de Sinaloa aux rues de New York : au cœur du business du fentanyl Comprendre en 3 minutes Qu’est-ce que la figure de Javier Milei nous dit des crises que traverse l’Argentine ? Comprendre en trois minutes Le Monde Afrique Madagascar : cinq choses à savoir sur Andry Rajoelina Débats Débats Editoriaux Chroniques Enquêtes idées Notions Entretiens idées Analyses Tribunes Éditorial Argentine : le changement dans le désespoir Chronique Article réservé aux abonnés « A Moscou, le ton est triomphaliste. Pourtant, la guerre va amplifier les handicaps structurels de l’économie russe » Jean-Michel Bezat Chronique Article réservé aux abonnés « Il reste encore quatre ans à Emmanuel Macron avant 2027 et pourtant, une ambiance de fin de règne s’est déjà installée » Françoise Fressoz Editorialiste au « Monde » Tribune Article réservé aux abonnés « Les Etats-Unis et l’Union européenne doivent soutenir une convention fiscale des Nations unies » Collectif Culture Culture Cinéma Télévision Le Monde des livres Musiques Arts Scènes Cinéma Article réservé aux abonnés « Napoléon », un Bonaparte sur le champ de bataille de l’intime Le Monde des livres Article réservé aux abonnés « Irréversibilité de l’aventure humaine » Culture « Pakistan, notre meilleur ennemi », sur France 5 : le « pays des purs » et du double jeu Culture Article réservé aux abonnés Architecture : l’Equerre d’argent 2023 récompense un projet de logements sociaux à Paris Le Goût du monde Le Goût du monde Le Monde passe à table Voyage Design & déco Mode Beauté Horlogerie & Joaillerie M le mag L’époque Les recettes Article réservé aux abonnés Trois recettes pour fondus de fromage garanties sans charcuterie Le Goût du Monde Article réservé aux abonnés Mode : la transparence mène la danse Le Monde passe à table Article réservé aux abonnés Une vénérable maison de cognac bicentenaire Chronique Article réservé aux abonnés Le Kara Damia de Kevin Lacote : « Cette tarte, c’est le bonbon dans son papier que grand-mère donne à la sortie de l’école » Elvire von Bardeleben Services Services Le Monde Les ateliers du Monde Mémorable : améliorer sa culture générale Mots croisés / Sudokus Guides d’achat Boutique Le Monde Newsletters Services partenaires Cours d’anglais Formation professionnelle Jardinage Jeux d’Arcade Paroles de chansons Cours d’italien Formation en audiovisuel Service Codes Promo Codes Promo Black Friday Codes Promo Amazon Codes Promo BoohooMan Codes Promo Ebay Codes Promo Asos Codes Promo Pandora Codes Promo Cdiscount Codes Promo Uber Eats Codes Promo NordVPN Suppléments partenaires L’occasion, une valeur durable Entreprendre, innover, initier Futurs désirables Prêts pour demain Embarquement en Slovénie Tourné vers l’avenir Des poêles entre design et durabilité Le fromage aux 1 001 recettes La french touch au poignet Explorer l’infiniment… Gestion des cookies Recherche Jeux olympiques Sport Jeux olympiques de Paris 2024 Paris et plusieurs villes en France accueilleront du 26 juillet au 11 août 2024 les prochains Jeux olympiques. Comment le pays se prépare-t-il ? Où en est l'organisation de l'événement ? Retrouvez toute l'actualité sur les sports (natation, judo, athlétisme, escrime, etc.), les qualifications, la cérémonie d'ouverture et la billetterie ainsi que les questions qui se posent encore sur le budget, la sécurité et l'empreinte écologique des JO de Paris 2024. Le calendrier des épreuves Y a-t-il un risque de dérapages budgétaires ? Qui finance les Jeux ? Le dispositif de sécurité sera-t-il suffisant ? Quel plan pour faire gagner les Français ? JO de Paris 2024 : « Pas de chiffre totem » pour le nombre de spectateurs qui assisteront à la cérémonie d’ouverture Édition du jour Daté du mercredi 22 novembre Lire le journal numérique Nos guides d’achat Les meilleurs boucleurs à cheveux Le meilleur antivol pour vélo Les meilleurs ventilateurs pour affronter la chaleur Mots croisés Découvrez chaque jour une nouvelle grille de mots croisés. Jouer Article réservé à nos abonnés Antoine Dupont aux Jeux olympiques, ce qui attend le maestro des Bleus pour s’adapter au rugby à VII Possible perte de poids, jeu au pied à bannir et potentiels lancers en touche… Le demi de mêlée tricolore, dont la participation à l’aventure olympique a été confirmée lundi, va devoir prendre la mesure des exigences du jeu à sept. Publié hier à 17h34 Valentin Moinard Article réservé à nos abonnés A l’heure du sport promu grande cause nationale, les sénateurs pointent « le fossé entre les déclarations et la réalité » des moyens La ministre des sports doit détailler, lundi soir puis mardi, le programme de la grande cause nationale pour 2024. Les sénateurs déplorent que le budget de l’Etat traduise un « décalage avec l’ambition de bâtir une nation sportive ». Publié hier à 17h00, modifié à 09h53 Philippe Le Coeur JO 2024 : test réussi pour les boîtes à livres ôtées des quais parisiens en vue de la cérémonie d’ouverture Quatre de ces emblématiques boîtes des bouquinistes parisiens ont été démontées de leur parapet, vendredi, puis remontées. Une réussite, estime la Mairie de Paris, alors que ce sujet avait provoqué des polémiques. Publié le 18 novembre 2023 à 15h46, modifié le 18 novembre 2023 à 16h58 Le Monde avec AFP Chronique Article réservé à nos abonnés « Des transports “hardcore” en région parisienne pendant les JO : quel message le gouvernement veut-il envoyer aux Franciliens ? » Le ministre des transports a prévenu que les déplacements à Paris à l’été 2024 seront très compliqués. Façon de dire aux Franciliens qu’il vaudrait mieux être absents pendant les Jeux ? Les intéressés sont déjà majoritairement décidés à ne pas rester. Publié le 18 novembre 2023 à 06h00 Philippe Le Coeur Tribune Article réservé à nos abonnés « Il faut que le moustique et les maladies qu’il véhicule soient considérés comme une vraie menace sanitaire » Etant donné la présence croissante du moustique en France et le risque qu’il représente pour la santé publique, la lutte menée contre cet insecte doit être repensée, notamment en vue de réduire au minimum le recours aux substances toxiques, estime dans une tribune au « Monde » le docteur Hamza Leulmi. Publié le 18 novembre 2023 à 05h15 Hamza Leulmi Paris 2024 : l’épreuve de surf maintenue à Teahupoo, avec un nouveau projet de tour des juges Le comité d’organisation des Jeux olympiques a annoncé, vendredi, la construction d’une nouvelle structure « plus sobre et réduite en taille et en poids » sur le site tahitien où doivent se tenir les compétitions pendant l’été prochain. Publié le 17 novembre 2023 à 19h47, modifié le 17 novembre 2023 à 20h29 Le Monde Paul-Henri Mathieu nouveau capitaine de l’équipe de France de tennis et responsable de la délégation masculine pour Paris 2024 L’ancien joueur a été préféré, vendredi, à Jo-Wilfried Tsonga ou Gilles Simon, eux aussi intéressés par le capitanat. Il dirigera également la délégation tricolore aux Jeux olympiques, qu’il espère emmener vers « une médaille ». Publié le 17 novembre 2023 à 15h02, modifié le 17 novembre 2023 à 16h34 Le Monde Sport à l’école : le ministère de l’éducation nationale veut « y voir plus clair » sur la mise en œuvre des trente minutes par jour Alors que le chiffre officiel sur la mise en place des trente minutes d’activité physique quotidienne en primaire est contesté, le ministère a annoncé le lancement d’une enquête pour disposer de données actualisées. Publié le 17 novembre 2023 à 10h47, modifié à 09h30 Philippe Le Coeur Paris 2024 : les incertitudes demeurent sur la tenue de l’épreuve olympique de surf à Teahupoo Confronté à l’opposition des écologistes et des habitants de Teahupoo, le président de la Polynésie française, Moetai Brotherson, avait annoncé qu’une décision serait prise mercredi 15 novembre. Jeudi 16 novembre au soir, il ne l’avait pas encore annoncée. Publié le 17 novembre 2023 à 10h20, modifié le 17 novembre 2023 à 12h07 Mike Leyral Article réservé à nos abonnés Paris 2024 : les entreprises d’Ile-de-France commencent à se pencher sur l’organisation du travail durant les Jeux Le télétravail et la modulation des congés sont les deux éléments de réponse des employeurs pour assurer la continuité de l’activité et éviter les problèmes de circulation en Ile-de-France durant les Jeux olympiques et paralympiques. Publié le 17 novembre 2023 à 06h00, modifié le 17 novembre 2023 à 16h46 Anne Rodier Article réservé à nos abonnés Paris 2024 : la piscine de Colombes reste « l’option privilégiée » pour accueillir la natation synchronisée La rénovation de l’équipement de la ville des Hauts-de-Seine a pris du retard et sa mise à disposition de Paris 2024 aura lieu fin juin 2024. Si un plan B est envisagé, « il n’y a aucune raison pour qu’il soit activé », fait valoir la commune. Publié le 16 novembre 2023 à 20h10, modifié le 17 novembre 2023 à 09h00 Philippe Le Coeur Article réservé à nos abonnés La marque suisse de sport On se prépare aux Jeux olympiques de Paris 2024 L’équipementier helvétique, connu pour ses chaussures de course à pied, ouvre une première boutique dans la capitale. Publié le 16 novembre 2023 à 11h04, modifié le 16 novembre 2023 à 11h15 Juliette Garnier Financement du sport : les sénateurs posent la question d’un recours plus important aux taxes sur les paris sportifs Le rapporteur pour avis sur les crédits de la mission Sports, figurant dans le projet de budget 2024, a annoncé qu’il déposera un amendement visant à relever les sommes issues des taxes sur les paris sportifs, qui sont destinées à l’Agence nationale du sport. Publié le 15 novembre 2023 à 15h43, modifié le 16 novembre 2023 à 06h50 Philippe Le Coeur Paris 2024 : les élus parisiens rejettent les taxis volants Le Conseil de Paris a rendu, mardi, un avis négatif sur ce projet porté par le groupe Aéroports de Paris pour les Jeux olympiques. Les élus dénoncent notamment un programme « absurde » et une « aberration écologique ». Publié le 15 novembre 2023 à 02h54, modifié le 15 novembre 2023 à 12h44 Le Monde avec AFP Article réservé à nos abonnés Des acteurs proches de l’Azerbaïdjan derrière une campagne de boycott des JO de Paris Le service français chargé de la lutte contre les ingérences numériques étrangères a mis au jour une offensive électronique, émanant de ce pays du Caucase, visant à remettre en cause la capacité de Paris à organiser ce rendez-vous sportif planétaire. Publié le 14 novembre 2023 à 19h20 Philippe Ricard Paris 2024 : « Les jours de compétition, ce sera compliqué de circuler dans Paris », reconnaît le ministre des transports Après la tenue d’une réunion avec l’ensemble des acteurs du transport sur le sujet, Clément Beaune a annoncé, mardi, que les plans de circulation dans la capitale pendant les Jeux olympiques seraient présentés avant la fin de l’année. Publié le 14 novembre 2023 à 16h32, modifié le 15 novembre 2023 à 12h48 Le Monde avec AFP Paris 2024 : la liste des écoles pour lesquelles la rentrée 2024 sera décalée est en cours de constitution En raison des Jeux paralympiques, certains établissements scolaires, situés dans un périmètre de circulation interdite ou restreinte, ou à proximité des voies réservées, devront différer la rentrée en septembre 2024. Publié le 14 novembre 2023 à 11h10, modifié le 16 novembre 2023 à 18h09 Philippe Le Coeur Paris 2024 : la France dénonce une campagne de désinformation liée à l’Azerbaïdjan Selon un rapport de l’organisme de lutte contre les ingérences numériques étrangères, les investigations ont démarré en juillet lorsque « plusieurs visuels appelant à boycotter » les Jeux olympiques ont été détectés. Publié le 13 novembre 2023 à 20h11, modifié le 13 novembre 2023 à 20h19 Le Monde avec AFP Portrait Article réservé à nos abonnés Paris 2024 : dans l’écume de Teahupoo, la surfeuse Vahine Fierro ouvre la voie Si le surf est au cœur de la culture polynésienne, les femmes ont longtemps été exclues de la pratique. Première « locale » à surfer sur l’emblématique vague de Teahupoo, désignée site olympique, la Française incarne la féminisation de la discipline. Publié le 13 novembre 2023 à 19h30, modifié le 17 novembre 2023 à 12h52 Louise Le Borgne Décryptage Article réservé à nos abonnés Paris 2024 : à Tahiti, les Jeux olympiques ne savent plus sur quelle vague surfer Le choix de Teahupoo pour l’épreuve de surf avait réjoui les adeptes. Mais de nombreux Tahitiens s’opposent à la création d’une nouvelle infrastructure sur ce site en vue des Jeux, à cause de dommages irrémédiables pour la vie du récif. Publié le 13 novembre 2023 à 18h00, modifié le 13 novembre 2023 à 18h40 Mike Leyral Paris 2024 : la perception des Jeux olympiques « atteint la cote d’alerte » chez les Franciliens, selon un sondage Selon une enquête d’Odoxa, 44 % des Franciliens jugent que l’accueil des Jeux est une mauvaise chose, quand ils étaient 22 % à exprimer cette opinion il y a deux ans. Sur le plan national, 65 % des Français sont favorables à la tenue des Jeux, contre 69 % en mars. Publié le 13 novembre 2023 à 13h20, modifié le 15 novembre 2023 à 17h48 Philippe Le Coeur Chronique Article réservé à nos abonnés Paris 2024 : « Le grand déballage dans les fédérations sportives à huit mois des Jeux olympiques » Les différentes auditions devant la commission d’enquête parlementaire sur les défaillances dans les fédérations montrent que le mouvement sportif est encore malade de sa gouvernance. Publié le 12 novembre 2023 à 06h00 Nicolas Lepeltier Reportage Article réservé à nos abonnés Paris 2024 : en Bretagne, les mascottes des JO ravivent un savoir-faire perdu Si la majeure partie des « Phryges », les peluches olympiques, reste produite en Chine, celles fabriquées à Guerche-de-Bretagne, en Ille-et-Vilaine, incarnent la renaissance de l’industrie du jouet en France. Publié le 11 novembre 2023 à 13h30, modifié le 12 novembre 2023 à 14h10 Emma Barets Paris 2024 : le parcours de la flamme paralympique dévoilé, du berceau du parasport, en Angleterre, jusqu’à Paris Le Comité d’organisation des Jeux a révélé, vendredi, le parcours de la flamme. Allumée à Stoke Mandeville, elle se divisera en douze flammes qui traverseront une cinquantaine de villes françaises en quatre jours. Publié le 10 novembre 2023 à 10h54, modifié le 10 novembre 2023 à 17h02 Laura Pottier Emma Barets L'histoire Article réservé à nos abonnés Avant les JO 2024, Paris teste le démontage des caisses des bouquinistes Vendredi 10 novembre, quatre boîtes de vendeurs de livres d’occasion des quais de Seine seront démontées et remontées pour tester la faisabilité du grand déménagement des bouquinistes prévu en juillet, avant la cérémonie d’ouverture des Jeux olympiques. Publié le 08 novembre 2023 à 16h15, modifié le 09 novembre 2023 à 01h28 Nicole Vulser Article réservé à nos abonnés Au Royaume-Uni, le sport valorisé à l’école est davantage un mythe qu’une réalité Le ministère de l’éducation recommande aux établissements publics outre-Manche deux heures d’éducation physique par semaine. Et encore, il ne s’agit pas d’une obligation. Publié le 08 novembre 2023 à 16h00 Cécile Ducourtieux L'histoire Article réservé à nos abonnés En Espagne, la bataille pour passer à trois heures de sport au collège L’Espagne est à la queue des pays européens en nombre d’heures de pratique sportive à l’école. Seule la communauté de Madrid a approuvé une troisième heure d’éducation physique obligatoire, en 2020, après plusieurs années de débat. Publié le 08 novembre 2023 à 13h00, modifié le 08 novembre 2023 à 15h48 Sandrine Morel Paris 2024 : le président polynésien envisage de déplacer les épreuves de surf du site de Teahupoo Le projet d’installer une tour des juges en aluminium dans le lagon pour les Jeux olympiques suscite depuis plusieurs mois la colère des habitants, des surfeurs et des écologistes. Publié le 08 novembre 2023 à 12h12, modifié le 08 novembre 2023 à 12h35 Service Sports Explications Article réservé à nos abonnés « Savoir nager » en sécurité, un objectif national difficile à atteindre en France L’apprentissage de la natation à l’école a été érigé en priorité par l’éducation nationale. Pourtant, en raison du manque d’équipements ou de leur vétusté, certains établissements n’arrivent pas à l’enseigner. Publié le 08 novembre 2023 à 11h00, modifié le 08 novembre 2023 à 15h47 Minh Dréan Reportage Article réservé à nos abonnés Le sport à l’école et en dehors : à Aulnay-sous-Bois, le handball motive les adolescentes Afin d’éviter les défections fréquentes chez les filles autour de la puberté, les joueuses de la section handball du collège Victor-Hugo, à Aulnay-sous-Bois (Seine-Saint-Denis), ont été réunies au sein d’une même classe. Avec l’objectif de combiner réussite sportive et scolaire. Publié le 08 novembre 2023 à 09h30, modifié le 09 novembre 2023 à 16h55 Violaine Morin Décryptage Article réservé à nos abonnés Le sport à l’école cherche encore la bonne formule Malgré un temps d’activité physique obligatoire plus élevé que celui de leurs voisins européens, les élèves français ont une pratique sportive régulière plutôt faible. La faute à la place de la discipline au sein de l’éducation nationale, mais aussi à un défaut de continuité entre école, associations sportives scolaires et clubs. Publié le 08 novembre 2023 à 06h00, modifié le 08 novembre 2023 à 14h56 Violaine Morin Le comité olympique russe conteste devant le Tribunal arbitral du sport sa suspension par le CIO Le Comité international olympique avait décidé, le 12 octobre, de suspendre l’instance russe en raison de sa décision d’inclure parmi ses membres les organisations sportives régionales ukrainiennes de Donetsk, Kherson, Louhansk et Zaporijia. Publié le 06 novembre 2023 à 12h41, modifié le 06 novembre 2023 à 12h52 Le Monde avec AFP Décryptage Article réservé à nos abonnés Après Teddy Riner, le judo français veut éviter une traversée du désert chez les lourds En l’absence du champion olympique de 34 ans, aucun Français n’est aligné dans la catégorie reine des + de 100 kilos aux championnats d’Europe à Montpellier. Mais la fédération s’organise déjà pour trouver un remplaçant à la star de la discipline. Publié le 05 novembre 2023 à 08h30 Anthony Hernandez Chronique Article réservé à nos abonnés Paris 2024 : « Emmanuel Macron au défi d’inscrire les Jeux dans une vision politique » Pour le chef de l’Etat et son gouvernement, il va falloir dépasser le slogan « les Jeux de tous les Français » en offrant une mise en perspective de ce que l’événement peut représenter pour le pays, et faire en sorte que celle-ci soit partagée. Ce n’est pas gagné. Publié le 05 novembre 2023 à 06h30, modifié le 05 novembre 2023 à 07h03 Philippe Le Coeur Reportage Article réservé à nos abonnés Paris 2024 : à Font-Romeu, petits et grands bols d’air pour tenter de tutoyer les sommets Unique en France, le Centre national d’entraînement en altitude accueille les sportifs de haut niveau dans leur préparation des Jeux olympiques de 2024. Publié le 04 novembre 2023 à 11h00, modifié le 04 novembre 2023 à 17h04 Philippe Gagnebet Explications Article réservé à nos abonnés Pour les judokas français, le parcours du combattant pour décrocher un sésame olympique commence à Montpellier Les championnats d’Europe, du 3 au 5 novembre, ne sont qu’une première étape dans un chemin de sélection pour les Jeux de Paris. Au sein d’un judo tricolore florissant, la concurrence est rude. Publié le 04 novembre 2023 à 08h30, modifié le 04 novembre 2023 à 13h34 Anthony Hernandez Paris 2024 : les Jeux représenteront un coût d’au moins 61 millions d’euros pour la gendarmerie L’évaluation, présentée comme provisoire et qui concerne pour moitié des dépenses de personnel, figure dans un rapport sénatorial sur le projet de loi de finances pour 2024. Publié le 03 novembre 2023 à 16h24, modifié le 04 novembre 2023 à 10h59 Philippe Le Coeur Paris 2024 : 5 millions d’euros seront débloqués pour aider les clubs sportifs à rester ouverts pendant les Jeux Un amendement commun des députés de la majorité et du gouvernement a été adopté, vendredi, lors de l’examen des crédits du ministère des sports et des Jeux. Publié le 03 novembre 2023 à 10h33, modifié le 03 novembre 2023 à 10h43 Philippe Le Coeur Portrait Article réservé à nos abonnés Championnats d’Europe de judo : Walide Khyar a pris du poids sur la scène internationale Grand espoir tricolore depuis un premier titre européen en 2016, le judoka a mis du temps à s’imposer. Pour cela, il a changé – avec succès – de catégorie il y a deux ans, passant des − 60 aux − 66 kg. Il entre en lice vendredi à Montpellier. Publié le 03 novembre 2023 à 08h30, modifié le 03 novembre 2023 à 11h15 Anthony Hernandez Article réservé à nos abonnés Après les JO de Paris, plus de 1 600 logements pour athlètes et journalistes seront proposés à des étudiants La gestion de cet « héritage matériel sera dévolue à des organismes privés, notamment des bailleurs sociaux, et non aux Crous. Un recours de contestation a été introduit devant le Conseil d’Etat, selon nos informations. Publié le 02 novembre 2023 à 14h00, modifié le 02 novembre 2023 à 15h23 Soazig Le Nevé Paris 2024 : un rapport parlementaire déplore le manque de moyens supplémentaires pour les pompiers de Paris avant les Jeux Le rapporteur spécial à l’Assemblée nationale sur les crédits de la mission sécurité civile a alerté sur une hausse jugée insuffisante du financement par l’Etat de la Brigade des sapeurs-pompiers de Paris au regard des besoins exprimés par celle-ci. Publié le 01 novembre 2023 à 18h08, modifié le 02 novembre 2023 à 15h01 Philippe Le Coeur Entretien Article réservé à nos abonnés Daniil Medvedev, joueur de tennis russe : « Je compte bien être aux Jeux olympiques de Paris » Dans un entretien au « Monde », le tennisman (numéro 3 mondial), qui entre en lice mercredi 1ᵉʳ novembre au Masters 1000 de Bercy face à Grigor Dimitrov, revient sur sa bonne saison et se projette sur Paris 2024, où les sportifs Russes ne sont, à ce jour, pas officiellement conviés. Publié le 01 novembre 2023 à 11h59, modifié le 01 novembre 2023 à 12h12 Elisabeth Pineau Près de 300 000 spectateurs en accès gratuit pour la cérémonie d’ouverture des JO de Paris, l’option que préfèrent les pouvoirs publics Un conseil de défense et de sécurité doit avoir lieu fin novembre. Les autorités finalisent les dispositions et les dispositifs visant à assurer les filtrages et les contrôles, ainsi qu’à éviter des mouvements de foule. Publié le 31 octobre 2023 à 11h24, modifié le 31 octobre 2023 à 18h07 Nicolas Lepeltier Philippe Le Coeur Article réservé à nos abonnés Paris 2024 : l’organisateur des Jeux pioche dans ses réserves pour assurer l’équilibre de son budget Depuis le début de l’année, Paris 2024 a puisé une quarantaine de millions d’euros dans ses réserves pour absorber des surcoûts. La révision budgétaire en cours le conduira à le faire encore plus pour couvrir de nouvelles dépenses et tenir l’équilibre des comptes. Publié le 31 octobre 2023 à 06h30, modifié le 31 octobre 2023 à 10h52 Nicolas Lepeltier Philippe Le Coeur Paris 2024 : des associations dénoncent un « nettoyage social » en Ile-de-France en amont des Jeux olympiques Un collectif, qui a projeté un message sur la façade du comité d’organisation, s’inquiète des démantèlements de campements informels, du déplacement « forcé » de sans-abri, des évacuations de foyers de travailleurs immigrés et des interdictions de distributions alimentaires. Publié le 30 octobre 2023 à 03h50, modifié le 30 octobre 2023 à 09h46 Le Monde avec AFP Chronique Article réservé à nos abonnés Paris 2024 : le Mondial de rugby, une réussite qui n’est pas forcément transposable aux Jeux olympiques Il apparaît difficile de tirer des leçons de l’organisation de la Coupe du monde de rugby pour les Jeux olympiques de Paris, tant les deux événements diffèrent. Un constat s’impose : la France n’est pas encore prête en matière de transports et de sécurité. Publié le 29 octobre 2023 à 06h30 Nicolas Lepeltier JO de Paris 2024 : « 100 euros et deux places » en dédommagement pour les étudiants dont les logements seront réquisitionnés « L’idée est de reloger ces étudiants pendant les deux mois d’été, juillet et août, sans aucun surcoût », a annoncé la ministre de l’enseignement supérieur, Sylvie Retailleau. Publié le 26 octobre 2023 à 20h28, modifié le 26 octobre 2023 à 20h30 Le Monde avec AFP Brève Paris 2024 : le gouvernement étudiera l’option du recours à l’armée début 2024 Publié le 26 octobre 2023 à 07h38, modifié le 26 octobre 2023 à 11h53 Le Monde Paris 2024 : l’AP-HP va octroyer des primes aux soignants renonçant à leurs vacances estivales Les hôpitaux publics parisiens auront des besoins d’effectifs supérieurs à la normale du fait des Jeux olympiques. Publié le 26 octobre 2023 à 06h03, modifié le 26 octobre 2023 à 11h58 Le Monde avec AFP Financement du sport : le gouvernement n’exclut pas de solliciter plus fortement les paris sportifs La ministre des sports et des Jeux olympiques et paralympiques a déclaré, mercredi au Sénat, qu’elle « n’écarte pas une discussion pour l’avenir » sur une plus forte utilisation des taxes prélevées sur les paris sportifs pour financer l’Agence nationale du sport. Publié le 25 octobre 2023 à 18h50, modifié le 26 octobre 2023 à 10h36 Philippe Le Coeur Paris 2024 : « Pas de crainte » sur les effets de l’inflation pour les ouvrages olympiques, selon le gouvernement La ministre des sports et des Jeux a assuré, mardi devant les députés, que le « cadre est bien maîtrisé » en ce qui concerne la prise en compte des effets de la hausse des prix sur le budget de la société de livraison des ouvrages olympiques. Publié le 25 octobre 2023 à 10h27, modifié le 26 octobre 2023 à 13h59 Philippe Le Coeur Article réservé à nos abonnés Paris 2024 doit repartir en quête d’agents de sécurité privée pour la cérémonie d’ouverture des Jeux Un rapport parlementaire souligne que certains lots pour la sécurité de la cérémonie d’ouverture ne sont pas pourvus. Le Comité d’organisation reconnaît que peu d’entreprises se sont positionnées et qu’il va relancer des appels d’offres fin novembre. Publié le 24 octobre 2023 à 18h14, modifié le 24 octobre 2023 à 20h34 Philippe Le Coeur La Seine-Saint-Denis, au cœur du marathon paralympique et du paracyclisme pour les JO de Paris Les parcours des deux épreuves paralympiques, dévoilés mardi 24 octobre, traverseront une dizaine de communes du département qui compte, avec Paris, le plus grand nombre de sites des Jeux. Publié le 24 octobre 2023 à 11h18, modifié le 24 octobre 2023 à 11h53 Nicolas Lepeltier Ouverture à la concurrence des bus RATP à Paris : l’étalement du calendrier jusqu’à la fin de 2026 acté par le Sénat Quelque 19 000 travailleurs sont concernés, sur 308 lignes. La mesure est critiquée par la gauche, qui accuse l’exécutif de vouloir « enjamber » les Jeux olympiques de 2024 par crainte de mouvements sociaux. Publié le 24 octobre 2023 à 02h18, modifié le 24 octobre 2023 à 13h22 Le Monde avec AFP Paris 2024 : les sénateurs s’inquiètent des « risques qui pèsent » sur la livraison de certains ouvrages olympiques La commission des finances du Sénat a réservé son vote sur les crédits de la mission « sports, jeunesse et vie associative ». Elle veut disposer de plus d’éléments sur certains chantiers olympiques et le chiffrage du coût des Jeux. Publié le 22 octobre 2023 à 21h14, modifié le 24 octobre 2023 à 11h21 Philippe Le Coeur Tribune « La question n’est plus de savoir s’il faut ou non une institution pour réguler le sport, l’urgence est d’en déterminer les modalités » La multiplication des affaires de corruption lors des grands événements sportifs met en valeur le besoin urgent d’une institution internationale indépendante chargée d’assurer l’intégrité du sport dans son ensemble, estiment les spécialistes Frédérique Reynertz et Pim Verschuuren dans une tribune au « Monde ». Publié le 22 octobre 2023 à 11h00 Frédérique Reynertz Pim Verschuuren Chronique Article réservé à nos abonnés Paris 2024 : « Vouloir une adhésion aux Jeux suppose (aussi) de la pédagogie et de la transparence » Après avoir établi une « ébauche » des investissements de l’Etat et des collectivités liés aux Jeux olympiques et paralympiques, le gouvernement doit faire œuvre de clarté s’il veut rendre acceptables ces chiffres aux yeux des Français. Publié le 22 octobre 2023 à 07h00, modifié le 22 octobre 2023 à 07h57 Philippe Le Coeur Article réservé à nos abonnés Paris 2024 : comment la breakdance se structure sans se dénaturer Le breaking sera pour la première fois au menu des Jeux olympiques. Si l’échéance lui a permis de se professionnaliser, cette discpline, à mi-chemin entre sport et culture, conserve une volonté marquée de rester fidèle à son essence. Publié le 21 octobre 2023 à 14h00, modifié le 23 octobre 2023 à 07h59 Laura Pottier Reportage Article réservé à nos abonnés JO 2024 : au Stade de France, les répétitions générales de la SNCF pour gérer les foules d’après-match Pour 2024, Transilien doit non seulement former des chefs de site et des chefs de quai, mais aussi sensibiliser les équipes de la quarantaine de gares d’Ile-de-France dont la fréquentation va subitement exploser. Publié le 21 octobre 2023 à 11h30, modifié le 23 octobre 2023 à 13h57 Emeline Cazi Paris 2024 : à Saint-Malo, l’athlétisme français se mobilise dans la dernière ligne droite olympique A neuf mois des Jeux, les différentes disciplines sont montrées du doigt pour leur manque de résultats depuis des années. La Fédération française a organisé, pendant une semaine, un séminaire en Bretagne pour remotiver les troupes. Publié le 20 octobre 2023 à 17h53, modifié le 20 octobre 2023 à 22h14 Anthony Hernandez Voir plus 1 2 Services Le Monde Les ateliers du Monde Mémorable : travailler sa mémoire Mots croisés Sudokus Résultats élections Education Gastronomie Guides d'achat Le Monde Les meilleures imprimantes laser Les meilleurs aspirateurs robots Jeux de société pour adultes Codes promo Codes promo Black Friday Soldes Le Monde à l'international Le Monde in English Algérie Belgique Canada Côte d’Ivoire Mali Maroc Sénégal Suisse Tunisie Services Partenaires Découvrir le jardinage Hits du moment Formation professionnelle Sites du groupe Le Monde Evènements Courrier International Télérama La Vie Le HuffPost L’Obs Le Monde diplomatique La société des lecteurs du Monde Talents Source Sûre Le Club de l’économie M Publicité Le carnet du Monde Newsletters du monde Recevoir les newsletters du Monde Applications Mobiles Sur iPhone Sur Android Abonnement Archives du Monde S’abonner Se connecter Consulter le Journal du jour Évenements abonnés Jeux-concours abonnés Contacter Le Monde Informations légales le Monde Mentions légales Conditions générales Charte du Groupe Politique de confidentialité Aide (FAQ) Mentions légales Charte du Groupe Politique de confidentialité Gestion des cookies Conditions générales Aide (FAQ) Suivez Le Monde Facebook Youtube Twitter Instagram Snapchat Fils RSS\n"
     ]
    }
   ],
   "source": [
    "url = \"https://www.lemonde.fr/jeux-olympiques-2024/\"\n",
    "custom_request_final = CustomRequest()\n",
    "info = custom_request_final.parse_html_page(url)\n",
    "#response = requests.get(url, headers=headers)\n",
    "#soup = BeautifulSoup(response.text, 'html.parser')\n",
    "#print([result.text.strip() for result in soup.find_all(id='Header')])\n",
    "print(\"url: \" + info['url'])\n",
    "print(\"titre: \" + info['title'])\n",
    "print(\"domaine: \" + get_domain_from_url(url))\n",
    "main_text = remove_extra_spaces(info['main_text'])\n",
    "main_text = clean_html_string(main_text)\n",
    "print(\"text important: \" + main_text)"
   ]
  },
  {
   "cell_type": "code",
   "execution_count": null,
   "metadata": {},
   "outputs": [],
   "source": []
  }
 ],
 "metadata": {
  "kernelspec": {
   "display_name": "Python 3 (ipykernel)",
   "language": "python",
   "name": "python3"
  },
  "language_info": {
   "codemirror_mode": {
    "name": "ipython",
    "version": 3
   },
   "file_extension": ".py",
   "mimetype": "text/x-python",
   "name": "python",
   "nbconvert_exporter": "python",
   "pygments_lexer": "ipython3",
   "version": "3.8.18"
  }
 },
 "nbformat": 4,
 "nbformat_minor": 4
}
