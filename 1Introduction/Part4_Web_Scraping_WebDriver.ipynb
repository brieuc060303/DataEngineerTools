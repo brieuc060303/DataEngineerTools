{
 "cells": [
  {
   "cell_type": "markdown",
   "metadata": {},
   "source": [
    "# Introduction"
   ]
  },
  {
   "cell_type": "markdown",
   "metadata": {},
   "source": [
    "Aujourd'hui la plupart des sites web utilisent du JavaScript pour rendre le site plus dynamique et agréable mais aussi pour afficher la données. \n",
    "\n",
    "Pour ces sites, la première méthode abordée n'est pas efficace, car de nombreuses requêtes sont utilisées pour se connecter, afficher la donnée, naviguer, il faudrait prendre en compte toutes ces requêtes et les assembler pour simuler le comportement du site. \n",
    "\n",
    "**C'est le comportement de votre navigateur**, il compile toutes les interactions, les requêtes et génère du HTML permettant d'afficher l'interface graphique d'un site web.\n",
    "\n",
    "Pour palier ce problème on peut laisser le navigateur faire son travail et contrôler sa surcouche logiciel. Pour cela on peut prendre le contrôle d'un navigateur comme Chrome, Edge, Firefox ou Safari depuis un script Python. \n",
    "\n",
    "Pour cela, nous allons utiliser un package Python `Selenium` https://selenium-python.readthedocs.io/ qui permet d'instancier un navigateur et de le contrôler. Sélénium est beaucoup utilisé pour générer des tests automatiques de sites web. \n",
    "\n",
    "On peut trouver les drivers des différents browser : \n",
    "- Chrome:\thttps://sites.google.com/a/chromium.org/chromedriver/downloads\n",
    "- Edge:\thttps://developer.microsoft.com/en-us/microsoft-edge/tools/webdriver/\n",
    "- Firefox:\thttps://github.com/mozilla/geckodriver/releases\n",
    "- Safari:\thttps://webkit.org/blog/6900/webdriver-support-in-safari-10/"
   ]
  },
  {
   "cell_type": "code",
   "execution_count": 20,
   "metadata": {
    "ExecuteTime": {
     "end_time": "2023-11-20T21:32:49.277494097Z",
     "start_time": "2023-11-20T21:32:47.401284641Z"
    }
   },
   "outputs": [
    {
     "name": "stdout",
     "output_type": "stream",
     "text": [
      "Collecting selenium==4.0.0\n",
      "  Downloading selenium-4.0.0-py3-none-any.whl (954 kB)\n",
      "\u001b[2K     \u001b[90m━━━━━━━━━━━━━━━━━━━━━━━━━━━━━━━━━━━━━━━\u001b[0m \u001b[32m954.3/954.3 kB\u001b[0m \u001b[31m1.3 MB/s\u001b[0m eta \u001b[36m0:00:00\u001b[0m00:01\u001b[0m00:01\u001b[0m\n",
      "\u001b[?25hCollecting urllib3~=1.26 (from urllib3[secure]~=1.26->selenium==4.0.0)\n",
      "  Downloading urllib3-1.26.18-py2.py3-none-any.whl.metadata (48 kB)\n",
      "\u001b[2K     \u001b[90m━━━━━━━━━━━━━━━━━━━━━━━━━━━━━━━━━━━━━━━\u001b[0m \u001b[32m48.9/48.9 kB\u001b[0m \u001b[31m458.4 kB/s\u001b[0m eta \u001b[36m0:00:00\u001b[0ma \u001b[36m0:00:01\u001b[0m\n",
      "\u001b[?25hRequirement already satisfied: trio~=0.17 in /root/.local/share/virtualenvs/code-AFz48Hjb/lib/python3.8/site-packages (from selenium==4.0.0) (0.23.1)\n",
      "Requirement already satisfied: trio-websocket~=0.9 in /root/.local/share/virtualenvs/code-AFz48Hjb/lib/python3.8/site-packages (from selenium==4.0.0) (0.11.1)\n",
      "Requirement already satisfied: attrs>=20.1.0 in /root/.local/share/virtualenvs/code-AFz48Hjb/lib/python3.8/site-packages (from trio~=0.17->selenium==4.0.0) (23.1.0)\n",
      "Requirement already satisfied: sortedcontainers in /root/.local/share/virtualenvs/code-AFz48Hjb/lib/python3.8/site-packages (from trio~=0.17->selenium==4.0.0) (2.4.0)\n",
      "Requirement already satisfied: idna in /root/.local/share/virtualenvs/code-AFz48Hjb/lib/python3.8/site-packages (from trio~=0.17->selenium==4.0.0) (3.4)\n",
      "Requirement already satisfied: outcome in /root/.local/share/virtualenvs/code-AFz48Hjb/lib/python3.8/site-packages (from trio~=0.17->selenium==4.0.0) (1.3.0.post0)\n",
      "Requirement already satisfied: sniffio>=1.3.0 in /root/.local/share/virtualenvs/code-AFz48Hjb/lib/python3.8/site-packages (from trio~=0.17->selenium==4.0.0) (1.3.0)\n",
      "Requirement already satisfied: exceptiongroup>=1.0.0rc9 in /root/.local/share/virtualenvs/code-AFz48Hjb/lib/python3.8/site-packages (from trio~=0.17->selenium==4.0.0) (1.2.0)\n",
      "Requirement already satisfied: wsproto>=0.14 in /root/.local/share/virtualenvs/code-AFz48Hjb/lib/python3.8/site-packages (from trio-websocket~=0.9->selenium==4.0.0) (1.2.0)\n",
      "Requirement already satisfied: pyOpenSSL>=0.14 in /root/.local/share/virtualenvs/code-AFz48Hjb/lib/python3.8/site-packages (from urllib3[secure]~=1.26->selenium==4.0.0) (23.3.0)\n",
      "Requirement already satisfied: cryptography>=1.3.4 in /root/.local/share/virtualenvs/code-AFz48Hjb/lib/python3.8/site-packages (from urllib3[secure]~=1.26->selenium==4.0.0) (41.0.5)\n",
      "Requirement already satisfied: certifi in /root/.local/share/virtualenvs/code-AFz48Hjb/lib/python3.8/site-packages (from urllib3[secure]~=1.26->selenium==4.0.0) (2023.11.17)\n",
      "Collecting urllib3-secure-extra (from urllib3[secure]~=1.26->selenium==4.0.0)\n",
      "  Downloading urllib3_secure_extra-0.1.0-py2.py3-none-any.whl (1.4 kB)\n",
      "Requirement already satisfied: cffi>=1.12 in /root/.local/share/virtualenvs/code-AFz48Hjb/lib/python3.8/site-packages (from cryptography>=1.3.4->urllib3[secure]~=1.26->selenium==4.0.0) (1.16.0)\n",
      "Requirement already satisfied: h11<1,>=0.9.0 in /root/.local/share/virtualenvs/code-AFz48Hjb/lib/python3.8/site-packages (from wsproto>=0.14->trio-websocket~=0.9->selenium==4.0.0) (0.14.0)\n",
      "Requirement already satisfied: pycparser in /root/.local/share/virtualenvs/code-AFz48Hjb/lib/python3.8/site-packages (from cffi>=1.12->cryptography>=1.3.4->urllib3[secure]~=1.26->selenium==4.0.0) (2.21)\n",
      "Downloading urllib3-1.26.18-py2.py3-none-any.whl (143 kB)\n",
      "\u001b[2K   \u001b[90m━━━━━━━━━━━━━━━━━━━━━━━━━━━━━━━━━━━━━━━\u001b[0m \u001b[32m143.8/143.8 kB\u001b[0m \u001b[31m233.4 kB/s\u001b[0m eta \u001b[36m0:00:00\u001b[0m00:01\u001b[0m\n",
      "\u001b[?25hInstalling collected packages: urllib3-secure-extra, urllib3, selenium\n",
      "  Attempting uninstall: urllib3\n",
      "    Found existing installation: urllib3 2.1.0\n",
      "    Uninstalling urllib3-2.1.0:\n",
      "      Successfully uninstalled urllib3-2.1.0\n",
      "Successfully installed selenium-4.0.0 urllib3-1.26.18 urllib3-secure-extra-0.1.0\n"
     ]
    }
   ],
   "source": [
    "!pip install selenium==4.0.0"
   ]
  },
  {
   "cell_type": "code",
   "execution_count": 40,
   "metadata": {
    "ExecuteTime": {
     "end_time": "2023-11-20T21:32:55.303635486Z",
     "start_time": "2023-11-20T21:32:55.204093216Z"
    }
   },
   "outputs": [],
   "source": [
    "from selenium import webdriver"
   ]
  },
  {
   "cell_type": "code",
   "execution_count": 41,
   "metadata": {},
   "outputs": [],
   "source": [
    "IS_LINUX = True"
   ]
  },
  {
   "cell_type": "code",
   "execution_count": 42,
   "metadata": {},
   "outputs": [
    {
     "ename": "TypeError",
     "evalue": "__init__() got an unexpected keyword argument 'executable_path'",
     "output_type": "error",
     "traceback": [
      "\u001b[0;31m---------------------------------------------------------------------------\u001b[0m",
      "\u001b[0;31mTypeError\u001b[0m                                 Traceback (most recent call last)",
      "Cell \u001b[0;32mIn[42], line 1\u001b[0m\n\u001b[0;32m----> 1\u001b[0m chrome \u001b[38;5;241m=\u001b[39m \u001b[43mwebdriver\u001b[49m\u001b[38;5;241;43m.\u001b[39;49m\u001b[43mChrome\u001b[49m\u001b[43m(\u001b[49m\u001b[43mexecutable_path\u001b[49m\u001b[38;5;241;43m=\u001b[39;49m\u001b[38;5;124;43m\"\u001b[39;49m\u001b[38;5;124;43m./chromedriver_mac\u001b[39;49m\u001b[38;5;124;43m\"\u001b[39;49m\u001b[43m \u001b[49m\u001b[38;5;28;43;01mif\u001b[39;49;00m\u001b[43m \u001b[49m\u001b[38;5;129;43;01mnot\u001b[39;49;00m\u001b[43m \u001b[49m\u001b[43mIS_LINUX\u001b[49m\u001b[43m \u001b[49m\u001b[38;5;28;43;01melse\u001b[39;49;00m\u001b[43m \u001b[49m\u001b[38;5;124;43m\"\u001b[39;49m\u001b[38;5;124;43m./chromedriver_linux\u001b[39;49m\u001b[38;5;124;43m\"\u001b[39;49m\u001b[43m)\u001b[49m\n",
      "\u001b[0;31mTypeError\u001b[0m: __init__() got an unexpected keyword argument 'executable_path'"
     ]
    }
   ],
   "source": [
    "chrome = webdriver.Chrome(executable_path=\"./chromedriver_mac\" if not IS_LINUX else \"./chromedriver_linux\")"
   ]
  },
  {
   "cell_type": "markdown",
   "metadata": {},
   "source": [
    "Vous devez voir apparaître une nouvelle instance de votre navigateur. Si vous voulez accéder à une page : "
   ]
  },
  {
   "cell_type": "code",
   "execution_count": 26,
   "metadata": {},
   "outputs": [
    {
     "ename": "NameError",
     "evalue": "name 'chrome' is not defined",
     "output_type": "error",
     "traceback": [
      "\u001b[0;31m---------------------------------------------------------------------------\u001b[0m",
      "\u001b[0;31mNameError\u001b[0m                                 Traceback (most recent call last)",
      "Cell \u001b[0;32mIn[26], line 1\u001b[0m\n\u001b[0;32m----> 1\u001b[0m \u001b[43mchrome\u001b[49m\u001b[38;5;241m.\u001b[39mget(\u001b[38;5;124m\"\u001b[39m\u001b[38;5;124mhttps://www.amazon.fr\u001b[39m\u001b[38;5;124m\"\u001b[39m)\n",
      "\u001b[0;31mNameError\u001b[0m: name 'chrome' is not defined"
     ]
    }
   ],
   "source": [
    "chrome.get(\"https://www.amazon.fr\")"
   ]
  },
  {
   "cell_type": "markdown",
   "metadata": {},
   "source": [
    "Allez maintenant voir votre fenêtre. Vous êtes sur le site d'amazon. Vous pouvez maintenant vous déplacer dans la page. Pour cela il va falloir inspecter le code source de la page.\n",
    "\n",
    "Il existe de nombreuse méthode pour récupérer les éléments par exemple `find_element_by_link_text` qui permet de récupérer un élément grâce au text affiché. Ici, si on veut récupérer toutes les `Ventes Flash`"
   ]
  },
  {
   "cell_type": "code",
   "execution_count": 27,
   "metadata": {},
   "outputs": [
    {
     "ename": "NameError",
     "evalue": "name 'chrome' is not defined",
     "output_type": "error",
     "traceback": [
      "\u001b[0;31m---------------------------------------------------------------------------\u001b[0m",
      "\u001b[0;31mNameError\u001b[0m                                 Traceback (most recent call last)",
      "Cell \u001b[0;32mIn[27], line 1\u001b[0m\n\u001b[0;32m----> 1\u001b[0m link \u001b[38;5;241m=\u001b[39m \u001b[43mchrome\u001b[49m\u001b[38;5;241m.\u001b[39mfind_element_by_link_text(\u001b[38;5;124m\"\u001b[39m\u001b[38;5;124mVoir tout\u001b[39m\u001b[38;5;124m\"\u001b[39m)\n\u001b[1;32m      2\u001b[0m \u001b[38;5;28mtype\u001b[39m(link)\n",
      "\u001b[0;31mNameError\u001b[0m: name 'chrome' is not defined"
     ]
    }
   ],
   "source": [
    "link = chrome.find_element_by_link_text(\"Voir tout\")\n",
    "type(link)"
   ]
  },
  {
   "cell_type": "markdown",
   "metadata": {},
   "source": [
    "Si on veut entrer dans le lien, il suffit d'appeler la méthode `click`."
   ]
  },
  {
   "cell_type": "code",
   "execution_count": 18,
   "metadata": {},
   "outputs": [],
   "source": [
    "link.click()"
   ]
  },
  {
   "cell_type": "markdown",
   "metadata": {},
   "source": [
    "Vous êtes arrivé sur la page des ventes flash. Maintenant nous allons récupérer toutes les ventes actuelles. On remarque que les ventes sont stockés dans des widgets qui porte l'id `widgetContent`."
   ]
  },
  {
   "cell_type": "code",
   "execution_count": 53,
   "metadata": {},
   "outputs": [
    {
     "data": {
      "text/plain": [
       "(list, 5)"
      ]
     },
     "execution_count": 53,
     "metadata": {},
     "output_type": "execute_result"
    }
   ],
   "source": [
    "all_widgets = chrome.find_elements_by_id(\"widgetContent\")\n",
    "type(all_widgets), len(all_widgets)"
   ]
  },
  {
   "cell_type": "markdown",
   "metadata": {},
   "source": [
    "On obtient une liste d'éléments décrits par cet identifiant. Il y en a 5, un pour chaque ligne. Pour récupérer les différentes offres de la première ligne. on récupère les sections correspondantes: "
   ]
  },
  {
   "cell_type": "code",
   "execution_count": 60,
   "metadata": {},
   "outputs": [
    {
     "data": {
      "text/plain": [
       "16"
      ]
     },
     "execution_count": 60,
     "metadata": {},
     "output_type": "execute_result"
    }
   ],
   "source": [
    "first_line = all_widgets[0]\n",
    "all_first_line_elements = first_line.find_elements_by_class_name('a-section')\n",
    "len(all_first_line_elements)"
   ]
  },
  {
   "cell_type": "markdown",
   "metadata": {},
   "source": [
    "Pour récupérer le text maintenant : "
   ]
  },
  {
   "cell_type": "code",
   "execution_count": 64,
   "metadata": {},
   "outputs": [
    {
     "name": "stdout",
     "output_type": "stream",
     "text": [
      "OFFRE DU JOUR\n",
      "13,99 € - 139,99 €\n",
      "LEGO: jusqu'à -20% sur une sélection de Jeux de Construction\n",
      "19\n",
      "Offre terminée\n",
      "\n",
      "OFFRE DU JOUR\n",
      "13,99 € - 139,99 €\n",
      "LEGO: jusqu'à -20% sur une sélection de Jeux de Construction\n",
      "19\n",
      "Offre terminée\n",
      "\n",
      "\n",
      "\n",
      "OFFRE DU JOUR\n",
      "13,99 € - 139,99 €\n",
      "LEGO: jusqu'à -20% sur une sélection de Jeux de Construction\n",
      "19\n",
      "Offre terminée\n",
      "\n",
      "OFFRE DU JOUR\n",
      "9,20 € - 13,99 €\n",
      "Jusqu'à -41% sur les grands classiques jeux de société d'Hasbro\n",
      "51\n",
      "Offre terminée\n",
      "\n",
      "OFFRE DU JOUR\n",
      "9,20 € - 13,99 €\n",
      "Jusqu'à -41% sur les grands classiques jeux de société d'Hasbro\n",
      "51\n",
      "Offre terminée\n",
      "\n",
      "\n",
      "\n",
      "OFFRE DU JOUR\n",
      "9,20 € - 13,99 €\n",
      "Jusqu'à -41% sur les grands classiques jeux de société d'Hasbro\n",
      "51\n",
      "Offre terminée\n",
      "\n",
      "OFFRE DU JOUR\n",
      "9,99 € - 39,99 €\n",
      "Jusqu'à -26% sur une sélection de produits Nerf\n",
      "92\n",
      "Offre terminée\n",
      "\n",
      "OFFRE DU JOUR\n",
      "9,99 € - 39,99 €\n",
      "Jusqu'à -26% sur une sélection de produits Nerf\n",
      "92\n",
      "Offre terminée\n",
      "\n",
      "\n",
      "\n",
      "OFFRE DU JOUR\n",
      "9,99 € - 39,99 €\n",
      "Jusqu'à -26% sur une sélection de produits Nerf\n",
      "92\n",
      "Offre terminée\n",
      "\n",
      "OFFRE DU JOUR\n",
      "219,90 €\n",
      "Prix conseillé : 519,00 € (-58%)\n",
      "Braun: Épilateur Lumière Pulsée 5009\n",
      "Vendu et expédié par Amazon.fr\n",
      "239\n",
      "Offre terminée\n",
      "\n",
      "OFFRE DU JOUR\n",
      "219,90 €\n",
      "Prix conseillé : 519,00 € (-58%)\n",
      "Braun: Épilateur Lumière Pulsée 5009\n",
      "Vendu et expédié par Amazon.fr\n",
      "239\n",
      "Offre terminée\n",
      "\n",
      "\n",
      "\n",
      "OFFRE DU JOUR\n",
      "219,90 €\n",
      "Prix conseillé : 519,00 € (-58%)\n",
      "Braun: Épilateur Lumière Pulsée 5009\n",
      "Vendu et expédié par Amazon.fr\n",
      "239\n",
      "Offre terminée\n"
     ]
    }
   ],
   "source": [
    "_ = [print(elt.text+ \"\\n\")  for elt in all_first_line_elements]"
   ]
  },
  {
   "cell_type": "markdown",
   "metadata": {},
   "source": [
    "Si vous êtes fan de JavaScript vous pouvez même injecter du code JS dans le navigateur depuis Python pour exécuter des opérations complexes. "
   ]
  },
  {
   "cell_type": "code",
   "execution_count": 68,
   "metadata": {},
   "outputs": [],
   "source": [
    "js_script = \"\"\"\n",
    "const class_name = 'DRIOC'\n",
    "console.log(`Hi from ${class_name}`)\n",
    "\"\"\""
   ]
  },
  {
   "cell_type": "code",
   "execution_count": 69,
   "metadata": {},
   "outputs": [],
   "source": [
    "chrome.execute_script(js_script)"
   ]
  },
  {
   "cell_type": "markdown",
   "metadata": {},
   "source": [
    "Vous pouvez aller vérifier dans la console Javascript du navigateur que le message apparait bien. "
   ]
  },
  {
   "cell_type": "markdown",
   "metadata": {},
   "source": [
    "# Exercice"
   ]
  },
  {
   "cell_type": "markdown",
   "metadata": {},
   "source": [
    "## Exercice 1"
   ]
  },
  {
   "cell_type": "markdown",
   "metadata": {},
   "source": [
    "Extraire le prix des offres :"
   ]
  },
  {
   "cell_type": "code",
   "execution_count": 77,
   "metadata": {},
   "outputs": [
    {
     "ename": "NotImplementedError",
     "evalue": "Need to be implemented",
     "output_type": "error",
     "traceback": [
      "\u001b[0;31m---------------------------------------------------------------------------\u001b[0m",
      "\u001b[0;31mNotImplementedError\u001b[0m                       Traceback (most recent call last)",
      "\u001b[0;32m<ipython-input-77-a0caad50f45f>\u001b[0m in \u001b[0;36m<module>\u001b[0;34m()\u001b[0m\n\u001b[1;32m      3\u001b[0m     \u001b[0;32mpass\u001b[0m\u001b[0;34m\u001b[0m\u001b[0m\n\u001b[1;32m      4\u001b[0m \u001b[0;34m\u001b[0m\u001b[0m\n\u001b[0;32m----> 5\u001b[0;31m \u001b[0mextract_price\u001b[0m\u001b[0;34m(\u001b[0m\u001b[0mall_first_line_elements\u001b[0m\u001b[0;34m[\u001b[0m\u001b[0;36m0\u001b[0m\u001b[0;34m]\u001b[0m\u001b[0;34m)\u001b[0m\u001b[0;34m\u001b[0m\u001b[0m\n\u001b[0m",
      "\u001b[0;32m<ipython-input-77-a0caad50f45f>\u001b[0m in \u001b[0;36mextract_price\u001b[0;34m(offer_web_element)\u001b[0m\n\u001b[1;32m      1\u001b[0m \u001b[0;32mdef\u001b[0m \u001b[0mextract_price\u001b[0m\u001b[0;34m(\u001b[0m\u001b[0moffer_web_element\u001b[0m\u001b[0;34m)\u001b[0m\u001b[0;34m:\u001b[0m\u001b[0;34m\u001b[0m\u001b[0m\n\u001b[0;32m----> 2\u001b[0;31m     \u001b[0;32mraise\u001b[0m \u001b[0mNotImplementedError\u001b[0m\u001b[0;34m(\u001b[0m\u001b[0;34m'Need to be implemented'\u001b[0m\u001b[0;34m)\u001b[0m\u001b[0;34m\u001b[0m\u001b[0m\n\u001b[0m\u001b[1;32m      3\u001b[0m     \u001b[0;32mpass\u001b[0m\u001b[0;34m\u001b[0m\u001b[0m\n\u001b[1;32m      4\u001b[0m \u001b[0;34m\u001b[0m\u001b[0m\n\u001b[1;32m      5\u001b[0m \u001b[0mextract_price\u001b[0m\u001b[0;34m(\u001b[0m\u001b[0mall_first_line_elements\u001b[0m\u001b[0;34m[\u001b[0m\u001b[0;36m0\u001b[0m\u001b[0;34m]\u001b[0m\u001b[0;34m)\u001b[0m\u001b[0;34m\u001b[0m\u001b[0m\n",
      "\u001b[0;31mNotImplementedError\u001b[0m: Need to be implemented"
     ]
    }
   ],
   "source": [
    "def extract_price(offer_web_element):\n",
    "    raise NotImplementedError('Need to be implemented')\n",
    "    pass\n",
    "\n",
    "extract_price(all_first_line_elements[0])"
   ]
  },
  {
   "cell_type": "markdown",
   "metadata": {},
   "source": [
    "Extraire l'image de l'offre: "
   ]
  },
  {
   "cell_type": "code",
   "execution_count": 78,
   "metadata": {},
   "outputs": [
    {
     "ename": "NotImplementedError",
     "evalue": "Need to be implemented",
     "output_type": "error",
     "traceback": [
      "\u001b[0;31m---------------------------------------------------------------------------\u001b[0m",
      "\u001b[0;31mNotImplementedError\u001b[0m                       Traceback (most recent call last)",
      "\u001b[0;32m<ipython-input-78-63850a8c42cb>\u001b[0m in \u001b[0;36m<module>\u001b[0;34m()\u001b[0m\n\u001b[1;32m      3\u001b[0m     \u001b[0;32mpass\u001b[0m\u001b[0;34m\u001b[0m\u001b[0m\n\u001b[1;32m      4\u001b[0m \u001b[0;34m\u001b[0m\u001b[0m\n\u001b[0;32m----> 5\u001b[0;31m \u001b[0mextract_image\u001b[0m\u001b[0;34m(\u001b[0m\u001b[0mall_first_line_elements\u001b[0m\u001b[0;34m[\u001b[0m\u001b[0;36m0\u001b[0m\u001b[0;34m]\u001b[0m\u001b[0;34m)\u001b[0m\u001b[0;34m\u001b[0m\u001b[0m\n\u001b[0m",
      "\u001b[0;32m<ipython-input-78-63850a8c42cb>\u001b[0m in \u001b[0;36mextract_image\u001b[0;34m(offer_web_element)\u001b[0m\n\u001b[1;32m      1\u001b[0m \u001b[0;32mdef\u001b[0m \u001b[0mextract_image\u001b[0m\u001b[0;34m(\u001b[0m\u001b[0moffer_web_element\u001b[0m\u001b[0;34m)\u001b[0m\u001b[0;34m:\u001b[0m\u001b[0;34m\u001b[0m\u001b[0m\n\u001b[0;32m----> 2\u001b[0;31m     \u001b[0;32mraise\u001b[0m \u001b[0mNotImplementedError\u001b[0m\u001b[0;34m(\u001b[0m\u001b[0;34m'Need to be implemented'\u001b[0m\u001b[0;34m)\u001b[0m\u001b[0;34m\u001b[0m\u001b[0m\n\u001b[0m\u001b[1;32m      3\u001b[0m     \u001b[0;32mpass\u001b[0m\u001b[0;34m\u001b[0m\u001b[0m\n\u001b[1;32m      4\u001b[0m \u001b[0;34m\u001b[0m\u001b[0m\n\u001b[1;32m      5\u001b[0m \u001b[0mextract_image\u001b[0m\u001b[0;34m(\u001b[0m\u001b[0mall_first_line_elements\u001b[0m\u001b[0;34m[\u001b[0m\u001b[0;36m0\u001b[0m\u001b[0;34m]\u001b[0m\u001b[0;34m)\u001b[0m\u001b[0;34m\u001b[0m\u001b[0m\n",
      "\u001b[0;31mNotImplementedError\u001b[0m: Need to be implemented"
     ]
    }
   ],
   "source": [
    "def extract_image(offer_web_element):\n",
    "    raise NotImplementedError('Need to be implemented')\n",
    "    pass\n",
    "\n",
    "extract_image(all_first_line_elements[0])"
   ]
  },
  {
   "cell_type": "markdown",
   "metadata": {},
   "source": [
    "Extraire le titre de l'offre: "
   ]
  },
  {
   "cell_type": "code",
   "execution_count": 79,
   "metadata": {},
   "outputs": [
    {
     "ename": "NotImplementedError",
     "evalue": "Need to be implemented",
     "output_type": "error",
     "traceback": [
      "\u001b[0;31m---------------------------------------------------------------------------\u001b[0m",
      "\u001b[0;31mNotImplementedError\u001b[0m                       Traceback (most recent call last)",
      "\u001b[0;32m<ipython-input-79-a4f7a74d5827>\u001b[0m in \u001b[0;36m<module>\u001b[0;34m()\u001b[0m\n\u001b[1;32m      3\u001b[0m     \u001b[0;32mpass\u001b[0m\u001b[0;34m\u001b[0m\u001b[0m\n\u001b[1;32m      4\u001b[0m \u001b[0;34m\u001b[0m\u001b[0m\n\u001b[0;32m----> 5\u001b[0;31m \u001b[0mextract_title\u001b[0m\u001b[0;34m(\u001b[0m\u001b[0mall_first_line_elements\u001b[0m\u001b[0;34m[\u001b[0m\u001b[0;36m0\u001b[0m\u001b[0;34m]\u001b[0m\u001b[0;34m)\u001b[0m\u001b[0;34m\u001b[0m\u001b[0m\n\u001b[0m",
      "\u001b[0;32m<ipython-input-79-a4f7a74d5827>\u001b[0m in \u001b[0;36mextract_title\u001b[0;34m(offer_web_element)\u001b[0m\n\u001b[1;32m      1\u001b[0m \u001b[0;32mdef\u001b[0m \u001b[0mextract_title\u001b[0m\u001b[0;34m(\u001b[0m\u001b[0moffer_web_element\u001b[0m\u001b[0;34m)\u001b[0m\u001b[0;34m:\u001b[0m\u001b[0;34m\u001b[0m\u001b[0m\n\u001b[0;32m----> 2\u001b[0;31m     \u001b[0;32mraise\u001b[0m \u001b[0mNotImplementedError\u001b[0m\u001b[0;34m(\u001b[0m\u001b[0;34m'Need to be implemented'\u001b[0m\u001b[0;34m)\u001b[0m\u001b[0;34m\u001b[0m\u001b[0m\n\u001b[0m\u001b[1;32m      3\u001b[0m     \u001b[0;32mpass\u001b[0m\u001b[0;34m\u001b[0m\u001b[0m\n\u001b[1;32m      4\u001b[0m \u001b[0;34m\u001b[0m\u001b[0m\n\u001b[1;32m      5\u001b[0m \u001b[0mextract_title\u001b[0m\u001b[0;34m(\u001b[0m\u001b[0mall_first_line_elements\u001b[0m\u001b[0;34m[\u001b[0m\u001b[0;36m0\u001b[0m\u001b[0;34m]\u001b[0m\u001b[0;34m)\u001b[0m\u001b[0;34m\u001b[0m\u001b[0m\n",
      "\u001b[0;31mNotImplementedError\u001b[0m: Need to be implemented"
     ]
    }
   ],
   "source": [
    "def extract_title(offer_web_element):\n",
    "    raise NotImplementedError('Need to be implemented')\n",
    "    pass\n",
    "\n",
    "extract_title(all_first_line_elements[0])"
   ]
  },
  {
   "cell_type": "code",
   "execution_count": 80,
   "metadata": {},
   "outputs": [],
   "source": [
    "chrome.close()"
   ]
  }
 ],
 "metadata": {
  "kernelspec": {
   "display_name": "Python 3 (ipykernel)",
   "language": "python",
   "name": "python3"
  },
  "language_info": {
   "codemirror_mode": {
    "name": "ipython",
    "version": 3
   },
   "file_extension": ".py",
   "mimetype": "text/x-python",
   "name": "python",
   "nbconvert_exporter": "python",
   "pygments_lexer": "ipython3",
   "version": "3.8.18"
  }
 },
 "nbformat": 4,
 "nbformat_minor": 4
}
