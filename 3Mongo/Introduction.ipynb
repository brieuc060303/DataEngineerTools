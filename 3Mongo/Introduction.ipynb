{
 "cells": [
  {
   "cell_type": "markdown",
   "metadata": {},
   "source": [
    "# Introduction "
   ]
  },
  {
   "cell_type": "markdown",
   "metadata": {},
   "source": [
    "MongoDB est une base de données open source codée en C++ basée sur un concept de stockage sous la forme de documents au format JSON. Le grand avantage de ce système est l'optimisation de la mémoire. Dans une base relationelle, chaque colonne doit être définie au préalable avec une empreinte mémoire et un type de donnée. Dans une base MongoDB si le champ n'est pas présent, il n'apparait pas dans un document et n'impacte pas la mémoire, alors qu'en SQL la place mémoire est utilisée même si le champ est absent, pour spécifier que la valeur est null."
   ]
  },
  {
   "cell_type": "markdown",
   "metadata": {},
   "source": [
    "## Les avantages "
   ]
  },
  {
   "cell_type": "markdown",
   "metadata": {},
   "source": [
    "- Optimisé pour le multi-machines et la réplication de données ;\n",
    "- Pas besoin de jointures entre les tables compte tenu du modèle de données sous forme de documents ;\n",
    "- Un index est créé sur chaque clé pour une rapidité de requêtes ;\n",
    "- Un langage de requêtage aussi puissant que le SQL ;\n",
    "- Optimisation de la mémoire .\n"
   ]
  },
  {
   "cell_type": "markdown",
   "metadata": {},
   "source": [
    "## Concepts basiques\n"
   ]
  },
  {
   "cell_type": "markdown",
   "metadata": {},
   "source": [
    "\n",
    "- Database : une database est un regroupement de collections. Chaque database possède son propre système de fichiers et sa propre authentification. Elle a le même rôle qu'une database en MySQL.\n",
    "- Collection : une collection est un regroupement de documents. C'est une table en MySQL, la principale différence étant qu'elle ne définit pas un schéma de données fixe. Les documents présents dans une collection n'ont pas forcément tous les mêmes champs.\n",
    "- Document : un document est un objet JSON stocké sous la forme de plusieurs paires clé:valeur. C'est l'équivalent d'une ligne dans une table SQL.\n",
    "- Champ : Un champ est l'équivalent d'une colonne en SQL. Il permet de faire des requêtes."
   ]
  },
  {
   "cell_type": "markdown",
   "metadata": {},
   "source": [
    "## Identifiants"
   ]
  },
  {
   "cell_type": "markdown",
   "metadata": {},
   "source": [
    "Tous les documents possèdent un identifiant unique, ce qui permet de le retrouver très efficacement. L'identifiant peut être spécifié lors de l'ajout d'un nouveau document (nom+prenom, adresse email, url, etc). Dans le cas ou aucun identifiant n'est précisé, MongoDB se charge d'en ajouter un. Il est composé d'un nombre stocké sur 12 bytes au format hexadécimal :\n",
    "\n",
    "- Les 4 premiers bytes sont le timestamp de l'ajout du document\n",
    "- Les 3 suivants correspondent à l'identifiant de la machine\n",
    "- Les 2 suivants l'identifiant du processus\n",
    "- Les 3 derniers sont une valeur incrémentale\n"
   ]
  },
  {
   "cell_type": "markdown",
   "metadata": {},
   "source": [
    "## Les types de données"
   ]
  },
  {
   "cell_type": "markdown",
   "metadata": {},
   "source": [
    "Une base de données MongoDB permet de stocker un grand volume de données hétérogènes sans imposer un modèle de données fixe pour tous les documents. Il est conseillé, comme vu plus haut, de bien définir la structure globale pour garder une cohérence tout au long des développements.\n",
    "\n",
    "- Integer : entier relatif stocké sur 32 ou 64 bits.\n",
    "- Double : nombre décimal stocké sur 64 bits.\n",
    "- String : chaine de caractère (encodée en utf-8)\n",
    "- Booléen : True ou False\n",
    "- Object : sous-objet stocké au format JSON\n",
    "- Date : date au format UNIX (nombre de ms écoulées depuis le 1er janvier 1970) stockée sur 64 bits.\n",
    "- Array : stocker une liste d'éléments au format atomique ou d'objets\n",
    "\n",
    "D'autres types sont disponibles et vous pouvez les trouver https://docs.mongodb.com/manual/reference/bson-types/"
   ]
  },
  {
   "cell_type": "markdown",
   "metadata": {},
   "source": [
    "# Installation\n"
   ]
  },
  {
   "cell_type": "markdown",
   "metadata": {},
   "source": [
    "L'installation peut se faire de plusieurs manières.\n",
    "\n",
    "- Directement depuis les sources ou à partir de packages.  \n",
    "Liens vers le tutorial https://docs.mongodb.com/manual/tutorial/install-mongodb-on-ubuntu/\n",
    "\n",
    "Sur une Debian 9 Stretch:\n",
    "\n",
    "```bash\n",
    "export http_proxy=http://147.215.1.189:3128\n",
    "export https_proxy=http://147.215.1.189:3128\n",
    "apt-get update\n",
    "apt-get install -y mongodb-org\n",
    "```\n",
    "\n",
    "Démarrage du service\n",
    "\n",
    "Vérifier que le service Mongo est démarré\n",
    "\n",
    "```bash\n",
    "> service mongodb status\n",
    "\n",
    "\n",
    "● mongodb.service - An object/document-oriented database\n",
    "   Loaded: loaded (/lib/systemd/system/mongodb.service; enabled; vendor preset:\n",
    "   Active: active (running) since Mon 2018-11-25 13:51:14 CET; 18min ago\n",
    "     Docs: man:mongod(1)\n",
    " Main PID: 22845 (mongod)\n",
    "    Tasks: 16 (limit: 4915)\n",
    "   CGroup: /system.slice/mongodb.service\n",
    "           └─22845 /usr/bin/mongod --unixSocketPrefix=/run/mongodb --config /etc\n",
    "```\n",
    "\n",
    "ou le démarrer avec \n",
    " \n",
    "```bash\n",
    "> service mongodb start\n",
    "```\n",
    "\n",
    "\n",
    "- Ou en instanciant un conteneur Docker. L'avantage de Docker est qu'il n'installe aucune dépendance sur votre machine et laisse son environnement propre. Lien vers le tutorial : https://hub.docker.com/_/mongo/\n",
    "\n",
    "\n",
    "```bash\n",
    "> docker run --name my-mongo -d -p 27017:27017 mongo\n",
    "```\n",
    "\n",
    "Pour vérifier que le conteneur est bien lancé on peut regarder les logs avec\n",
    "\n",
    "\n",
    "```bash\n",
    "> docker logs my-mongo\n",
    "```"
   ]
  },
  {
   "cell_type": "markdown",
   "metadata": {},
   "source": [
    "# Connexion"
   ]
  },
  {
   "cell_type": "markdown",
   "metadata": {},
   "source": [
    "\n",
    "Pour se connecter à une base Mongo deux solutions sont possibles. En ligne de commande ou via un gestionnaire de BDD comme Robo3T https://robomongo.org/ . Dans les deux cas, la syntaxe Mongo est utilisée pour effectuer des requêtes. L'avantage de Robo3T est qu'il possède une interface permettant de visualiser très simplement les données.\n",
    "\n",
    "Dans un terminal utilisateur standard, la commande mongo permet d'obtenir un shell interactif:\n",
    "\n",
    "```bash\n",
    "student@debian:~$ mongo\n",
    "MongoDB shell version: 3.2.11\n",
    "connecting to: test\n",
    ">\n",
    "```\n",
    "\n",
    "Le port par défaut de Mongo est le 27017."
   ]
  },
  {
   "cell_type": "markdown",
   "metadata": {},
   "source": [
    "# Création d'un modèle de données\n"
   ]
  },
  {
   "cell_type": "markdown",
   "metadata": {},
   "source": [
    "La création d'un modèle de données clair et adapté est une tâche importante et primordiale. Ce modèle de données doit être réfléchi à court et long terme et doit prendre en compte la capacité de stockage et les besoins métiers."
   ]
  },
  {
   "cell_type": "markdown",
   "metadata": {},
   "source": [
    "## Database"
   ]
  },
  {
   "cell_type": "markdown",
   "metadata": {},
   "source": [
    "\n",
    "A partir du shell Mongo, on peut afficher les databases disponibles. Au démarrage, aucune n'est créée:\n",
    "```\n",
    "> show dbs\n",
    "admin   0.000GB\n",
    "config  0.000GB\n",
    "local   0.000GB\n",
    "```\n",
    "\n",
    "Aucun database n'est présente\n",
    "```\n",
    "> use test\n",
    "switched to db test\n",
    "```\n",
    "\n",
    "Pour supprimer définitivement une database:\n",
    "\n",
    "```\n",
    "> db.dropDatabase()\n",
    "```\n",
    "Comme vous pouvez le deviner cette commande est à utiliser avec précaution."
   ]
  },
  {
   "cell_type": "markdown",
   "metadata": {},
   "source": [
    "## Collection"
   ]
  },
  {
   "cell_type": "markdown",
   "metadata": {},
   "source": [
    "Les collections correspondent aux tables en SQL. Elles sont des sous-ensembles d'une database. Pour créer une collection il faut auparavant s'être référencé sur une database.\n",
    "\n",
    "```\n",
    "show dbs\n",
    "use <YOUR_DB_NAME>\n",
    "db.createCollection(<YOUR_COLLECTION_NAME>)\n",
    "show collections\n",
    "```\n",
    "\n",
    "Comme pour les databases on peut vouloir supprimer définitivement une collection.\n",
    "\n",
    "```\n",
    "db.<YOUR_COLLECTION_NAME>.drop()\n",
    "show collections\n",
    "```\n"
   ]
  },
  {
   "cell_type": "markdown",
   "metadata": {},
   "source": [
    "\n",
    "show collections\n",
    "Comme pour les databases o\n",
    "show collections\n",
    "Comme pour les databases o\n",
    "show collections\n",
    "Comme pour les databases o\n",
    "show collections\n",
    "Comme pour les databasonones on peut vouloir supprimer dén peut vouloir supprimer dén peut vouloir supprimer dén peut vouloir supprimer dé## Document"
   ]
  },
  {
   "cell_type": "markdown",
   "metadata": {},
   "source": [
    "Insertion\n",
    "Un document (objet JSON) est un sous-ensemble d'une collection qui est lui même une sous-partie d'une database. Pour insérer un document il faut donc se référencer sur une database et sur la collection souhaitée.\n",
    "\n",
    "```\n",
    "use <YOUR_DB_NAME>\n",
    "db.createCollection(<YOUR_COLLECTION_NAME>)\n",
    "show collections\n",
    "db.<YOUR_COLLECTION_NAME>.insert({\n",
    "    firstname : \"Thomas\",\n",
    "    lastname : \"Shelby\",\n",
    "    position : \"director\",\n",
    "    company : \"Peaky Blinders\"})\n",
    "```\n",
    "\n",
    "Si vous ne précisez pas d'identifiant unique (id du document), MongoDB se charge de le remplir avec les règles définies précédement. Une bonne pratique est de trouver une règle permettant de retrouver facilement et efficacement un document sans avoir à faire une requête complexe et obliger la base à rechercher dans ses champs. Une technique est de prendre le hash d'une combinaison des champs qui permet de créer une clé unique SHA128(firstname+lastname+position) par exemple.\n",
    "\n",
    "```\n",
    "use <YOUR_DB_NAME>\n",
    "show collections\n",
    "db.<YOUR_COLLECTION_NAME>.insert({\n",
    "    firstname : \"Thomas\",\n",
    "    lastname : \"Shelby\",\n",
    "    position : \"CEO\",\n",
    "    gender : \"Male\",\n",
    "    age : 35,\n",
    "    description : \"Thomas 'Tommy' Michael Shelby M.P. OBE, is the leader of the Birmingham criminal gang Peaky Blinders and the patriarch of the Shelby Family. His experiences during and after the First World War have left him disillusioned and determined to move his family up in the world.\",\n",
    "    nicknames : [\"Tom\", \"Tommy\", \"Thomas\"],\n",
    "    company : \"Peaky Blinders\",\n",
    "    episodes : [1,2,4,5,6]\n",
    "    })\n",
    "```\n",
    "Pour des soucis de performances, si un grand nombre de documents doivent être insérés très rapidement sans surcharger les appels réseaux, il est possible de passer une liste JSON d'objets à la fonction insert.\n",
    "\n",
    "```\n",
    "db.<YOUR_COLLECTION_NAME>.insert([\n",
    "{\n",
    "    firstname : \"Arthur\",\n",
    "    lastname : \"Shelby\",\n",
    "    position : \"Associate\",\n",
    "    gender : \"Male\",\n",
    "    age : 38,\n",
    "    description : \"Arthur Shelby Jr. is the eldest of the Shelby siblings and the tough member of Peaky Blinders, the Deputy Vice President Shelby Company Limited. He's also a member of the ICA.\",\n",
    "    company : \"Peaky Blinders\",\n",
    "    episodes : [1,4,6]\n",
    "\n",
    "},{\n",
    "    firstname : \"John\",\n",
    "    lastname : \"Shelby\",\n",
    "    position : \"Associate\",\n",
    "    gender : \"Male\",\n",
    "    age : 30,\n",
    "    description : \"John Michael Shelby, also called Johnny or John Boy, was the third of Shelby siblings and a member of the Peaky Blinders.\",\n",
    "    nicknames : [\"Johnny\", \"John Boy\"],\n",
    "    company : \"Peaky Blinders\",\n",
    "    episodes : [4,5,6]\n",
    "},{\n",
    "    firstname : \"Ada\",\n",
    "    lastname : \"Thorne\",\n",
    "    position : \"HR\",\n",
    "    gender : \"Female\",\n",
    "    age : 28,\n",
    "    description : \"Ada Thorne is the fourth and only female of the Shelby sibling. She's the Head of Acquisitions of the Shelby Company Limited.\",\n",
    "    nicknames : [\"Ada Shelby\"],\n",
    "    company : \"Peaky Blinders\",\n",
    "    episodes : [1,2,6]\n",
    "},{\n",
    "    firstname : \"Michael\",\n",
    "    lastname : \"Gray\",\n",
    "    position : \"Accounting\",\n",
    "    gender : \"Male\",\n",
    "    age : 21,\n",
    "    description : \"Michael Gray is the son of Polly Shelby, his father is dead, and cousin of the Shelby siblings. He is the Chief Accountant in the Shelby Company Limited.\",\n",
    "    nicknames : [\"Henry Johnson\", \"Jobbie Muncher\", \"Mickey\"],\n",
    "    company : \"Peaky Blinders\",\n",
    "    episodes : [5,6]\n",
    "},{\n",
    "    firstname : \"Polly\",\n",
    "    lastname : \"Gray\",\n",
    "    gender : \"Female\",\n",
    "    age : 45,\n",
    "    position : \"CFO\",\n",
    "    description : \"Elizabeth Polly Gray (née Shelby) is the matriarch of the Shelby Family, aunt of the Shelby siblings, the treasurer of the Birmingham criminal gang, the Peaky Blinders, a certified accountant and company treasurer of Shelby Company Limited. \",\n",
    "    nicknames : [\"Aunt Polly\", \"Polly Gray\", \"Elizabeth Gray\", \"Polly Shelby\", \"Pol\"],\n",
    "    company : \"Peaky Blinders\",\n",
    "    episodes : [1,2,5,6]\n",
    "}])\n",
    "```"
   ]
  },
  {
   "cell_type": "markdown",
   "metadata": {},
   "source": [
    "# Python "
   ]
  },
  {
   "cell_type": "markdown",
   "metadata": {},
   "source": [
    "Il existe une API Python développée pour interagir avec une base de données MongoDB. \n",
    "\n",
    "Ce package s'appelle `pymongo`, vous pouvez trouver la documentation https://docs.mongodb.com/getting-started/python/client/. Il est important d'avoir des APIs dans les différents langages pour faciliter l'intégration dans les applications.\n",
    "\n",
    "Pour installer le package :\n"
   ]
  },
  {
   "cell_type": "code",
   "execution_count": 132,
   "metadata": {},
   "outputs": [
    {
     "name": "stdout",
     "output_type": "stream",
     "text": [
      "Requirement already satisfied: pymongo in /root/.local/share/virtualenvs/code-AFz48Hjb/lib/python3.6/site-packages (3.5.1)\r\n"
     ]
    }
   ],
   "source": [
    "!pip install pymongo"
   ]
  },
  {
   "cell_type": "markdown",
   "metadata": {},
   "source": [
    "Ce package garde très largement la syntaxe Mongo shell et permet d'utiliser ces méthodes et items (DataBases, Collections, Documents) en tant qu'objets Python.\n",
    "\n",
    "Dans un premier temps on veut créer le lien entre notre base Mongo et notre programme, pour cela on créé un `client`."
   ]
  },
  {
   "cell_type": "code",
   "execution_count": 9,
   "metadata": {
    "ExecuteTime": {
     "end_time": "2023-12-05T14:36:58.605288100Z",
     "start_time": "2023-12-05T14:36:58.405459189Z"
    }
   },
   "outputs": [],
   "source": [
    "from pymongo import MongoClient\n",
    "\n",
    "client = MongoClient()"
   ]
  },
  {
   "cell_type": "markdown",
   "metadata": {},
   "source": [
    "Permet de se connecter à une base MongoDB en créant un pointeur client vers cette base. Par défault ce client est paramétré sur le localhost et le port 27017 qui est le port par défaut et très généralement utilisé.\n",
    " \n",
    "Néanmoins, vous pouvez choisir de vous connecter à n'importe quelle base, qu'elle soit sur votre machine ou à distance.\n",
    "\n",
    "\n",
    "```\n",
    "client = MongoClient(\"http://<YOUR_IP_ADDRESS>:<YOUR_PORT_NUMBER>)\n",
    "```\n",
    "\n",
    "Il est possible comme depuis le MongoShell de lister les bases de données.\n"
   ]
  },
  {
   "cell_type": "code",
   "execution_count": 10,
   "metadata": {
    "ExecuteTime": {
     "end_time": "2023-12-05T14:37:01.345748786Z",
     "start_time": "2023-12-05T14:37:01.322314899Z"
    }
   },
   "outputs": [
    {
     "name": "stdout",
     "output_type": "stream",
     "text": [
      "['admin', 'config', 'local', 'mongo1']\n"
     ]
    }
   ],
   "source": [
    "print(client.list_database_names())"
   ]
  },
  {
   "cell_type": "markdown",
   "metadata": {},
   "source": [
    "\n",
    "Vous pouvez aussi les sélectionner. Il y a deux syntaxes : \n",
    "```\n",
    "db = client.<YOUR_DATABASE_NAME>\n",
    "```\n",
    "ou \n",
    "```\n",
    "db = client[\"<YOUR_DATABASE_NAME>\"]\n",
    "```\n"
   ]
  },
  {
   "cell_type": "code",
   "execution_count": 11,
   "metadata": {
    "ExecuteTime": {
     "end_time": "2023-12-05T14:37:17.177997179Z",
     "start_time": "2023-12-05T14:37:17.162676320Z"
    }
   },
   "outputs": [
    {
     "name": "stdout",
     "output_type": "stream",
     "text": [
      "<class 'pymongo.database.Database'>\n"
     ]
    }
   ],
   "source": [
    "db_series = client.series\n",
    "print(type(db_series))"
   ]
  },
  {
   "cell_type": "code",
   "execution_count": 12,
   "metadata": {
    "ExecuteTime": {
     "end_time": "2023-12-05T14:37:26.604620478Z",
     "start_time": "2023-12-05T14:37:26.554675306Z"
    }
   },
   "outputs": [],
   "source": [
    "collection_peaky = db_series['peaky'] "
   ]
  },
  {
   "cell_type": "code",
   "execution_count": 13,
   "metadata": {
    "ExecuteTime": {
     "end_time": "2023-12-05T14:37:30.704297185Z",
     "start_time": "2023-12-05T14:37:30.192535387Z"
    }
   },
   "outputs": [
    {
     "data": {
      "text/plain": "InsertOneResult(ObjectId('656f35aa0a3a7e8515a7c265'), acknowledged=True)"
     },
     "execution_count": 13,
     "metadata": {},
     "output_type": "execute_result"
    }
   ],
   "source": [
    "collection_peaky.insert_one(\n",
    "    {\n",
    "    \"firstname\" : \"Thomas\",\n",
    "    \"lastname\" : \"Shelby\",\n",
    "    \"position\" : \"CEO\",\n",
    "    \"gender\" : \"Male\",\n",
    "    \"age\" : 35,\n",
    "    \"description\" : \"Thomas 'Tommy' Michael Shelby M.P. OBE, is the leader of the Birmingham criminal gang Peaky Blinders and the patriarch of the Shelby Family. His experiences during and after the First World War have left him disillusioned and determined to move his family up in the world.\",\n",
    "    \"nicknames\" : [\"Tom\", \"Tommy\", \"Thomas\"],\n",
    "    \"company\" : \"Peaky Blinders\",\n",
    "    \"episodes\" : [1,2,4,5,6]\n",
    "    })"
   ]
  },
  {
   "cell_type": "code",
   "execution_count": 14,
   "metadata": {
    "ExecuteTime": {
     "end_time": "2023-12-05T14:39:55.739866262Z",
     "start_time": "2023-12-05T14:39:55.679899298Z"
    }
   },
   "outputs": [],
   "source": [
    "DOCUMENTS = [\n",
    "    {\n",
    "    \"firstname\" : \"Thomas\",\n",
    "    \"lastname\" : \"Shelby\",\n",
    "    \"position\" : \"CEO\",\n",
    "    \"gender\" : \"Male\",\n",
    "    \"age\" : 35,\n",
    "    \"description\" : \"Thomas 'Tommy' Michael Shelby M.P. OBE, is the leader of the Birmingham criminal gang Peaky Blinders and the patriarch of the Shelby Family. His experiences during and after the First World War have left him disillusioned and determined to move his family up in the world.\",\n",
    "    \"nicknames\" : [\"Tom\", \"Tommy\", \"Thomas\"],\n",
    "    \"company\" : \"Peaky Blinders\",\n",
    "    \"episodes\" : [1,2,4,5,6]\n",
    "    }, \n",
    "{\n",
    "    \"firstname\" : \"Arthur\",\n",
    "    \"lastname\" : \"Shelby\",\n",
    "    \"position\" : \"Associate\",\n",
    "    \"gender\" : \"Male\",\n",
    "    \"age\" : 38,\n",
    "    \"description\" : \"Arthur Shelby Jr. is the eldest of the Shelby siblings and the tough member of Peaky Blinders, the Deputy Vice President Shelby Company Limited. He's also a member of the ICA.\",\n",
    "    \"company\" : \"Peaky Blinders\",\n",
    "    \"episodes\" : [1,4,6]\n",
    "\n",
    "},{\n",
    "    \"firstname\" : \"John\",\n",
    "    \"lastname\" : \"Shelby\",\n",
    "    \"position\" : \"Associate\",\n",
    "    \"gender\" : \"Male\",\n",
    "    \"age\" : 30,\n",
    "    \"description\" : \"John Michael Shelby, also called Johnny or John Boy, was the third of Shelby siblings and a member of the Peaky Blinders.\",\n",
    "    \"nicknames\" : [\"Johnny\", \"John Boy\"],\n",
    "    \"company\" : \"Peaky Blinders\",\n",
    "    \"episodes\" : [4,5,6]\n",
    "},{\n",
    "    \"firstname\" : \"Ada\",\n",
    "    \"lastname\" : \"Thorne\",\n",
    "    \"position\" : \"HR\",\n",
    "    \"gender\" : \"Female\",\n",
    "    \"age\" : 28,\n",
    "    \"description\" : \"Ada Thorne is the fourth and only female of the Shelby sibling. She's the Head of Acquisitions of the Shelby Company Limited.\",\n",
    "    \"nicknames\" : [\"Ada Shelby\"],\n",
    "    \"company\" : \"Peaky Blinders\",\n",
    "    \"episodes\" : [1,2,6]\n",
    "},{\n",
    "    \"firstname\" : \"Michael\",\n",
    "    \"lastname\" : \"Gray\",\n",
    "    \"position\" : \"Accounting\",\n",
    "    \"gender\" : \"Male\",\n",
    "    \"age\" : 21,\n",
    "    \"description\" : \"Michael Gray is the son of Polly Shelby, his father is dead, and cousin of the Shelby siblings. He is the Chief Accountant in the Shelby Company Limited.\",\n",
    "    \"nicknames\" : [\"Henry Johnson\", \"Jobbie Muncher\", \"Mickey\"],\n",
    "    \"company\" : \"Peaky Blinders\",\n",
    "    \"episodes\" : [5,6]\n",
    "},{\n",
    "    \"firstname\" : \"Polly\",\n",
    "    \"lastname\" : \"Gray\",\n",
    "    \"gender\" : \"Female\",\n",
    "    \"age\" : 45,\n",
    "    \"position\" : \"CFO\",\n",
    "    \"description\" : \"Elizabeth Polly Gray (née Shelby) is the matriarch of the Shelby Family, aunt of the Shelby siblings, the treasurer of the Birmingham criminal gang, the Peaky Blinders, a certified accountant and company treasurer of Shelby Company Limited. \",\n",
    "    \"nicknames\" : [\"Aunt Polly\", \"Polly Gray\", \"Elizabeth Gray\", \"Polly Shelby\", \"Pol\"],\n",
    "    \"company\" : \"Peaky Blinders\",\n",
    "    \"episodes\" : [1,2,5,6]\n",
    "}]"
   ]
  },
  {
   "cell_type": "code",
   "execution_count": 15,
   "metadata": {
    "ExecuteTime": {
     "end_time": "2023-12-05T14:40:01.800630201Z",
     "start_time": "2023-12-05T14:40:01.782820899Z"
    }
   },
   "outputs": [
    {
     "data": {
      "text/plain": "InsertManyResult([ObjectId('656f36410a3a7e8515a7c266'), ObjectId('656f36410a3a7e8515a7c267'), ObjectId('656f36410a3a7e8515a7c268'), ObjectId('656f36410a3a7e8515a7c269'), ObjectId('656f36410a3a7e8515a7c26a'), ObjectId('656f36410a3a7e8515a7c26b')], acknowledged=True)"
     },
     "execution_count": 15,
     "metadata": {},
     "output_type": "execute_result"
    }
   ],
   "source": [
    "collection_peaky.insert_many(DOCUMENTS)"
   ]
  },
  {
   "cell_type": "code",
   "execution_count": 18,
   "metadata": {
    "ExecuteTime": {
     "end_time": "2023-12-05T14:42:49.090243611Z",
     "start_time": "2023-12-05T14:42:48.985533012Z"
    }
   },
   "outputs": [
    {
     "data": {
      "text/plain": "['peaky']"
     },
     "execution_count": 18,
     "metadata": {},
     "output_type": "execute_result"
    }
   ],
   "source": [
    "db_series.list_collection_names()"
   ]
  },
  {
   "cell_type": "markdown",
   "metadata": {},
   "source": [
    "La base de données à bien été créée. Maintenant, pour récupérer un document :"
   ]
  },
  {
   "cell_type": "markdown",
   "metadata": {},
   "source": [
    "## Requêter"
   ]
  },
  {
   "cell_type": "markdown",
   "metadata": {},
   "source": [
    "Afin de récupérer les documents stockés dans une collection, des fonctions de requête sont disponibles. La fonction `find()` permet de récupérer les N premiers documents. La fonction `find_one()` permet de récupérer le premier élément."
   ]
  },
  {
   "cell_type": "code",
   "execution_count": 19,
   "metadata": {
    "ExecuteTime": {
     "end_time": "2023-12-05T14:42:53.263395173Z",
     "start_time": "2023-12-05T14:42:53.198243109Z"
    }
   },
   "outputs": [
    {
     "data": {
      "text/plain": "{'_id': ObjectId('656f35aa0a3a7e8515a7c265'),\n 'firstname': 'Thomas',\n 'lastname': 'Shelby',\n 'position': 'CEO',\n 'gender': 'Male',\n 'age': 35,\n 'description': \"Thomas 'Tommy' Michael Shelby M.P. OBE, is the leader of the Birmingham criminal gang Peaky Blinders and the patriarch of the Shelby Family. His experiences during and after the First World War have left him disillusioned and determined to move his family up in the world.\",\n 'nicknames': ['Tom', 'Tommy', 'Thomas'],\n 'company': 'Peaky Blinders',\n 'episodes': [1, 2, 4, 5, 6]}"
     },
     "execution_count": 19,
     "metadata": {},
     "output_type": "execute_result"
    }
   ],
   "source": [
    "collection_peaky.find_one()"
   ]
  },
  {
   "cell_type": "markdown",
   "metadata": {},
   "source": [
    "Cette fonction permet de récupérer le premier élément de la collection sous la forme d'un dictionnaire.\n",
    "\n",
    "\n",
    "C'est un peu différent pour la méthode find(). Cela crée, pour des raison de performances, un curseur PyMongo. En effet, les données seront récupérées uniquement si elles sont utilisées. C'est intéressant pour des collections très volumineuses."
   ]
  },
  {
   "cell_type": "code",
   "execution_count": 20,
   "metadata": {
    "ExecuteTime": {
     "end_time": "2023-12-05T14:42:55.982203932Z",
     "start_time": "2023-12-05T14:42:55.932925460Z"
    }
   },
   "outputs": [
    {
     "data": {
      "text/plain": "pymongo.cursor.Cursor"
     },
     "execution_count": 20,
     "metadata": {},
     "output_type": "execute_result"
    }
   ],
   "source": [
    "cursor = collection_peaky.find()\n",
    "type(cursor)"
   ]
  },
  {
   "cell_type": "markdown",
   "metadata": {},
   "source": [
    "Un curseur est un type d'iterateur python, pour récupérer l'élément suivant:"
   ]
  },
  {
   "cell_type": "code",
   "execution_count": 21,
   "metadata": {
    "ExecuteTime": {
     "end_time": "2023-12-05T14:42:58.472747825Z",
     "start_time": "2023-12-05T14:42:58.455326593Z"
    }
   },
   "outputs": [
    {
     "data": {
      "text/plain": "{'_id': ObjectId('656f35aa0a3a7e8515a7c265'),\n 'firstname': 'Thomas',\n 'lastname': 'Shelby',\n 'position': 'CEO',\n 'gender': 'Male',\n 'age': 35,\n 'description': \"Thomas 'Tommy' Michael Shelby M.P. OBE, is the leader of the Birmingham criminal gang Peaky Blinders and the patriarch of the Shelby Family. His experiences during and after the First World War have left him disillusioned and determined to move his family up in the world.\",\n 'nicknames': ['Tom', 'Tommy', 'Thomas'],\n 'company': 'Peaky Blinders',\n 'episodes': [1, 2, 4, 5, 6]}"
     },
     "execution_count": 21,
     "metadata": {},
     "output_type": "execute_result"
    }
   ],
   "source": [
    "next(cursor)\n"
   ]
  },
  {
   "cell_type": "code",
   "execution_count": 22,
   "metadata": {
    "ExecuteTime": {
     "end_time": "2023-12-05T14:43:05.707884722Z",
     "start_time": "2023-12-05T14:43:05.689016875Z"
    }
   },
   "outputs": [
    {
     "name": "stdout",
     "output_type": "stream",
     "text": [
      "-----\n",
      "{'_id': ObjectId('656f36410a3a7e8515a7c266'), 'firstname': 'Thomas', 'lastname': 'Shelby', 'position': 'CEO', 'gender': 'Male', 'age': 35, 'description': \"Thomas 'Tommy' Michael Shelby M.P. OBE, is the leader of the Birmingham criminal gang Peaky Blinders and the patriarch of the Shelby Family. His experiences during and after the First World War have left him disillusioned and determined to move his family up in the world.\", 'nicknames': ['Tom', 'Tommy', 'Thomas'], 'company': 'Peaky Blinders', 'episodes': [1, 2, 4, 5, 6]}\n",
      "-----\n",
      "{'_id': ObjectId('656f36410a3a7e8515a7c267'), 'firstname': 'Arthur', 'lastname': 'Shelby', 'position': 'Associate', 'gender': 'Male', 'age': 38, 'description': \"Arthur Shelby Jr. is the eldest of the Shelby siblings and the tough member of Peaky Blinders, the Deputy Vice President Shelby Company Limited. He's also a member of the ICA.\", 'company': 'Peaky Blinders', 'episodes': [1, 4, 6]}\n",
      "-----\n",
      "{'_id': ObjectId('656f36410a3a7e8515a7c268'), 'firstname': 'John', 'lastname': 'Shelby', 'position': 'Associate', 'gender': 'Male', 'age': 30, 'description': 'John Michael Shelby, also called Johnny or John Boy, was the third of Shelby siblings and a member of the Peaky Blinders.', 'nicknames': ['Johnny', 'John Boy'], 'company': 'Peaky Blinders', 'episodes': [4, 5, 6]}\n",
      "-----\n",
      "{'_id': ObjectId('656f36410a3a7e8515a7c269'), 'firstname': 'Ada', 'lastname': 'Thorne', 'position': 'HR', 'gender': 'Female', 'age': 28, 'description': \"Ada Thorne is the fourth and only female of the Shelby sibling. She's the Head of Acquisitions of the Shelby Company Limited.\", 'nicknames': ['Ada Shelby'], 'company': 'Peaky Blinders', 'episodes': [1, 2, 6]}\n",
      "-----\n",
      "{'_id': ObjectId('656f36410a3a7e8515a7c26a'), 'firstname': 'Michael', 'lastname': 'Gray', 'position': 'Accounting', 'gender': 'Male', 'age': 21, 'description': 'Michael Gray is the son of Polly Shelby, his father is dead, and cousin of the Shelby siblings. He is the Chief Accountant in the Shelby Company Limited.', 'nicknames': ['Henry Johnson', 'Jobbie Muncher', 'Mickey'], 'company': 'Peaky Blinders', 'episodes': [5, 6]}\n",
      "-----\n",
      "{'_id': ObjectId('656f36410a3a7e8515a7c26b'), 'firstname': 'Polly', 'lastname': 'Gray', 'gender': 'Female', 'age': 45, 'position': 'CFO', 'description': 'Elizabeth Polly Gray (née Shelby) is the matriarch of the Shelby Family, aunt of the Shelby siblings, the treasurer of the Birmingham criminal gang, the Peaky Blinders, a certified accountant and company treasurer of Shelby Company Limited. ', 'nicknames': ['Aunt Polly', 'Polly Gray', 'Elizabeth Gray', 'Polly Shelby', 'Pol'], 'company': 'Peaky Blinders', 'episodes': [1, 2, 5, 6]}\n"
     ]
    }
   ],
   "source": [
    "for document in cursor :\n",
    "    print('-----')\n",
    "    print(document)"
   ]
  },
  {
   "cell_type": "markdown",
   "metadata": {},
   "source": [
    "Il est possible de passer des arguments à la fonction find() ou find_one()."
   ]
  },
  {
   "cell_type": "code",
   "execution_count": 23,
   "metadata": {
    "ExecuteTime": {
     "end_time": "2023-12-05T14:43:45.200101237Z",
     "start_time": "2023-12-05T14:43:44.747206933Z"
    }
   },
   "outputs": [
    {
     "data": {
      "text/plain": "{'_id': ObjectId('656f35aa0a3a7e8515a7c265'),\n 'firstname': 'Thomas',\n 'lastname': 'Shelby',\n 'position': 'CEO',\n 'gender': 'Male',\n 'age': 35,\n 'description': \"Thomas 'Tommy' Michael Shelby M.P. OBE, is the leader of the Birmingham criminal gang Peaky Blinders and the patriarch of the Shelby Family. His experiences during and after the First World War have left him disillusioned and determined to move his family up in the world.\",\n 'nicknames': ['Tom', 'Tommy', 'Thomas'],\n 'company': 'Peaky Blinders',\n 'episodes': [1, 2, 4, 5, 6]}"
     },
     "execution_count": 23,
     "metadata": {},
     "output_type": "execute_result"
    }
   ],
   "source": [
    "cur = collection_peaky.find({\"lastname\":\"Shelby\"})\n",
    "next(cur)"
   ]
  },
  {
   "cell_type": "markdown",
   "metadata": {},
   "source": [
    "\n",
    "Les différentes opérations mathématiques sont implémentées. \n",
    "\n",
    "- Egalité :  `{key:value}` Correspondance clé valeur entre le champ et la requête. \n",
    "- Différence :  `{key: {$ne:value}}`\n",
    "- Plus (Grand|Petit) que :  les opérateurs sont `$lt` (lower than) ; `$lte` (lower than equals) ; `$gt` (greater than) ; `$gte` (greater than equals) : `{key: {<OPERATEUR>:value}}`.\n"
   ]
  },
  {
   "cell_type": "code",
   "execution_count": 24,
   "metadata": {
    "ExecuteTime": {
     "end_time": "2023-12-05T14:44:05.334907076Z",
     "start_time": "2023-12-05T14:44:05.291028257Z"
    }
   },
   "outputs": [
    {
     "data": {
      "text/plain": "{'_id': ObjectId('656f35aa0a3a7e8515a7c265'),\n 'firstname': 'Thomas',\n 'lastname': 'Shelby',\n 'position': 'CEO',\n 'gender': 'Male',\n 'age': 35,\n 'description': \"Thomas 'Tommy' Michael Shelby M.P. OBE, is the leader of the Birmingham criminal gang Peaky Blinders and the patriarch of the Shelby Family. His experiences during and after the First World War have left him disillusioned and determined to move his family up in the world.\",\n 'nicknames': ['Tom', 'Tommy', 'Thomas'],\n 'company': 'Peaky Blinders',\n 'episodes': [1, 2, 4, 5, 6]}"
     },
     "execution_count": 24,
     "metadata": {},
     "output_type": "execute_result"
    }
   ],
   "source": [
    "cur = collection_peaky.find({\"age\":{\"$gte\" :30}})\n",
    "next(cur)"
   ]
  },
  {
   "cell_type": "markdown",
   "metadata": {},
   "source": [
    "Les opérations logiques sont aussi disponibles.\n",
    "\n",
    "OR `$or` et AND `$and` permettent de faire des requêtes complexes sur une collection. \n",
    "\n"
   ]
  },
  {
   "cell_type": "code",
   "execution_count": 25,
   "metadata": {
    "ExecuteTime": {
     "end_time": "2023-12-05T14:44:43.177945548Z",
     "start_time": "2023-12-05T14:44:43.113749205Z"
    }
   },
   "outputs": [
    {
     "data": {
      "text/plain": "{'_id': ObjectId('656f35aa0a3a7e8515a7c265'),\n 'firstname': 'Thomas',\n 'lastname': 'Shelby',\n 'position': 'CEO',\n 'gender': 'Male',\n 'age': 35,\n 'description': \"Thomas 'Tommy' Michael Shelby M.P. OBE, is the leader of the Birmingham criminal gang Peaky Blinders and the patriarch of the Shelby Family. His experiences during and after the First World War have left him disillusioned and determined to move his family up in the world.\",\n 'nicknames': ['Tom', 'Tommy', 'Thomas'],\n 'company': 'Peaky Blinders',\n 'episodes': [1, 2, 4, 5, 6]}"
     },
     "execution_count": 25,
     "metadata": {},
     "output_type": "execute_result"
    }
   ],
   "source": [
    "cur = collection_peaky.find({\"$and\":[{\"age\":{\"$gte\": 28, \"$lt\":40}}, {\"lastname\":\"Shelby\"}]})\n",
    "next(cur)"
   ]
  },
  {
   "cell_type": "markdown",
   "metadata": {},
   "source": [
    "### Requêtes complexes\n",
    "\n",
    "Les objets Mongo peuvent être assez complexes et les requêtes doivent pouvoir matcher tous types de documents.\n",
    "\n",
    "Pour requêter les valeurs d'une liste : "
   ]
  },
  {
   "cell_type": "code",
   "execution_count": 26,
   "metadata": {
    "ExecuteTime": {
     "end_time": "2023-12-05T14:44:53.711911271Z",
     "start_time": "2023-12-05T14:44:53.692550338Z"
    }
   },
   "outputs": [
    {
     "data": {
      "text/plain": "{'_id': ObjectId('656f36410a3a7e8515a7c26a'),\n 'firstname': 'Michael',\n 'lastname': 'Gray',\n 'position': 'Accounting',\n 'gender': 'Male',\n 'age': 21,\n 'description': 'Michael Gray is the son of Polly Shelby, his father is dead, and cousin of the Shelby siblings. He is the Chief Accountant in the Shelby Company Limited.',\n 'nicknames': ['Henry Johnson', 'Jobbie Muncher', 'Mickey'],\n 'company': 'Peaky Blinders',\n 'episodes': [5, 6]}"
     },
     "execution_count": 26,
     "metadata": {},
     "output_type": "execute_result"
    }
   ],
   "source": [
    "cur = collection_peaky.find( { \"nicknames\":  [\"Henry Johnson\", \"Jobbie Muncher\", \"Mickey\"] } )\n",
    "next(cur)"
   ]
  },
  {
   "cell_type": "markdown",
   "metadata": {},
   "source": [
    "Le champ `nicknames` doit matcher exactement la liste donnée en argument (en contenu et en ordre). \n"
   ]
  },
  {
   "cell_type": "code",
   "execution_count": 27,
   "metadata": {
    "ExecuteTime": {
     "end_time": "2023-12-05T14:45:13.088721974Z",
     "start_time": "2023-12-05T14:45:12.093510759Z"
    }
   },
   "outputs": [
    {
     "ename": "StopIteration",
     "evalue": "",
     "output_type": "error",
     "traceback": [
      "\u001B[0;31m---------------------------------------------------------------------------\u001B[0m",
      "\u001B[0;31mStopIteration\u001B[0m                             Traceback (most recent call last)",
      "Cell \u001B[0;32mIn[27], line 2\u001B[0m\n\u001B[1;32m      1\u001B[0m cur \u001B[38;5;241m=\u001B[39m collection_peaky\u001B[38;5;241m.\u001B[39mfind( { \u001B[38;5;124m\"\u001B[39m\u001B[38;5;124mnicknames\u001B[39m\u001B[38;5;124m\"\u001B[39m:  [\u001B[38;5;124m\"\u001B[39m\u001B[38;5;124mHenry Johnson\u001B[39m\u001B[38;5;124m\"\u001B[39m,  \u001B[38;5;124m\"\u001B[39m\u001B[38;5;124mMickey\u001B[39m\u001B[38;5;124m\"\u001B[39m, \u001B[38;5;124m\"\u001B[39m\u001B[38;5;124mJobbie Muncher\u001B[39m\u001B[38;5;124m\"\u001B[39m] } )\n\u001B[0;32m----> 2\u001B[0m \u001B[38;5;28;43mnext\u001B[39;49m\u001B[43m(\u001B[49m\u001B[43mcur\u001B[49m\u001B[43m)\u001B[49m\n",
      "File \u001B[0;32m~/.virtualenvs/4201C-mfuJG1Ab/lib/python3.8/site-packages/pymongo/cursor.py:1267\u001B[0m, in \u001B[0;36mCursor.next\u001B[0;34m(self)\u001B[0m\n\u001B[1;32m   1265\u001B[0m     \u001B[38;5;28;01mreturn\u001B[39;00m \u001B[38;5;28mself\u001B[39m\u001B[38;5;241m.\u001B[39m__data\u001B[38;5;241m.\u001B[39mpopleft()\n\u001B[1;32m   1266\u001B[0m \u001B[38;5;28;01melse\u001B[39;00m:\n\u001B[0;32m-> 1267\u001B[0m     \u001B[38;5;28;01mraise\u001B[39;00m \u001B[38;5;167;01mStopIteration\u001B[39;00m\n",
      "\u001B[0;31mStopIteration\u001B[0m: "
     ]
    }
   ],
   "source": [
    "cur = collection_peaky.find( { \"nicknames\":  [\"Henry Johnson\",  \"Mickey\", \"Jobbie Muncher\"] } )\n",
    "next(cur)"
   ]
  },
  {
   "cell_type": "markdown",
   "metadata": {},
   "source": [
    "Lorsqu'aucun document n'a été trouvé le curseur est vide et donc renvoie une erreur lorsque l'on essaye de récupérer le prochain élément.\n",
    "\n",
    "Si maintenant on veut récupérer tous les documents avec \"Mickey\" et \"Jobbie Muncher\", peu importe l'ordre d'apparition et peu importe les autres éléments du tableau.\n"
   ]
  },
  {
   "cell_type": "code",
   "execution_count": 28,
   "metadata": {
    "ExecuteTime": {
     "end_time": "2023-12-05T14:45:26.607716828Z",
     "start_time": "2023-12-05T14:45:26.544569599Z"
    }
   },
   "outputs": [
    {
     "data": {
      "text/plain": "{'_id': ObjectId('656f36410a3a7e8515a7c26a'),\n 'firstname': 'Michael',\n 'lastname': 'Gray',\n 'position': 'Accounting',\n 'gender': 'Male',\n 'age': 21,\n 'description': 'Michael Gray is the son of Polly Shelby, his father is dead, and cousin of the Shelby siblings. He is the Chief Accountant in the Shelby Company Limited.',\n 'nicknames': ['Henry Johnson', 'Jobbie Muncher', 'Mickey'],\n 'company': 'Peaky Blinders',\n 'episodes': [5, 6]}"
     },
     "execution_count": 28,
     "metadata": {},
     "output_type": "execute_result"
    }
   ],
   "source": [
    "cur = collection_peaky.find( { \"nicknames\":  {\"$all\" :[\"Mickey\", \"Jobbie Muncher\"] } } )\n",
    "next(cur)"
   ]
  },
  {
   "cell_type": "markdown",
   "metadata": {},
   "source": [
    "On peut vouloir maintenant récupérer tous les documents comptenant \"Mickey\" dans les nicknames (listes). \n"
   ]
  },
  {
   "cell_type": "code",
   "execution_count": 29,
   "metadata": {
    "ExecuteTime": {
     "end_time": "2023-12-05T14:45:46.325445498Z",
     "start_time": "2023-12-05T14:45:46.300103025Z"
    }
   },
   "outputs": [
    {
     "data": {
      "text/plain": "{'_id': ObjectId('656f36410a3a7e8515a7c26a'),\n 'firstname': 'Michael',\n 'lastname': 'Gray',\n 'position': 'Accounting',\n 'gender': 'Male',\n 'age': 21,\n 'description': 'Michael Gray is the son of Polly Shelby, his father is dead, and cousin of the Shelby siblings. He is the Chief Accountant in the Shelby Company Limited.',\n 'nicknames': ['Henry Johnson', 'Jobbie Muncher', 'Mickey'],\n 'company': 'Peaky Blinders',\n 'episodes': [5, 6]}"
     },
     "execution_count": 29,
     "metadata": {},
     "output_type": "execute_result"
    }
   ],
   "source": [
    "cur = collection_peaky.find( { \"nicknames\": \"Mickey\" } )\n",
    "next(cur)"
   ]
  },
  {
   "cell_type": "markdown",
   "metadata": {},
   "source": [
    "Comme on vient de le voir, une requête sur le champ d'une liste se construit de la même manière qu'une requête sur un champ 'basique'.\n",
    "\n",
    "La syntaxe générique d'une requête Mongo est la suivante.\n",
    "```\n",
    "    db.<YOUR_COLLECTION_NAME>.find( { <array field>: { <operator1>: <value1>, ... } })\n",
    "```"
   ]
  },
  {
   "cell_type": "markdown",
   "metadata": {},
   "source": [
    "### Limitation, Projection et Tris"
   ]
  },
  {
   "cell_type": "markdown",
   "metadata": {},
   "source": [
    "Pour des raisons de performances, il peut être intéressant de limiter les accès réseaux. Pour cela, on peut sélectionner les champs devant être retournés (Projection). On peut aussi demander de limiter le nombre de documents (Limitation).\n",
    "\n",
    "La syntaxe est la suivante : \n",
    "\n",
    "```\n",
    "db.<YOUR_COLLECTION_NAME>.find(QUERY, PROJECTION).LIMIT(N_DOCUMENTS)\n",
    "```\n",
    "\n",
    "Un exemple de projection en utilisant les requêtes déjà utilisées plus haut.\n"
   ]
  },
  {
   "cell_type": "code",
   "execution_count": 30,
   "metadata": {
    "ExecuteTime": {
     "end_time": "2023-12-05T14:47:59.370429816Z",
     "start_time": "2023-12-05T14:47:59.311262447Z"
    }
   },
   "outputs": [
    {
     "data": {
      "text/plain": "{'_id': ObjectId('656f35aa0a3a7e8515a7c265'), 'position': 'CEO'}"
     },
     "execution_count": 30,
     "metadata": {},
     "output_type": "execute_result"
    }
   ],
   "source": [
    "cur = collection_peaky.find({\"lastname\":\"Shelby\"}, {\"position\":1})\n",
    "next(cur)"
   ]
  },
  {
   "cell_type": "markdown",
   "metadata": {},
   "source": [
    "Avec une requête plus complexe et une autre projection."
   ]
  },
  {
   "cell_type": "code",
   "execution_count": 31,
   "metadata": {
    "ExecuteTime": {
     "end_time": "2023-12-05T14:48:41.627306956Z",
     "start_time": "2023-12-05T14:48:41.560666818Z"
    }
   },
   "outputs": [
    {
     "data": {
      "text/plain": "{'_id': ObjectId('656f35aa0a3a7e8515a7c265'), 'firstname': 'Thomas'}"
     },
     "execution_count": 31,
     "metadata": {},
     "output_type": "execute_result"
    }
   ],
   "source": [
    "cur = collection_peaky.find({\"$and\":[{\"age\":{\"$gte\": 28, \"$lt\":40}}, {\"lastname\":\"Shelby\"}]}, {\"firstname\":1})\n",
    "next(cur)"
   ]
  },
  {
   "cell_type": "markdown",
   "metadata": {},
   "source": [
    "Un exemple de limitation : "
   ]
  },
  {
   "cell_type": "code",
   "execution_count": 32,
   "metadata": {
    "ExecuteTime": {
     "end_time": "2023-12-05T14:48:47.740177970Z",
     "start_time": "2023-12-05T14:48:47.650386110Z"
    }
   },
   "outputs": [
    {
     "data": {
      "text/plain": "[{'_id': ObjectId('656f35aa0a3a7e8515a7c265'),\n  'firstname': 'Thomas',\n  'lastname': 'Shelby',\n  'position': 'CEO',\n  'gender': 'Male',\n  'age': 35,\n  'description': \"Thomas 'Tommy' Michael Shelby M.P. OBE, is the leader of the Birmingham criminal gang Peaky Blinders and the patriarch of the Shelby Family. His experiences during and after the First World War have left him disillusioned and determined to move his family up in the world.\",\n  'nicknames': ['Tom', 'Tommy', 'Thomas'],\n  'company': 'Peaky Blinders',\n  'episodes': [1, 2, 4, 5, 6]},\n {'_id': ObjectId('656f36410a3a7e8515a7c266'),\n  'firstname': 'Thomas',\n  'lastname': 'Shelby',\n  'position': 'CEO',\n  'gender': 'Male',\n  'age': 35,\n  'description': \"Thomas 'Tommy' Michael Shelby M.P. OBE, is the leader of the Birmingham criminal gang Peaky Blinders and the patriarch of the Shelby Family. His experiences during and after the First World War have left him disillusioned and determined to move his family up in the world.\",\n  'nicknames': ['Tom', 'Tommy', 'Thomas'],\n  'company': 'Peaky Blinders',\n  'episodes': [1, 2, 4, 5, 6]}]"
     },
     "execution_count": 32,
     "metadata": {},
     "output_type": "execute_result"
    }
   ],
   "source": [
    "cur = collection_peaky.find({\"lastname\":\"Shelby\"}).limit(2)\n",
    "list(cur)"
   ]
  },
  {
   "cell_type": "markdown",
   "metadata": {},
   "source": [
    "Il est aussi possible de passer directement au Nième document avec la fonction `skip()`."
   ]
  },
  {
   "cell_type": "code",
   "execution_count": 157,
   "metadata": {},
   "outputs": [
    {
     "data": {
      "text/plain": [
       "[{'_id': ObjectId('5ddac1ac9ed5d6001efd0430'),\n",
       "  'firstname': 'Thomas',\n",
       "  'lastname': 'Shelby',\n",
       "  'position': 'CEO',\n",
       "  'gender': 'Male',\n",
       "  'age': 35,\n",
       "  'description': \"Thomas 'Tommy' Michael Shelby M.P. OBE, is the leader of the Birmingham criminal gang Peaky Blinders and the patriarch of the Shelby Family. His experiences during and after the First World War have left him disillusioned and determined to move his family up in the world.\",\n",
       "  'nicknames': ['Tom', 'Tommy', 'Thomas'],\n",
       "  'company': 'Peaky Blinders',\n",
       "  'episodes': [1, 2, 4, 5, 6]},\n",
       " {'_id': ObjectId('5ddac1ac9ed5d6001efd0431'),\n",
       "  'firstname': 'Arthur',\n",
       "  'lastname': 'Shelby',\n",
       "  'position': 'Associate',\n",
       "  'gender': 'Male',\n",
       "  'age': 38,\n",
       "  'description': \"Arthur Shelby Jr. is the eldest of the Shelby siblings and the tough member of Peaky Blinders, the Deputy Vice President Shelby Company Limited. He's also a member of the ICA.\",\n",
       "  'company': 'Peaky Blinders',\n",
       "  'episodes': [1, 4, 6]},\n",
       " {'_id': ObjectId('5ddac1ac9ed5d6001efd0432'),\n",
       "  'firstname': 'John',\n",
       "  'lastname': 'Shelby',\n",
       "  'position': 'Associate',\n",
       "  'gender': 'Male',\n",
       "  'age': 30,\n",
       "  'description': 'John Michael Shelby, also called Johnny or John Boy, was the third of Shelby siblings and a member of the Peaky Blinders.',\n",
       "  'nicknames': ['Johnny', 'John Boy'],\n",
       "  'company': 'Peaky Blinders',\n",
       "  'episodes': [4, 5, 6]},\n",
       " {'_id': ObjectId('5ddac46e9ed5d6001efd0437'),\n",
       "  'firstname': 'Thomas',\n",
       "  'lastname': 'Shelby',\n",
       "  'position': 'CEO',\n",
       "  'gender': 'Male',\n",
       "  'age': 35,\n",
       "  'description': \"Thomas 'Tommy' Michael Shelby M.P. OBE, is the leader of the Birmingham criminal gang Peaky Blinders and the patriarch of the Shelby Family. His experiences during and after the First World War have left him disillusioned and determined to move his family up in the world.\",\n",
       "  'nicknames': ['Tom', 'Tommy', 'Thomas'],\n",
       "  'company': 'Peaky Blinders',\n",
       "  'episodes': [1, 2, 4, 5, 6]},\n",
       " {'_id': ObjectId('5ddac4709ed5d6001efd0438'),\n",
       "  'firstname': 'Thomas',\n",
       "  'lastname': 'Shelby',\n",
       "  'position': 'CEO',\n",
       "  'gender': 'Male',\n",
       "  'age': 35,\n",
       "  'description': \"Thomas 'Tommy' Michael Shelby M.P. OBE, is the leader of the Birmingham criminal gang Peaky Blinders and the patriarch of the Shelby Family. His experiences during and after the First World War have left him disillusioned and determined to move his family up in the world.\",\n",
       "  'nicknames': ['Tom', 'Tommy', 'Thomas'],\n",
       "  'company': 'Peaky Blinders',\n",
       "  'episodes': [1, 2, 4, 5, 6]},\n",
       " {'_id': ObjectId('5ddac4709ed5d6001efd0439'),\n",
       "  'firstname': 'Arthur',\n",
       "  'lastname': 'Shelby',\n",
       "  'position': 'Associate',\n",
       "  'gender': 'Male',\n",
       "  'age': 38,\n",
       "  'description': \"Arthur Shelby Jr. is the eldest of the Shelby siblings and the tough member of Peaky Blinders, the Deputy Vice President Shelby Company Limited. He's also a member of the ICA.\",\n",
       "  'company': 'Peaky Blinders',\n",
       "  'episodes': [1, 4, 6]},\n",
       " {'_id': ObjectId('5ddac4709ed5d6001efd043a'),\n",
       "  'firstname': 'John',\n",
       "  'lastname': 'Shelby',\n",
       "  'position': 'Associate',\n",
       "  'gender': 'Male',\n",
       "  'age': 30,\n",
       "  'description': 'John Michael Shelby, also called Johnny or John Boy, was the third of Shelby siblings and a member of the Peaky Blinders.',\n",
       "  'nicknames': ['Johnny', 'John Boy'],\n",
       "  'company': 'Peaky Blinders',\n",
       "  'episodes': [4, 5, 6]}]"
      ]
     },
     "execution_count": 157,
     "metadata": {},
     "output_type": "execute_result"
    }
   ],
   "source": [
    "list(collection_peaky.find({\"lastname\":\"Shelby\"}))"
   ]
  },
  {
   "cell_type": "code",
   "execution_count": 33,
   "metadata": {
    "ExecuteTime": {
     "end_time": "2023-12-05T14:49:47.785111114Z",
     "start_time": "2023-12-05T14:49:47.735751412Z"
    }
   },
   "outputs": [
    {
     "data": {
      "text/plain": "{'_id': ObjectId('656f36410a3a7e8515a7c266'),\n 'firstname': 'Thomas',\n 'lastname': 'Shelby',\n 'position': 'CEO',\n 'gender': 'Male',\n 'age': 35,\n 'description': \"Thomas 'Tommy' Michael Shelby M.P. OBE, is the leader of the Birmingham criminal gang Peaky Blinders and the patriarch of the Shelby Family. His experiences during and after the First World War have left him disillusioned and determined to move his family up in the world.\",\n 'nicknames': ['Tom', 'Tommy', 'Thomas'],\n 'company': 'Peaky Blinders',\n 'episodes': [1, 2, 4, 5, 6]}"
     },
     "execution_count": 33,
     "metadata": {},
     "output_type": "execute_result"
    }
   ],
   "source": [
    "cur = collection_peaky.find({\"lastname\":\"Shelby\"}).skip(1)\n",
    "next(cur)"
   ]
  },
  {
   "cell_type": "markdown",
   "metadata": {},
   "source": [
    "On peut trier les résultats récupérés. \n",
    "\n",
    "Pour trier dans l'ordre ascendant et donc récupérer le plus jeune de la famille:"
   ]
  },
  {
   "cell_type": "code",
   "execution_count": 159,
   "metadata": {},
   "outputs": [
    {
     "data": {
      "text/plain": [
       "{'_id': ObjectId('5ddac4709ed5d6001efd043a'), 'firstname': 'John'}"
      ]
     },
     "execution_count": 159,
     "metadata": {},
     "output_type": "execute_result"
    }
   ],
   "source": [
    "cur = collection_peaky.find({\"lastname\":\"Shelby\"}, {\"firstname\":1}).sort([(\"age\", 1)])\n",
    "next(cur)"
   ]
  },
  {
   "cell_type": "markdown",
   "metadata": {},
   "source": [
    "Pour trier dans l'ordre descendant :\n"
   ]
  },
  {
   "cell_type": "code",
   "execution_count": 160,
   "metadata": {},
   "outputs": [
    {
     "data": {
      "text/plain": [
       "{'_id': ObjectId('5ddac1ac9ed5d6001efd0431'), 'firstname': 'Arthur'}"
      ]
     },
     "execution_count": 160,
     "metadata": {},
     "output_type": "execute_result"
    }
   ],
   "source": [
    "cur = collection_peaky.find({\"lastname\":\"Shelby\"}, {\"firstname\":1}).sort([(\"age\", -1)])\n",
    "next(cur)"
   ]
  },
  {
   "cell_type": "markdown",
   "metadata": {},
   "source": [
    "On peut aussi trier selon une clé puis une autre."
   ]
  },
  {
   "cell_type": "code",
   "execution_count": 161,
   "metadata": {},
   "outputs": [
    {
     "data": {
      "text/plain": [
       "{'_id': ObjectId('5ddac1ac9ed5d6001efd0431'), 'firstname': 'Arthur'}"
      ]
     },
     "execution_count": 161,
     "metadata": {},
     "output_type": "execute_result"
    }
   ],
   "source": [
    "cur = collection_peaky.find({\"lastname\":\"Shelby\"}, {\"firstname\":1}).sort([(\"age\", -1), (\"firstname\", 1)])\n",
    "next(cur)"
   ]
  },
  {
   "cell_type": "markdown",
   "metadata": {},
   "source": [
    "## Indexation"
   ]
  },
  {
   "cell_type": "markdown",
   "metadata": {},
   "source": [
    "L'indexation permet d'accélérer les performances sur les requêtes. Si aucun index n'est mis en place, MongoDB doit effectuer un scan de tous les documents pour trouver ceux qui sont pertinents. L'index permet de stocker les valeurs d'un champ de façon triée pour limiter le nombre de document à parcourir pour effectuer une requête. \n",
    "\n",
    "Vous pouvez accéder à plus d'informations ici : https://docs.mongodb.com/manual/indexes/\n",
    "\n",
    "### Indexation simple\n",
    "\n",
    "L'indexation simple permet de créer l'index en fonction d'un seul champ. \n",
    "\n",
    "On spécifie alors l'ordre dans lequel l'index est créé et trié. \n",
    "\n",
    "Dans l'ordre croissant, "
   ]
  },
  {
   "cell_type": "code",
   "execution_count": 34,
   "metadata": {
    "ExecuteTime": {
     "end_time": "2023-12-05T14:54:21.963135943Z",
     "start_time": "2023-12-05T14:54:21.585776933Z"
    }
   },
   "outputs": [
    {
     "data": {
      "text/plain": "'age_1'"
     },
     "execution_count": 34,
     "metadata": {},
     "output_type": "execute_result"
    }
   ],
   "source": [
    "collection_peaky.create_index([(\"age\", 1)])"
   ]
  },
  {
   "cell_type": "code",
   "execution_count": 35,
   "metadata": {
    "ExecuteTime": {
     "end_time": "2023-12-05T14:54:26.287166390Z",
     "start_time": "2023-12-05T14:54:26.229886044Z"
    }
   },
   "outputs": [
    {
     "data": {
      "text/plain": "{'_id_': {'v': 2, 'key': [('_id', 1)]}, 'age_1': {'v': 2, 'key': [('age', 1)]}}"
     },
     "execution_count": 35,
     "metadata": {},
     "output_type": "execute_result"
    }
   ],
   "source": [
    "collection_peaky.index_information()"
   ]
  },
  {
   "cell_type": "markdown",
   "metadata": {},
   "source": [
    "Et dans l'ordre décroissant, "
   ]
  },
  {
   "cell_type": "code",
   "execution_count": 36,
   "metadata": {
    "ExecuteTime": {
     "end_time": "2023-12-05T14:54:41.060589900Z",
     "start_time": "2023-12-05T14:54:40.499150982Z"
    }
   },
   "outputs": [
    {
     "data": {
      "text/plain": "'age_-1'"
     },
     "execution_count": 36,
     "metadata": {},
     "output_type": "execute_result"
    }
   ],
   "source": [
    "collection_peaky.create_index([(\"age\", -1)])"
   ]
  },
  {
   "cell_type": "code",
   "execution_count": 37,
   "metadata": {
    "ExecuteTime": {
     "end_time": "2023-12-05T14:54:44.343118060Z",
     "start_time": "2023-12-05T14:54:44.314522011Z"
    }
   },
   "outputs": [
    {
     "data": {
      "text/plain": "{'_id_': {'v': 2, 'key': [('_id', 1)]},\n 'age_1': {'v': 2, 'key': [('age', 1)]},\n 'age_-1': {'v': 2, 'key': [('age', -1)]}}"
     },
     "execution_count": 37,
     "metadata": {},
     "output_type": "execute_result"
    }
   ],
   "source": [
    "collection_peaky.index_information()"
   ]
  },
  {
   "cell_type": "markdown",
   "metadata": {},
   "source": [
    "Pour supprimer un index en particulier : "
   ]
  },
  {
   "cell_type": "code",
   "execution_count": 38,
   "metadata": {
    "ExecuteTime": {
     "end_time": "2023-12-05T14:56:27.076632173Z",
     "start_time": "2023-12-05T14:56:27.028750228Z"
    }
   },
   "outputs": [],
   "source": [
    "collection_peaky.drop_index(\"age_1\")"
   ]
  },
  {
   "cell_type": "code",
   "execution_count": 39,
   "metadata": {
    "ExecuteTime": {
     "end_time": "2023-12-05T14:56:29.930904211Z",
     "start_time": "2023-12-05T14:56:29.913072251Z"
    }
   },
   "outputs": [
    {
     "data": {
      "text/plain": "{'_id_': {'v': 2, 'key': [('_id', 1)]},\n 'age_-1': {'v': 2, 'key': [('age', -1)]}}"
     },
     "execution_count": 39,
     "metadata": {},
     "output_type": "execute_result"
    }
   ],
   "source": [
    "collection_peaky.index_information()"
   ]
  },
  {
   "cell_type": "markdown",
   "metadata": {},
   "source": [
    "Pour supprimer tous les index : "
   ]
  },
  {
   "cell_type": "code",
   "execution_count": 40,
   "metadata": {
    "ExecuteTime": {
     "end_time": "2023-12-05T14:56:34.690851604Z",
     "start_time": "2023-12-05T14:56:34.674270872Z"
    }
   },
   "outputs": [],
   "source": [
    "collection_peaky.drop_indexes()"
   ]
  },
  {
   "cell_type": "code",
   "execution_count": 42,
   "metadata": {
    "ExecuteTime": {
     "end_time": "2023-12-05T14:56:37.893828830Z",
     "start_time": "2023-12-05T14:56:37.810826145Z"
    }
   },
   "outputs": [
    {
     "data": {
      "text/plain": "{'_id_': {'v': 2, 'key': [('_id', 1)]}}"
     },
     "execution_count": 42,
     "metadata": {},
     "output_type": "execute_result"
    }
   ],
   "source": [
    "collection_peaky.index_information()"
   ]
  },
  {
   "cell_type": "markdown",
   "metadata": {},
   "source": [
    "Les performances ne sont visibles que pour des collections de taille importante. Mais se ressente très rapidement et sont souvent indispensables. "
   ]
  },
  {
   "cell_type": "markdown",
   "metadata": {},
   "source": [
    "### Indexation composée\n",
    "\n",
    "L'indexation composée permet de créer un index basé sur deux champs différents. L'ordre des champs spécifié dans la création d'un index est important.On peut trier dans l'ordre croissant le premier champ et dans l'ordre décroissant le deuxième champ. \n",
    "\n",
    "Il est très utile quand plusieurs champs sont souvent utilisé conjointement pour effectuer des queries. "
   ]
  },
  {
   "cell_type": "code",
   "execution_count": 43,
   "metadata": {
    "ExecuteTime": {
     "end_time": "2023-12-05T14:57:11.438595694Z",
     "start_time": "2023-12-05T14:57:10.425444719Z"
    }
   },
   "outputs": [
    {
     "data": {
      "text/plain": "'age_-1_firstname_1'"
     },
     "execution_count": 43,
     "metadata": {},
     "output_type": "execute_result"
    }
   ],
   "source": [
    "collection_peaky.create_index([(\"age\", -1), (\"firstname\", 1)])"
   ]
  },
  {
   "cell_type": "code",
   "execution_count": 45,
   "metadata": {
    "ExecuteTime": {
     "end_time": "2023-12-05T14:57:16.536124821Z",
     "start_time": "2023-12-05T14:57:16.431861530Z"
    }
   },
   "outputs": [
    {
     "data": {
      "text/plain": "{'_id_': {'v': 2, 'key': [('_id', 1)]},\n 'age_-1_firstname_1': {'v': 2, 'key': [('age', -1), ('firstname', 1)]}}"
     },
     "execution_count": 45,
     "metadata": {},
     "output_type": "execute_result"
    }
   ],
   "source": [
    "collection_peaky.index_information()"
   ]
  },
  {
   "cell_type": "markdown",
   "metadata": {},
   "source": [
    "\n",
    "### Indexations spéciales\n",
    "\n",
    "Mongo permet plusieurs indexations : \n",
    "\n",
    "- Text : permet de faire de la recherche naturelle de *queries* dans du texte. Cet index peut devenir très rapidement très important et prendre beaucoup de place mémoire. Cet index textuel contient un index par mot contenu dans l'ensemble des documents. Il peut aussi être très lent à créer.\n",
    "- Multiclés : permet de créer un index sur les éléments d'objets stockés dans des listes ou *arrays*.\n",
    "- 2D, 2DSphere, geoHaystack : permet de créer des index sur des données géospatiales.\n",
    "- Hash : permet de stocker les valeurs des champs sous forme de *hash*.\n",
    "\n",
    "Dans ce cours, on se contentera de faire de l'indexation textuelle.\n",
    "\n",
    "Tous ces mécanismes d'indexation permettent d'accélérer les performances des requêtes. Mais ils peuvent avoir des effets négatifs: \n",
    "\n",
    "- Sur l'occupation mémoire : Chaque index doit avoir un minimum de 8 kB et peut prendre beaucoup de place sur le disque et dans la mémoire RAM.\n",
    "- Sur le temps d'exécution : les opérations d'insertion et d'écriture peuvent être longues puisque Mongo doit insérer chaque nouveau document dans l'index en plus de l'insertion dans la collection.\n",
    "\n",
    "Exemple : \n",
    "\n",
    "Pour créer un index textuel sur la description des personnages : \n"
   ]
  },
  {
   "cell_type": "code",
   "execution_count": 47,
   "metadata": {
    "ExecuteTime": {
     "end_time": "2023-12-05T14:59:32.824665953Z",
     "start_time": "2023-12-05T14:59:32.312267195Z"
    }
   },
   "outputs": [
    {
     "data": {
      "text/plain": "'description_text'"
     },
     "execution_count": 47,
     "metadata": {},
     "output_type": "execute_result"
    }
   ],
   "source": [
    "collection_peaky.create_index([(\"description\",  \"text\")])"
   ]
  },
  {
   "cell_type": "code",
   "execution_count": 48,
   "metadata": {
    "ExecuteTime": {
     "end_time": "2023-12-05T14:59:34.680958494Z",
     "start_time": "2023-12-05T14:59:34.627681087Z"
    }
   },
   "outputs": [
    {
     "data": {
      "text/plain": "{'_id_': {'v': 2, 'key': [('_id', 1)]},\n 'age_-1_firstname_1': {'v': 2, 'key': [('age', -1), ('firstname', 1)]},\n 'description_text': {'v': 2,\n  'key': [('_fts', 'text'), ('_ftsx', 1)],\n  'weights': SON([('description', 1)]),\n  'default_language': 'english',\n  'language_override': 'language',\n  'textIndexVersion': 3}}"
     },
     "execution_count": 48,
     "metadata": {},
     "output_type": "execute_result"
    }
   ],
   "source": [
    "collection_peaky.index_information()"
   ]
  },
  {
   "cell_type": "markdown",
   "metadata": {},
   "source": [
    "Uniquement après que cet index de texte ait été créé, on peut utiliser la méthode `find()` avec l'argument `$text` pour faire une requête dans le texte.\n"
   ]
  },
  {
   "cell_type": "code",
   "execution_count": 49,
   "metadata": {
    "ExecuteTime": {
     "end_time": "2023-12-05T15:00:31.842160784Z",
     "start_time": "2023-12-05T15:00:31.788306387Z"
    }
   },
   "outputs": [
    {
     "data": {
      "text/plain": "{'_id': ObjectId('656f36410a3a7e8515a7c269'),\n 'firstname': 'Ada',\n 'lastname': 'Thorne',\n 'position': 'HR',\n 'gender': 'Female',\n 'age': 28,\n 'description': \"Ada Thorne is the fourth and only female of the Shelby sibling. She's the Head of Acquisitions of the Shelby Company Limited.\",\n 'nicknames': ['Ada Shelby'],\n 'company': 'Peaky Blinders',\n 'episodes': [1, 2, 6]}"
     },
     "execution_count": 49,
     "metadata": {},
     "output_type": "execute_result"
    }
   ],
   "source": [
    "cur = collection_peaky.find( { \"$text\": { \"$search\": \"female\" } } )\n",
    "next(cur)"
   ]
  },
  {
   "cell_type": "markdown",
   "metadata": {},
   "source": [
    "    \n",
    "#### Exercice\n",
    "\n",
    "Supprimez tous les index créés et réessayez de faire la même requête. Que se passe-t-il ?\n"
   ]
  },
  {
   "cell_type": "code",
   "execution_count": 50,
   "outputs": [],
   "source": [
    "collection_peaky.drop_indexes()"
   ],
   "metadata": {
    "collapsed": false,
    "ExecuteTime": {
     "end_time": "2023-12-05T15:01:13.320635004Z",
     "start_time": "2023-12-05T15:01:13.278084920Z"
    }
   }
  },
  {
   "cell_type": "code",
   "execution_count": 51,
   "outputs": [
    {
     "ename": "OperationFailure",
     "evalue": "text index required for $text query, full error: {'ok': 0.0, 'errmsg': 'text index required for $text query', 'code': 27, 'codeName': 'IndexNotFound'}",
     "output_type": "error",
     "traceback": [
      "\u001B[0;31m---------------------------------------------------------------------------\u001B[0m",
      "\u001B[0;31mOperationFailure\u001B[0m                          Traceback (most recent call last)",
      "Cell \u001B[0;32mIn[51], line 2\u001B[0m\n\u001B[1;32m      1\u001B[0m cur \u001B[38;5;241m=\u001B[39m collection_peaky\u001B[38;5;241m.\u001B[39mfind( { \u001B[38;5;124m\"\u001B[39m\u001B[38;5;124m$text\u001B[39m\u001B[38;5;124m\"\u001B[39m: { \u001B[38;5;124m\"\u001B[39m\u001B[38;5;124m$search\u001B[39m\u001B[38;5;124m\"\u001B[39m: \u001B[38;5;124m\"\u001B[39m\u001B[38;5;124mfemale\u001B[39m\u001B[38;5;124m\"\u001B[39m } } )\n\u001B[0;32m----> 2\u001B[0m \u001B[38;5;28;43mnext\u001B[39;49m\u001B[43m(\u001B[49m\u001B[43mcur\u001B[49m\u001B[43m)\u001B[49m\n",
      "File \u001B[0;32m~/.virtualenvs/4201C-mfuJG1Ab/lib/python3.8/site-packages/pymongo/cursor.py:1264\u001B[0m, in \u001B[0;36mCursor.next\u001B[0;34m(self)\u001B[0m\n\u001B[1;32m   1262\u001B[0m \u001B[38;5;28;01mif\u001B[39;00m \u001B[38;5;28mself\u001B[39m\u001B[38;5;241m.\u001B[39m__empty:\n\u001B[1;32m   1263\u001B[0m     \u001B[38;5;28;01mraise\u001B[39;00m \u001B[38;5;167;01mStopIteration\u001B[39;00m\n\u001B[0;32m-> 1264\u001B[0m \u001B[38;5;28;01mif\u001B[39;00m \u001B[38;5;28mlen\u001B[39m(\u001B[38;5;28mself\u001B[39m\u001B[38;5;241m.\u001B[39m__data) \u001B[38;5;129;01mor\u001B[39;00m \u001B[38;5;28;43mself\u001B[39;49m\u001B[38;5;241;43m.\u001B[39;49m\u001B[43m_refresh\u001B[49m\u001B[43m(\u001B[49m\u001B[43m)\u001B[49m:\n\u001B[1;32m   1265\u001B[0m     \u001B[38;5;28;01mreturn\u001B[39;00m \u001B[38;5;28mself\u001B[39m\u001B[38;5;241m.\u001B[39m__data\u001B[38;5;241m.\u001B[39mpopleft()\n\u001B[1;32m   1266\u001B[0m \u001B[38;5;28;01melse\u001B[39;00m:\n",
      "File \u001B[0;32m~/.virtualenvs/4201C-mfuJG1Ab/lib/python3.8/site-packages/pymongo/cursor.py:1181\u001B[0m, in \u001B[0;36mCursor._refresh\u001B[0;34m(self)\u001B[0m\n\u001B[1;32m   1159\u001B[0m         \u001B[38;5;28;01mraise\u001B[39;00m InvalidOperation(\n\u001B[1;32m   1160\u001B[0m             \u001B[38;5;124m\"\u001B[39m\u001B[38;5;124mPassing a \u001B[39m\u001B[38;5;124m'\u001B[39m\u001B[38;5;124mhint\u001B[39m\u001B[38;5;124m'\u001B[39m\u001B[38;5;124m is required when using the min/max query\u001B[39m\u001B[38;5;124m\"\u001B[39m\n\u001B[1;32m   1161\u001B[0m             \u001B[38;5;124m\"\u001B[39m\u001B[38;5;124m option to ensure the query utilizes the correct index\u001B[39m\u001B[38;5;124m\"\u001B[39m\n\u001B[1;32m   1162\u001B[0m         )\n\u001B[1;32m   1163\u001B[0m     q \u001B[38;5;241m=\u001B[39m \u001B[38;5;28mself\u001B[39m\u001B[38;5;241m.\u001B[39m_query_class(\n\u001B[1;32m   1164\u001B[0m         \u001B[38;5;28mself\u001B[39m\u001B[38;5;241m.\u001B[39m__query_flags,\n\u001B[1;32m   1165\u001B[0m         \u001B[38;5;28mself\u001B[39m\u001B[38;5;241m.\u001B[39m__collection\u001B[38;5;241m.\u001B[39mdatabase\u001B[38;5;241m.\u001B[39mname,\n\u001B[0;32m   (...)\u001B[0m\n\u001B[1;32m   1179\u001B[0m         \u001B[38;5;28mself\u001B[39m\u001B[38;5;241m.\u001B[39m__exhaust,\n\u001B[1;32m   1180\u001B[0m     )\n\u001B[0;32m-> 1181\u001B[0m     \u001B[38;5;28;43mself\u001B[39;49m\u001B[38;5;241;43m.\u001B[39;49m\u001B[43m__send_message\u001B[49m\u001B[43m(\u001B[49m\u001B[43mq\u001B[49m\u001B[43m)\u001B[49m\n\u001B[1;32m   1182\u001B[0m \u001B[38;5;28;01melif\u001B[39;00m \u001B[38;5;28mself\u001B[39m\u001B[38;5;241m.\u001B[39m__id:  \u001B[38;5;66;03m# Get More\u001B[39;00m\n\u001B[1;32m   1183\u001B[0m     \u001B[38;5;28;01mif\u001B[39;00m \u001B[38;5;28mself\u001B[39m\u001B[38;5;241m.\u001B[39m__limit:\n",
      "File \u001B[0;32m~/.virtualenvs/4201C-mfuJG1Ab/lib/python3.8/site-packages/pymongo/cursor.py:1060\u001B[0m, in \u001B[0;36mCursor.__send_message\u001B[0;34m(self, operation)\u001B[0m\n\u001B[1;32m   1057\u001B[0m     \u001B[38;5;28;01mraise\u001B[39;00m InvalidOperation(\u001B[38;5;124m\"\u001B[39m\u001B[38;5;124mexhaust cursors do not support auto encryption\u001B[39m\u001B[38;5;124m\"\u001B[39m)\n\u001B[1;32m   1059\u001B[0m \u001B[38;5;28;01mtry\u001B[39;00m:\n\u001B[0;32m-> 1060\u001B[0m     response \u001B[38;5;241m=\u001B[39m \u001B[43mclient\u001B[49m\u001B[38;5;241;43m.\u001B[39;49m\u001B[43m_run_operation\u001B[49m\u001B[43m(\u001B[49m\n\u001B[1;32m   1061\u001B[0m \u001B[43m        \u001B[49m\u001B[43moperation\u001B[49m\u001B[43m,\u001B[49m\u001B[43m \u001B[49m\u001B[38;5;28;43mself\u001B[39;49m\u001B[38;5;241;43m.\u001B[39;49m\u001B[43m_unpack_response\u001B[49m\u001B[43m,\u001B[49m\u001B[43m \u001B[49m\u001B[43maddress\u001B[49m\u001B[38;5;241;43m=\u001B[39;49m\u001B[38;5;28;43mself\u001B[39;49m\u001B[38;5;241;43m.\u001B[39;49m\u001B[43m__address\u001B[49m\n\u001B[1;32m   1062\u001B[0m \u001B[43m    \u001B[49m\u001B[43m)\u001B[49m\n\u001B[1;32m   1063\u001B[0m \u001B[38;5;28;01mexcept\u001B[39;00m OperationFailure \u001B[38;5;28;01mas\u001B[39;00m exc:\n\u001B[1;32m   1064\u001B[0m     \u001B[38;5;28;01mif\u001B[39;00m exc\u001B[38;5;241m.\u001B[39mcode \u001B[38;5;129;01min\u001B[39;00m _CURSOR_CLOSED_ERRORS \u001B[38;5;129;01mor\u001B[39;00m \u001B[38;5;28mself\u001B[39m\u001B[38;5;241m.\u001B[39m__exhaust:\n\u001B[1;32m   1065\u001B[0m         \u001B[38;5;66;03m# Don't send killCursors because the cursor is already closed.\u001B[39;00m\n",
      "File \u001B[0;32m~/.virtualenvs/4201C-mfuJG1Ab/lib/python3.8/site-packages/pymongo/_csot.py:107\u001B[0m, in \u001B[0;36mapply.<locals>.csot_wrapper\u001B[0;34m(self, *args, **kwargs)\u001B[0m\n\u001B[1;32m    105\u001B[0m         \u001B[38;5;28;01mwith\u001B[39;00m _TimeoutContext(timeout):\n\u001B[1;32m    106\u001B[0m             \u001B[38;5;28;01mreturn\u001B[39;00m func(\u001B[38;5;28mself\u001B[39m, \u001B[38;5;241m*\u001B[39margs, \u001B[38;5;241m*\u001B[39m\u001B[38;5;241m*\u001B[39mkwargs)\n\u001B[0;32m--> 107\u001B[0m \u001B[38;5;28;01mreturn\u001B[39;00m \u001B[43mfunc\u001B[49m\u001B[43m(\u001B[49m\u001B[38;5;28;43mself\u001B[39;49m\u001B[43m,\u001B[49m\u001B[43m \u001B[49m\u001B[38;5;241;43m*\u001B[39;49m\u001B[43margs\u001B[49m\u001B[43m,\u001B[49m\u001B[43m \u001B[49m\u001B[38;5;241;43m*\u001B[39;49m\u001B[38;5;241;43m*\u001B[39;49m\u001B[43mkwargs\u001B[49m\u001B[43m)\u001B[49m\n",
      "File \u001B[0;32m~/.virtualenvs/4201C-mfuJG1Ab/lib/python3.8/site-packages/pymongo/mongo_client.py:1394\u001B[0m, in \u001B[0;36mMongoClient._run_operation\u001B[0;34m(self, operation, unpack_res, address)\u001B[0m\n\u001B[1;32m   1389\u001B[0m     operation\u001B[38;5;241m.\u001B[39mreset()  \u001B[38;5;66;03m# Reset op in case of retry.\u001B[39;00m\n\u001B[1;32m   1390\u001B[0m     \u001B[38;5;28;01mreturn\u001B[39;00m server\u001B[38;5;241m.\u001B[39mrun_operation(\n\u001B[1;32m   1391\u001B[0m         conn, operation, read_preference, \u001B[38;5;28mself\u001B[39m\u001B[38;5;241m.\u001B[39m_event_listeners, unpack_res\n\u001B[1;32m   1392\u001B[0m     )\n\u001B[0;32m-> 1394\u001B[0m \u001B[38;5;28;01mreturn\u001B[39;00m \u001B[38;5;28;43mself\u001B[39;49m\u001B[38;5;241;43m.\u001B[39;49m\u001B[43m_retryable_read\u001B[49m\u001B[43m(\u001B[49m\n\u001B[1;32m   1395\u001B[0m \u001B[43m    \u001B[49m\u001B[43m_cmd\u001B[49m\u001B[43m,\u001B[49m\n\u001B[1;32m   1396\u001B[0m \u001B[43m    \u001B[49m\u001B[43moperation\u001B[49m\u001B[38;5;241;43m.\u001B[39;49m\u001B[43mread_preference\u001B[49m\u001B[43m,\u001B[49m\n\u001B[1;32m   1397\u001B[0m \u001B[43m    \u001B[49m\u001B[43moperation\u001B[49m\u001B[38;5;241;43m.\u001B[39;49m\u001B[43msession\u001B[49m\u001B[43m,\u001B[49m\n\u001B[1;32m   1398\u001B[0m \u001B[43m    \u001B[49m\u001B[43maddress\u001B[49m\u001B[38;5;241;43m=\u001B[39;49m\u001B[43maddress\u001B[49m\u001B[43m,\u001B[49m\n\u001B[1;32m   1399\u001B[0m \u001B[43m    \u001B[49m\u001B[43mretryable\u001B[49m\u001B[38;5;241;43m=\u001B[39;49m\u001B[38;5;28;43misinstance\u001B[39;49m\u001B[43m(\u001B[49m\u001B[43moperation\u001B[49m\u001B[43m,\u001B[49m\u001B[43m \u001B[49m\u001B[43mmessage\u001B[49m\u001B[38;5;241;43m.\u001B[39;49m\u001B[43m_Query\u001B[49m\u001B[43m)\u001B[49m\u001B[43m,\u001B[49m\n\u001B[1;32m   1400\u001B[0m \u001B[43m\u001B[49m\u001B[43m)\u001B[49m\n",
      "File \u001B[0;32m~/.virtualenvs/4201C-mfuJG1Ab/lib/python3.8/site-packages/pymongo/mongo_client.py:1492\u001B[0m, in \u001B[0;36mMongoClient._retryable_read\u001B[0;34m(self, func, read_pref, session, address, retryable)\u001B[0m\n\u001B[1;32m   1487\u001B[0m \u001B[38;5;66;03m# Ensure that the client supports retrying on reads and there is no session in\u001B[39;00m\n\u001B[1;32m   1488\u001B[0m \u001B[38;5;66;03m# transaction, otherwise, we will not support retry behavior for this call.\u001B[39;00m\n\u001B[1;32m   1489\u001B[0m retryable \u001B[38;5;241m=\u001B[39m \u001B[38;5;28mbool\u001B[39m(\n\u001B[1;32m   1490\u001B[0m     retryable \u001B[38;5;129;01mand\u001B[39;00m \u001B[38;5;28mself\u001B[39m\u001B[38;5;241m.\u001B[39moptions\u001B[38;5;241m.\u001B[39mretry_reads \u001B[38;5;129;01mand\u001B[39;00m \u001B[38;5;129;01mnot\u001B[39;00m (session \u001B[38;5;129;01mand\u001B[39;00m session\u001B[38;5;241m.\u001B[39min_transaction)\n\u001B[1;32m   1491\u001B[0m )\n\u001B[0;32m-> 1492\u001B[0m \u001B[38;5;28;01mreturn\u001B[39;00m \u001B[38;5;28;43mself\u001B[39;49m\u001B[38;5;241;43m.\u001B[39;49m\u001B[43m_retry_internal\u001B[49m\u001B[43m(\u001B[49m\n\u001B[1;32m   1493\u001B[0m \u001B[43m    \u001B[49m\u001B[43mfunc\u001B[49m\u001B[43m,\u001B[49m\n\u001B[1;32m   1494\u001B[0m \u001B[43m    \u001B[49m\u001B[43msession\u001B[49m\u001B[43m,\u001B[49m\n\u001B[1;32m   1495\u001B[0m \u001B[43m    \u001B[49m\u001B[38;5;28;43;01mNone\u001B[39;49;00m\u001B[43m,\u001B[49m\n\u001B[1;32m   1496\u001B[0m \u001B[43m    \u001B[49m\u001B[43mis_read\u001B[49m\u001B[38;5;241;43m=\u001B[39;49m\u001B[38;5;28;43;01mTrue\u001B[39;49;00m\u001B[43m,\u001B[49m\n\u001B[1;32m   1497\u001B[0m \u001B[43m    \u001B[49m\u001B[43maddress\u001B[49m\u001B[38;5;241;43m=\u001B[39;49m\u001B[43maddress\u001B[49m\u001B[43m,\u001B[49m\n\u001B[1;32m   1498\u001B[0m \u001B[43m    \u001B[49m\u001B[43mread_pref\u001B[49m\u001B[38;5;241;43m=\u001B[39;49m\u001B[43mread_pref\u001B[49m\u001B[43m,\u001B[49m\n\u001B[1;32m   1499\u001B[0m \u001B[43m    \u001B[49m\u001B[43mretryable\u001B[49m\u001B[38;5;241;43m=\u001B[39;49m\u001B[43mretryable\u001B[49m\u001B[43m,\u001B[49m\n\u001B[1;32m   1500\u001B[0m \u001B[43m\u001B[49m\u001B[43m)\u001B[49m\n",
      "File \u001B[0;32m~/.virtualenvs/4201C-mfuJG1Ab/lib/python3.8/site-packages/pymongo/_csot.py:107\u001B[0m, in \u001B[0;36mapply.<locals>.csot_wrapper\u001B[0;34m(self, *args, **kwargs)\u001B[0m\n\u001B[1;32m    105\u001B[0m         \u001B[38;5;28;01mwith\u001B[39;00m _TimeoutContext(timeout):\n\u001B[1;32m    106\u001B[0m             \u001B[38;5;28;01mreturn\u001B[39;00m func(\u001B[38;5;28mself\u001B[39m, \u001B[38;5;241m*\u001B[39margs, \u001B[38;5;241m*\u001B[39m\u001B[38;5;241m*\u001B[39mkwargs)\n\u001B[0;32m--> 107\u001B[0m \u001B[38;5;28;01mreturn\u001B[39;00m \u001B[43mfunc\u001B[49m\u001B[43m(\u001B[49m\u001B[38;5;28;43mself\u001B[39;49m\u001B[43m,\u001B[49m\u001B[43m \u001B[49m\u001B[38;5;241;43m*\u001B[39;49m\u001B[43margs\u001B[49m\u001B[43m,\u001B[49m\u001B[43m \u001B[49m\u001B[38;5;241;43m*\u001B[39;49m\u001B[38;5;241;43m*\u001B[39;49m\u001B[43mkwargs\u001B[49m\u001B[43m)\u001B[49m\n",
      "File \u001B[0;32m~/.virtualenvs/4201C-mfuJG1Ab/lib/python3.8/site-packages/pymongo/mongo_client.py:1453\u001B[0m, in \u001B[0;36mMongoClient._retry_internal\u001B[0;34m(self, func, session, bulk, is_read, address, read_pref, retryable)\u001B[0m\n\u001B[1;32m   1428\u001B[0m \u001B[38;5;129m@_csot\u001B[39m\u001B[38;5;241m.\u001B[39mapply\n\u001B[1;32m   1429\u001B[0m \u001B[38;5;28;01mdef\u001B[39;00m \u001B[38;5;21m_retry_internal\u001B[39m(\n\u001B[1;32m   1430\u001B[0m     \u001B[38;5;28mself\u001B[39m,\n\u001B[0;32m   (...)\u001B[0m\n\u001B[1;32m   1437\u001B[0m     retryable: \u001B[38;5;28mbool\u001B[39m \u001B[38;5;241m=\u001B[39m \u001B[38;5;28;01mFalse\u001B[39;00m,\n\u001B[1;32m   1438\u001B[0m ) \u001B[38;5;241m-\u001B[39m\u001B[38;5;241m>\u001B[39m T:\n\u001B[1;32m   1439\u001B[0m \u001B[38;5;250m    \u001B[39m\u001B[38;5;124;03m\"\"\"Internal retryable helper for all client transactions.\u001B[39;00m\n\u001B[1;32m   1440\u001B[0m \n\u001B[1;32m   1441\u001B[0m \u001B[38;5;124;03m    :Parameters:\u001B[39;00m\n\u001B[0;32m   (...)\u001B[0m\n\u001B[1;32m   1451\u001B[0m \u001B[38;5;124;03m      Output of the calling func()\u001B[39;00m\n\u001B[1;32m   1452\u001B[0m \u001B[38;5;124;03m    \"\"\"\u001B[39;00m\n\u001B[0;32m-> 1453\u001B[0m     \u001B[38;5;28;01mreturn\u001B[39;00m \u001B[43m_ClientConnectionRetryable\u001B[49m\u001B[43m(\u001B[49m\n\u001B[1;32m   1454\u001B[0m \u001B[43m        \u001B[49m\u001B[43mmongo_client\u001B[49m\u001B[38;5;241;43m=\u001B[39;49m\u001B[38;5;28;43mself\u001B[39;49m\u001B[43m,\u001B[49m\n\u001B[1;32m   1455\u001B[0m \u001B[43m        \u001B[49m\u001B[43mfunc\u001B[49m\u001B[38;5;241;43m=\u001B[39;49m\u001B[43mfunc\u001B[49m\u001B[43m,\u001B[49m\n\u001B[1;32m   1456\u001B[0m \u001B[43m        \u001B[49m\u001B[43mbulk\u001B[49m\u001B[38;5;241;43m=\u001B[39;49m\u001B[43mbulk\u001B[49m\u001B[43m,\u001B[49m\n\u001B[1;32m   1457\u001B[0m \u001B[43m        \u001B[49m\u001B[43mis_read\u001B[49m\u001B[38;5;241;43m=\u001B[39;49m\u001B[43mis_read\u001B[49m\u001B[43m,\u001B[49m\n\u001B[1;32m   1458\u001B[0m \u001B[43m        \u001B[49m\u001B[43msession\u001B[49m\u001B[38;5;241;43m=\u001B[39;49m\u001B[43msession\u001B[49m\u001B[43m,\u001B[49m\n\u001B[1;32m   1459\u001B[0m \u001B[43m        \u001B[49m\u001B[43mread_pref\u001B[49m\u001B[38;5;241;43m=\u001B[39;49m\u001B[43mread_pref\u001B[49m\u001B[43m,\u001B[49m\n\u001B[1;32m   1460\u001B[0m \u001B[43m        \u001B[49m\u001B[43maddress\u001B[49m\u001B[38;5;241;43m=\u001B[39;49m\u001B[43maddress\u001B[49m\u001B[43m,\u001B[49m\n\u001B[1;32m   1461\u001B[0m \u001B[43m        \u001B[49m\u001B[43mretryable\u001B[49m\u001B[38;5;241;43m=\u001B[39;49m\u001B[43mretryable\u001B[49m\u001B[43m,\u001B[49m\n\u001B[1;32m   1462\u001B[0m \u001B[43m    \u001B[49m\u001B[43m)\u001B[49m\u001B[38;5;241;43m.\u001B[39;49m\u001B[43mrun\u001B[49m\u001B[43m(\u001B[49m\u001B[43m)\u001B[49m\n",
      "File \u001B[0;32m~/.virtualenvs/4201C-mfuJG1Ab/lib/python3.8/site-packages/pymongo/mongo_client.py:2315\u001B[0m, in \u001B[0;36m_ClientConnectionRetryable.run\u001B[0;34m(self)\u001B[0m\n\u001B[1;32m   2313\u001B[0m \u001B[38;5;28mself\u001B[39m\u001B[38;5;241m.\u001B[39m_check_last_error(check_csot\u001B[38;5;241m=\u001B[39m\u001B[38;5;28;01mTrue\u001B[39;00m)\n\u001B[1;32m   2314\u001B[0m \u001B[38;5;28;01mtry\u001B[39;00m:\n\u001B[0;32m-> 2315\u001B[0m     \u001B[38;5;28;01mreturn\u001B[39;00m \u001B[38;5;28;43mself\u001B[39;49m\u001B[38;5;241;43m.\u001B[39;49m\u001B[43m_read\u001B[49m\u001B[43m(\u001B[49m\u001B[43m)\u001B[49m \u001B[38;5;28;01mif\u001B[39;00m \u001B[38;5;28mself\u001B[39m\u001B[38;5;241m.\u001B[39m_is_read \u001B[38;5;28;01melse\u001B[39;00m \u001B[38;5;28mself\u001B[39m\u001B[38;5;241m.\u001B[39m_write()\n\u001B[1;32m   2316\u001B[0m \u001B[38;5;28;01mexcept\u001B[39;00m ServerSelectionTimeoutError:\n\u001B[1;32m   2317\u001B[0m     \u001B[38;5;66;03m# The application may think the write was never attempted\u001B[39;00m\n\u001B[1;32m   2318\u001B[0m     \u001B[38;5;66;03m# if we raise ServerSelectionTimeoutError on the retry\u001B[39;00m\n\u001B[1;32m   2319\u001B[0m     \u001B[38;5;66;03m# attempt. Raise the original exception instead.\u001B[39;00m\n\u001B[1;32m   2320\u001B[0m     \u001B[38;5;28mself\u001B[39m\u001B[38;5;241m.\u001B[39m_check_last_error()\n",
      "File \u001B[0;32m~/.virtualenvs/4201C-mfuJG1Ab/lib/python3.8/site-packages/pymongo/mongo_client.py:2445\u001B[0m, in \u001B[0;36m_ClientConnectionRetryable._read\u001B[0;34m(self)\u001B[0m\n\u001B[1;32m   2443\u001B[0m \u001B[38;5;28;01mif\u001B[39;00m \u001B[38;5;28mself\u001B[39m\u001B[38;5;241m.\u001B[39m_retrying \u001B[38;5;129;01mand\u001B[39;00m \u001B[38;5;129;01mnot\u001B[39;00m \u001B[38;5;28mself\u001B[39m\u001B[38;5;241m.\u001B[39m_retryable:\n\u001B[1;32m   2444\u001B[0m     \u001B[38;5;28mself\u001B[39m\u001B[38;5;241m.\u001B[39m_check_last_error()\n\u001B[0;32m-> 2445\u001B[0m \u001B[38;5;28;01mreturn\u001B[39;00m \u001B[38;5;28;43mself\u001B[39;49m\u001B[38;5;241;43m.\u001B[39;49m\u001B[43m_func\u001B[49m\u001B[43m(\u001B[49m\u001B[38;5;28;43mself\u001B[39;49m\u001B[38;5;241;43m.\u001B[39;49m\u001B[43m_session\u001B[49m\u001B[43m,\u001B[49m\u001B[43m \u001B[49m\u001B[38;5;28;43mself\u001B[39;49m\u001B[38;5;241;43m.\u001B[39;49m\u001B[43m_server\u001B[49m\u001B[43m,\u001B[49m\u001B[43m \u001B[49m\u001B[43mconn\u001B[49m\u001B[43m,\u001B[49m\u001B[43m \u001B[49m\u001B[43mread_pref\u001B[49m\u001B[43m)\u001B[49m\n",
      "File \u001B[0;32m~/.virtualenvs/4201C-mfuJG1Ab/lib/python3.8/site-packages/pymongo/mongo_client.py:1390\u001B[0m, in \u001B[0;36mMongoClient._run_operation.<locals>._cmd\u001B[0;34m(_session, server, conn, read_preference)\u001B[0m\n\u001B[1;32m   1383\u001B[0m \u001B[38;5;28;01mdef\u001B[39;00m \u001B[38;5;21m_cmd\u001B[39m(\n\u001B[1;32m   1384\u001B[0m     _session: Optional[ClientSession],\n\u001B[1;32m   1385\u001B[0m     server: Server,\n\u001B[1;32m   1386\u001B[0m     conn: Connection,\n\u001B[1;32m   1387\u001B[0m     read_preference: _ServerMode,\n\u001B[1;32m   1388\u001B[0m ) \u001B[38;5;241m-\u001B[39m\u001B[38;5;241m>\u001B[39m Response:\n\u001B[1;32m   1389\u001B[0m     operation\u001B[38;5;241m.\u001B[39mreset()  \u001B[38;5;66;03m# Reset op in case of retry.\u001B[39;00m\n\u001B[0;32m-> 1390\u001B[0m     \u001B[38;5;28;01mreturn\u001B[39;00m \u001B[43mserver\u001B[49m\u001B[38;5;241;43m.\u001B[39;49m\u001B[43mrun_operation\u001B[49m\u001B[43m(\u001B[49m\n\u001B[1;32m   1391\u001B[0m \u001B[43m        \u001B[49m\u001B[43mconn\u001B[49m\u001B[43m,\u001B[49m\u001B[43m \u001B[49m\u001B[43moperation\u001B[49m\u001B[43m,\u001B[49m\u001B[43m \u001B[49m\u001B[43mread_preference\u001B[49m\u001B[43m,\u001B[49m\u001B[43m \u001B[49m\u001B[38;5;28;43mself\u001B[39;49m\u001B[38;5;241;43m.\u001B[39;49m\u001B[43m_event_listeners\u001B[49m\u001B[43m,\u001B[49m\u001B[43m \u001B[49m\u001B[43munpack_res\u001B[49m\n\u001B[1;32m   1392\u001B[0m \u001B[43m    \u001B[49m\u001B[43m)\u001B[49m\n",
      "File \u001B[0;32m~/.virtualenvs/4201C-mfuJG1Ab/lib/python3.8/site-packages/pymongo/helpers.py:322\u001B[0m, in \u001B[0;36m_handle_reauth.<locals>.inner\u001B[0;34m(*args, **kwargs)\u001B[0m\n\u001B[1;32m    319\u001B[0m \u001B[38;5;28;01mfrom\u001B[39;00m \u001B[38;5;21;01mpymongo\u001B[39;00m\u001B[38;5;21;01m.\u001B[39;00m\u001B[38;5;21;01mpool\u001B[39;00m \u001B[38;5;28;01mimport\u001B[39;00m Connection\n\u001B[1;32m    321\u001B[0m \u001B[38;5;28;01mtry\u001B[39;00m:\n\u001B[0;32m--> 322\u001B[0m     \u001B[38;5;28;01mreturn\u001B[39;00m \u001B[43mfunc\u001B[49m\u001B[43m(\u001B[49m\u001B[38;5;241;43m*\u001B[39;49m\u001B[43margs\u001B[49m\u001B[43m,\u001B[49m\u001B[43m \u001B[49m\u001B[38;5;241;43m*\u001B[39;49m\u001B[38;5;241;43m*\u001B[39;49m\u001B[43mkwargs\u001B[49m\u001B[43m)\u001B[49m\n\u001B[1;32m    323\u001B[0m \u001B[38;5;28;01mexcept\u001B[39;00m OperationFailure \u001B[38;5;28;01mas\u001B[39;00m exc:\n\u001B[1;32m    324\u001B[0m     \u001B[38;5;28;01mif\u001B[39;00m no_reauth:\n",
      "File \u001B[0;32m~/.virtualenvs/4201C-mfuJG1Ab/lib/python3.8/site-packages/pymongo/server.py:167\u001B[0m, in \u001B[0;36mServer.run_operation\u001B[0;34m(self, conn, operation, read_preference, listeners, unpack_res)\u001B[0m\n\u001B[1;32m    165\u001B[0m         first \u001B[38;5;241m=\u001B[39m docs[\u001B[38;5;241m0\u001B[39m]\n\u001B[1;32m    166\u001B[0m         operation\u001B[38;5;241m.\u001B[39mclient\u001B[38;5;241m.\u001B[39m_process_response(first, operation\u001B[38;5;241m.\u001B[39msession)\n\u001B[0;32m--> 167\u001B[0m         \u001B[43m_check_command_response\u001B[49m\u001B[43m(\u001B[49m\u001B[43mfirst\u001B[49m\u001B[43m,\u001B[49m\u001B[43m \u001B[49m\u001B[43mconn\u001B[49m\u001B[38;5;241;43m.\u001B[39;49m\u001B[43mmax_wire_version\u001B[49m\u001B[43m)\u001B[49m\n\u001B[1;32m    168\u001B[0m \u001B[38;5;28;01mexcept\u001B[39;00m \u001B[38;5;167;01mException\u001B[39;00m \u001B[38;5;28;01mas\u001B[39;00m exc:\n\u001B[1;32m    169\u001B[0m     \u001B[38;5;28;01mif\u001B[39;00m publish:\n",
      "File \u001B[0;32m~/.virtualenvs/4201C-mfuJG1Ab/lib/python3.8/site-packages/pymongo/helpers.py:230\u001B[0m, in \u001B[0;36m_check_command_response\u001B[0;34m(response, max_wire_version, allowable_errors, parse_write_concern_error)\u001B[0m\n\u001B[1;32m    227\u001B[0m \u001B[38;5;28;01melif\u001B[39;00m code \u001B[38;5;241m==\u001B[39m \u001B[38;5;241m43\u001B[39m:\n\u001B[1;32m    228\u001B[0m     \u001B[38;5;28;01mraise\u001B[39;00m CursorNotFound(errmsg, code, response, max_wire_version)\n\u001B[0;32m--> 230\u001B[0m \u001B[38;5;28;01mraise\u001B[39;00m OperationFailure(errmsg, code, response, max_wire_version)\n",
      "\u001B[0;31mOperationFailure\u001B[0m: text index required for $text query, full error: {'ok': 0.0, 'errmsg': 'text index required for $text query', 'code': 27, 'codeName': 'IndexNotFound'}"
     ]
    }
   ],
   "source": [
    "cur = collection_peaky.find( { \"$text\": { \"$search\": \"female\" } } )\n",
    "next(cur)"
   ],
   "metadata": {
    "collapsed": false,
    "ExecuteTime": {
     "end_time": "2023-12-05T15:01:23.173103843Z",
     "start_time": "2023-12-05T15:01:22.471907714Z"
    }
   }
  },
  {
   "cell_type": "markdown",
   "metadata": {},
   "source": [
    "## Mettre à jour\n",
    "\n",
    "La mise à jour des documents et une opération très courante dans les bases de données. MongoDB implémente trois fonctions différentes permettant de mettre à jour un ou plusieurs documents à la fois.\n",
    "\n",
    "- Mettre à jour un seul document : \n",
    "\n",
    "```\n",
    "db.<YOUR_COLLECTION_NAME>.updateOne(<filter>, <update>, <options>)\n",
    "```\n",
    "\n",
    "- Le champ `filter` est une requête comme on vient de voir précédemment ; \n",
    "- Le champ `update` permet de préciser la requête de mise à jour ;\n",
    "- Le champ `option` permet de donner des arguments à cette opération.\n",
    "\n",
    " Cette fonction va mettre à jour le premier élément renvoyé par la requête `filter`. \n",
    " \n",
    " Par exemple : \n",
    " \n"
   ]
  },
  {
   "cell_type": "code",
   "execution_count": 52,
   "metadata": {
    "ExecuteTime": {
     "end_time": "2023-12-05T15:05:31.797276193Z",
     "start_time": "2023-12-05T15:05:31.735199088Z"
    }
   },
   "outputs": [
    {
     "data": {
      "text/plain": "UpdateResult({'n': 1, 'nModified': 1, 'ok': 1.0, 'updatedExisting': True}, acknowledged=True)"
     },
     "execution_count": 52,
     "metadata": {},
     "output_type": "execute_result"
    }
   ],
   "source": [
    "result = collection_peaky.update_one({\"firstname\":\"Thomas\"}, {\"$set\":{\"maincharacter\":True}})\n",
    "result"
   ]
  },
  {
   "cell_type": "code",
   "execution_count": 53,
   "metadata": {
    "ExecuteTime": {
     "end_time": "2023-12-05T15:05:36.540441032Z",
     "start_time": "2023-12-05T15:05:36.482018561Z"
    }
   },
   "outputs": [
    {
     "data": {
      "text/plain": "{'_id': ObjectId('656f35aa0a3a7e8515a7c265'),\n 'firstname': 'Thomas',\n 'lastname': 'Shelby',\n 'position': 'CEO',\n 'gender': 'Male',\n 'age': 35,\n 'description': \"Thomas 'Tommy' Michael Shelby M.P. OBE, is the leader of the Birmingham criminal gang Peaky Blinders and the patriarch of the Shelby Family. His experiences during and after the First World War have left him disillusioned and determined to move his family up in the world.\",\n 'nicknames': ['Tom', 'Tommy', 'Thomas'],\n 'company': 'Peaky Blinders',\n 'episodes': [1, 2, 4, 5, 6],\n 'maincharacter': True}"
     },
     "execution_count": 53,
     "metadata": {},
     "output_type": "execute_result"
    }
   ],
   "source": [
    "cur = collection_peaky.find_one({\"firstname\":\"Thomas\"})\n",
    "cur"
   ]
  },
  {
   "cell_type": "markdown",
   "metadata": {},
   "source": [
    "Ici le champ update utilise le selecteur `$set` qui permet de définir les couples clé:valeurs à mettre à jour.\n",
    "\n",
    "- Mettre à jour une liste de documents : \n",
    "\n",
    "```\n",
    "db.<YOUR_COLLECTION_NAME>.update_many(<filter>, <update>, <options>)\n",
    "```\n",
    "\n",
    "Cette fonction va mettre à jour tous les documents concernés par la requête `filter`.\n",
    "Dans l'exemple ci-dessous nous allons mettre à jour tous les éléments correspondant à la family Shelby.\n"
   ]
  },
  {
   "cell_type": "code",
   "execution_count": 54,
   "metadata": {
    "ExecuteTime": {
     "end_time": "2023-12-05T15:06:06.429418898Z",
     "start_time": "2023-12-05T15:06:06.371732626Z"
    }
   },
   "outputs": [
    {
     "data": {
      "text/plain": "UpdateResult({'n': 4, 'nModified': 4, 'ok': 1.0, 'updatedExisting': True}, acknowledged=True)"
     },
     "execution_count": 54,
     "metadata": {},
     "output_type": "execute_result"
    }
   ],
   "source": [
    "result = collection_peaky.update_many({\"lastname\":\"Shelby\"}, {\"$set\":{\"shelbyFamily\":True}})\n",
    "result"
   ]
  },
  {
   "cell_type": "code",
   "execution_count": 55,
   "metadata": {
    "ExecuteTime": {
     "end_time": "2023-12-05T15:06:15.217665685Z",
     "start_time": "2023-12-05T15:06:14.781895076Z"
    }
   },
   "outputs": [
    {
     "data": {
      "text/plain": "[{'_id': ObjectId('656f35aa0a3a7e8515a7c265'),\n  'firstname': 'Thomas',\n  'lastname': 'Shelby',\n  'position': 'CEO',\n  'gender': 'Male',\n  'age': 35,\n  'description': \"Thomas 'Tommy' Michael Shelby M.P. OBE, is the leader of the Birmingham criminal gang Peaky Blinders and the patriarch of the Shelby Family. His experiences during and after the First World War have left him disillusioned and determined to move his family up in the world.\",\n  'nicknames': ['Tom', 'Tommy', 'Thomas'],\n  'company': 'Peaky Blinders',\n  'episodes': [1, 2, 4, 5, 6],\n  'maincharacter': True,\n  'shelbyFamily': True},\n {'_id': ObjectId('656f36410a3a7e8515a7c266'),\n  'firstname': 'Thomas',\n  'lastname': 'Shelby',\n  'position': 'CEO',\n  'gender': 'Male',\n  'age': 35,\n  'description': \"Thomas 'Tommy' Michael Shelby M.P. OBE, is the leader of the Birmingham criminal gang Peaky Blinders and the patriarch of the Shelby Family. His experiences during and after the First World War have left him disillusioned and determined to move his family up in the world.\",\n  'nicknames': ['Tom', 'Tommy', 'Thomas'],\n  'company': 'Peaky Blinders',\n  'episodes': [1, 2, 4, 5, 6],\n  'shelbyFamily': True},\n {'_id': ObjectId('656f36410a3a7e8515a7c267'),\n  'firstname': 'Arthur',\n  'lastname': 'Shelby',\n  'position': 'Associate',\n  'gender': 'Male',\n  'age': 38,\n  'description': \"Arthur Shelby Jr. is the eldest of the Shelby siblings and the tough member of Peaky Blinders, the Deputy Vice President Shelby Company Limited. He's also a member of the ICA.\",\n  'company': 'Peaky Blinders',\n  'episodes': [1, 4, 6],\n  'shelbyFamily': True},\n {'_id': ObjectId('656f36410a3a7e8515a7c268'),\n  'firstname': 'John',\n  'lastname': 'Shelby',\n  'position': 'Associate',\n  'gender': 'Male',\n  'age': 30,\n  'description': 'John Michael Shelby, also called Johnny or John Boy, was the third of Shelby siblings and a member of the Peaky Blinders.',\n  'nicknames': ['Johnny', 'John Boy'],\n  'company': 'Peaky Blinders',\n  'episodes': [4, 5, 6],\n  'shelbyFamily': True}]"
     },
     "execution_count": 55,
     "metadata": {},
     "output_type": "execute_result"
    }
   ],
   "source": [
    "cur = collection_peaky.find({\"lastname\":\"Shelby\"})\n",
    "list(cur)"
   ]
  },
  {
   "cell_type": "markdown",
   "metadata": {},
   "source": [
    "\n",
    "L'option `upsert` peut être très intéressante. Elle permet d'ajouter un document si il n'existe pas déjà directement depuis la fonction `update()`. Par défaut, cette option est `false`. \n",
    " \n",
    " \n",
    "```\n",
    "db.<YOUR_COLLECTION_NAME>.update(<filter>, <update>, {upsert: true})\n",
    "```\n",
    "    "
   ]
  },
  {
   "cell_type": "markdown",
   "metadata": {},
   "source": [
    "## Supprimer \n",
    "\n",
    "Pour supprimer des documents, comme pour la mise à jour, il existe deux méthodes : \n",
    "\n",
    "- `deleteMany({ <field1>: <value1>, ... }`\n",
    "- `deleteOne({ <field1>: <value1>, ... }`\n",
    "\n",
    "Pour supprimer tous les documents possédant une condition : \n"
   ]
  },
  {
   "cell_type": "code",
   "execution_count": 56,
   "metadata": {
    "ExecuteTime": {
     "end_time": "2023-12-05T15:06:39.677682918Z",
     "start_time": "2023-12-05T15:06:39.628568261Z"
    }
   },
   "outputs": [
    {
     "data": {
      "text/plain": "DeleteResult({'n': 2, 'ok': 1.0}, acknowledged=True)"
     },
     "execution_count": 56,
     "metadata": {},
     "output_type": "execute_result"
    }
   ],
   "source": [
    "result = collection_peaky.delete_many({\"lastname\": \"Gray\"})\n",
    "result"
   ]
  },
  {
   "cell_type": "code",
   "execution_count": 57,
   "metadata": {
    "ExecuteTime": {
     "end_time": "2023-12-05T15:06:42.405901566Z",
     "start_time": "2023-12-05T15:06:42.371545254Z"
    }
   },
   "outputs": [
    {
     "ename": "StopIteration",
     "evalue": "",
     "output_type": "error",
     "traceback": [
      "\u001B[0;31m---------------------------------------------------------------------------\u001B[0m",
      "\u001B[0;31mStopIteration\u001B[0m                             Traceback (most recent call last)",
      "Cell \u001B[0;32mIn[57], line 2\u001B[0m\n\u001B[1;32m      1\u001B[0m cur \u001B[38;5;241m=\u001B[39m collection_peaky\u001B[38;5;241m.\u001B[39mfind({\u001B[38;5;124m\"\u001B[39m\u001B[38;5;124mlastname\u001B[39m\u001B[38;5;124m\"\u001B[39m: \u001B[38;5;124m\"\u001B[39m\u001B[38;5;124mGray\u001B[39m\u001B[38;5;124m\"\u001B[39m})\n\u001B[0;32m----> 2\u001B[0m \u001B[38;5;28;43mnext\u001B[39;49m\u001B[43m(\u001B[49m\u001B[43mcur\u001B[49m\u001B[43m)\u001B[49m\n",
      "File \u001B[0;32m~/.virtualenvs/4201C-mfuJG1Ab/lib/python3.8/site-packages/pymongo/cursor.py:1267\u001B[0m, in \u001B[0;36mCursor.next\u001B[0;34m(self)\u001B[0m\n\u001B[1;32m   1265\u001B[0m     \u001B[38;5;28;01mreturn\u001B[39;00m \u001B[38;5;28mself\u001B[39m\u001B[38;5;241m.\u001B[39m__data\u001B[38;5;241m.\u001B[39mpopleft()\n\u001B[1;32m   1266\u001B[0m \u001B[38;5;28;01melse\u001B[39;00m:\n\u001B[0;32m-> 1267\u001B[0m     \u001B[38;5;28;01mraise\u001B[39;00m \u001B[38;5;167;01mStopIteration\u001B[39;00m\n",
      "\u001B[0;31mStopIteration\u001B[0m: "
     ]
    }
   ],
   "source": [
    "cur = collection_peaky.find({\"lastname\": \"Gray\"})\n",
    "next(cur)"
   ]
  },
  {
   "cell_type": "markdown",
   "metadata": {},
   "source": [
    "Plus aucun document ne possède ces propriétés.\n",
    "\n",
    "Pour supprimer un seul document (ou le premier si la condition n'est pas assez restrictive) :"
   ]
  },
  {
   "cell_type": "code",
   "execution_count": 58,
   "metadata": {
    "ExecuteTime": {
     "end_time": "2023-12-05T15:07:10.337277682Z",
     "start_time": "2023-12-05T15:07:10.282957637Z"
    }
   },
   "outputs": [
    {
     "data": {
      "text/plain": "DeleteResult({'n': 1, 'ok': 1.0}, acknowledged=True)"
     },
     "execution_count": 58,
     "metadata": {},
     "output_type": "execute_result"
    }
   ],
   "source": [
    "result = collection_peaky.delete_one({\"firstname\": \"Arthur\"})\n",
    "result"
   ]
  },
  {
   "cell_type": "code",
   "execution_count": 59,
   "metadata": {
    "ExecuteTime": {
     "end_time": "2023-12-05T15:07:14.047178008Z",
     "start_time": "2023-12-05T15:07:14.012148035Z"
    }
   },
   "outputs": [
    {
     "ename": "StopIteration",
     "evalue": "",
     "output_type": "error",
     "traceback": [
      "\u001B[0;31m---------------------------------------------------------------------------\u001B[0m",
      "\u001B[0;31mStopIteration\u001B[0m                             Traceback (most recent call last)",
      "Cell \u001B[0;32mIn[59], line 2\u001B[0m\n\u001B[1;32m      1\u001B[0m cur \u001B[38;5;241m=\u001B[39m collection_peaky\u001B[38;5;241m.\u001B[39mfind({\u001B[38;5;124m\"\u001B[39m\u001B[38;5;124mfirstname\u001B[39m\u001B[38;5;124m\"\u001B[39m: \u001B[38;5;124m\"\u001B[39m\u001B[38;5;124mArthur\u001B[39m\u001B[38;5;124m\"\u001B[39m})\n\u001B[0;32m----> 2\u001B[0m \u001B[38;5;28;43mnext\u001B[39;49m\u001B[43m(\u001B[49m\u001B[43mcur\u001B[49m\u001B[43m)\u001B[49m\n",
      "File \u001B[0;32m~/.virtualenvs/4201C-mfuJG1Ab/lib/python3.8/site-packages/pymongo/cursor.py:1267\u001B[0m, in \u001B[0;36mCursor.next\u001B[0;34m(self)\u001B[0m\n\u001B[1;32m   1265\u001B[0m     \u001B[38;5;28;01mreturn\u001B[39;00m \u001B[38;5;28mself\u001B[39m\u001B[38;5;241m.\u001B[39m__data\u001B[38;5;241m.\u001B[39mpopleft()\n\u001B[1;32m   1266\u001B[0m \u001B[38;5;28;01melse\u001B[39;00m:\n\u001B[0;32m-> 1267\u001B[0m     \u001B[38;5;28;01mraise\u001B[39;00m \u001B[38;5;167;01mStopIteration\u001B[39;00m\n",
      "\u001B[0;31mStopIteration\u001B[0m: "
     ]
    }
   ],
   "source": [
    "cur = collection_peaky.find({\"firstname\": \"Arthur\"})\n",
    "next(cur)"
   ]
  },
  {
   "cell_type": "markdown",
   "metadata": {},
   "source": [
    "Pour supprimer tous les documents de la collection: \n"
   ]
  },
  {
   "cell_type": "code",
   "execution_count": 60,
   "metadata": {
    "ExecuteTime": {
     "end_time": "2023-12-05T15:07:21.546238417Z",
     "start_time": "2023-12-05T15:07:21.486376051Z"
    }
   },
   "outputs": [
    {
     "data": {
      "text/plain": "DeleteResult({'n': 4, 'ok': 1.0}, acknowledged=True)"
     },
     "execution_count": 60,
     "metadata": {},
     "output_type": "execute_result"
    }
   ],
   "source": [
    "result = collection_peaky.delete_many({})\n",
    "result"
   ]
  },
  {
   "cell_type": "code",
   "execution_count": 61,
   "metadata": {
    "ExecuteTime": {
     "end_time": "2023-12-05T15:07:24.696274712Z",
     "start_time": "2023-12-05T15:07:24.635543923Z"
    }
   },
   "outputs": [
    {
     "ename": "StopIteration",
     "evalue": "",
     "output_type": "error",
     "traceback": [
      "\u001B[0;31m---------------------------------------------------------------------------\u001B[0m",
      "\u001B[0;31mStopIteration\u001B[0m                             Traceback (most recent call last)",
      "Cell \u001B[0;32mIn[61], line 2\u001B[0m\n\u001B[1;32m      1\u001B[0m cur \u001B[38;5;241m=\u001B[39m collection_peaky\u001B[38;5;241m.\u001B[39mfind()\n\u001B[0;32m----> 2\u001B[0m \u001B[38;5;28;43mnext\u001B[39;49m\u001B[43m(\u001B[49m\u001B[43mcur\u001B[49m\u001B[43m)\u001B[49m\n",
      "File \u001B[0;32m~/.virtualenvs/4201C-mfuJG1Ab/lib/python3.8/site-packages/pymongo/cursor.py:1267\u001B[0m, in \u001B[0;36mCursor.next\u001B[0;34m(self)\u001B[0m\n\u001B[1;32m   1265\u001B[0m     \u001B[38;5;28;01mreturn\u001B[39;00m \u001B[38;5;28mself\u001B[39m\u001B[38;5;241m.\u001B[39m__data\u001B[38;5;241m.\u001B[39mpopleft()\n\u001B[1;32m   1266\u001B[0m \u001B[38;5;28;01melse\u001B[39;00m:\n\u001B[0;32m-> 1267\u001B[0m     \u001B[38;5;28;01mraise\u001B[39;00m \u001B[38;5;167;01mStopIteration\u001B[39;00m\n",
      "\u001B[0;31mStopIteration\u001B[0m: "
     ]
    }
   ],
   "source": [
    "cur = collection_peaky.find()\n",
    "next(cur)"
   ]
  },
  {
   "cell_type": "markdown",
   "metadata": {},
   "source": [
    "Plus aucun document n'est présent dans la collection\n",
    "\n",
    "Quelques choses à savoir : \n",
    "\n",
    "- La méthode `deleteMany()` applique une fonction à tous les documents. Toutes les fonctions en Mongo sont atomiques ce qui veut dire qu'elles s'appliquent à chaque document indépendamment les uns des autres.\n",
    "- La méthode `delete()` ne supprime pas les index, même si on supprime tous les documents de la collection.\n"
   ]
  },
  {
   "cell_type": "markdown",
   "metadata": {},
   "source": [
    "### Exercice \n",
    "\n",
    "Maintenant que la collection est vide, réintégrez les données précédemment supprimés. "
   ]
  },
  {
   "cell_type": "code",
   "execution_count": 69,
   "metadata": {
    "ExecuteTime": {
     "end_time": "2023-12-05T15:13:49.418475116Z",
     "start_time": "2023-12-05T15:13:49.271863544Z"
    }
   },
   "outputs": [
    {
     "data": {
      "text/plain": "InsertManyResult([ObjectId('656f3e2d0a3a7e8515a7c272'), ObjectId('656f3e2d0a3a7e8515a7c273'), ObjectId('656f3e2d0a3a7e8515a7c274'), ObjectId('656f3e2d0a3a7e8515a7c275'), ObjectId('656f3e2d0a3a7e8515a7c276'), ObjectId('656f3e2d0a3a7e8515a7c277')], acknowledged=True)"
     },
     "execution_count": 69,
     "metadata": {},
     "output_type": "execute_result"
    }
   ],
   "source": [
    "DOCUMENTS = [\n",
    "    {\n",
    "    \"firstname\" : \"Thomas\",\n",
    "    \"lastname\" : \"Shelby\",\n",
    "    \"position\" : \"CEO\",\n",
    "    \"gender\" : \"Male\",\n",
    "    \"age\" : 35,\n",
    "    \"description\" : \"Thomas 'Tommy' Michael Shelby M.P. OBE, is the leader of the Birmingham criminal gang Peaky Blinders and the patriarch of the Shelby Family. His experiences during and after the First World War have left him disillusioned and determined to move his family up in the world.\",\n",
    "    \"nicknames\" : [\"Tom\", \"Tommy\", \"Thomas\"],\n",
    "    \"company\" : \"Peaky Blinders\",\n",
    "    \"episodes\" : [1,2,4,5,6]\n",
    "    }, \n",
    "{\n",
    "    \"firstname\" : \"Arthur\",\n",
    "    \"lastname\" : \"Shelby\",\n",
    "    \"position\" : \"Associate\",\n",
    "    \"gender\" : \"Male\",\n",
    "    \"age\" : 38,\n",
    "    \"description\" : \"Arthur Shelby Jr. is the eldest of the Shelby siblings and the tough member of Peaky Blinders, the Deputy Vice President Shelby Company Limited. He's also a member of the ICA.\",\n",
    "    \"company\" : \"Peaky Blinders\",\n",
    "    \"episodes\" : [1,4,6]\n",
    "\n",
    "},{\n",
    "    \"firstname\" : \"John\",\n",
    "    \"lastname\" : \"Shelby\",\n",
    "    \"position\" : \"Associate\",\n",
    "    \"gender\" : \"Male\",\n",
    "    \"age\" : 30,\n",
    "    \"description\" : \"John Michael Shelby, also called Johnny or John Boy, was the third of Shelby siblings and a member of the Peaky Blinders.\",\n",
    "    \"nicknames\" : [\"Johnny\", \"John Boy\"],\n",
    "    \"company\" : \"Peaky Blinders\",\n",
    "    \"episodes\" : [4,5,6]\n",
    "},{\n",
    "    \"firstname\" : \"Ada\",\n",
    "    \"lastname\" : \"Thorne\",\n",
    "    \"position\" : \"HR\",\n",
    "    \"gender\" : \"Female\",\n",
    "    \"age\" : 28,\n",
    "    \"description\" : \"Ada Thorne is the fourth and only female of the Shelby sibling. She's the Head of Acquisitions of the Shelby Company Limited.\",\n",
    "    \"nicknames\" : [\"Ada Shelby\"],\n",
    "    \"company\" : \"Peaky Blinders\",\n",
    "    \"episodes\" : [1,2,6]\n",
    "},{\n",
    "    \"firstname\" : \"Michael\",\n",
    "    \"lastname\" : \"Gray\",\n",
    "    \"position\" : \"Accounting\",\n",
    "    \"gender\" : \"Male\",\n",
    "    \"age\" : 21,\n",
    "    \"description\" : \"Michael Gray is the son of Polly Shelby, his father is dead, and cousin of the Shelby siblings. He is the Chief Accountant in the Shelby Company Limited.\",\n",
    "    \"nicknames\" : [\"Henry Johnson\", \"Jobbie Muncher\", \"Mickey\"],\n",
    "    \"company\" : \"Peaky Blinders\",\n",
    "    \"episodes\" : [5,6]\n",
    "},{\n",
    "    \"firstname\" : \"Polly\",\n",
    "    \"lastname\" : \"Gray\",\n",
    "    \"gender\" : \"Female\",\n",
    "    \"age\" : 45,\n",
    "    \"position\" : \"CFO\",\n",
    "    \"description\" : \"Elizabeth Polly Gray (née Shelby) is the matriarch of the Shelby Family, aunt of the Shelby siblings, the treasurer of the Birmingham criminal gang, the Peaky Blinders, a certified accountant and company treasurer of Shelby Company Limited. \",\n",
    "    \"nicknames\" : [\"Aunt Polly\", \"Polly Gray\", \"Elizabeth Gray\", \"Polly Shelby\", \"Pol\"],\n",
    "    \"company\" : \"Peaky Blinders\",\n",
    "    \"episodes\" : [1,2,5,6]\n",
    "}]\n",
    "collection_peaky.insert_many(DOCUMENTS)"
   ]
  },
  {
   "cell_type": "markdown",
   "metadata": {},
   "source": [
    "## Aggregation\n",
    "\n",
    "\n",
    "Une aggrégation permet de faire des opérations complexes sur des groupes de documents directement dans la base. Elle se charge de grouper les documents entre eux suivant la requête et se charge d'effectuer une opération sur l'ensemble des documents de chacun des groupes. On peut retrouver les mêmes opérations en SQL avec les arguments `GROUP BY`.\n",
    "\n",
    "La syntaxe est très similaire à toutes les autres fonctions Mongo mais la requête va être plus complexe. \n",
    "\n",
    "```\n",
    "db.<YOUR_COLLECTION_NAME>.aggregate(AGGREGATE_OPERATION)\n",
    "```\n",
    "\n",
    "On peut vouloir récupérer le nombre de personnages de chaque famille présente dans la série : \n"
   ]
  },
  {
   "cell_type": "code",
   "execution_count": 63,
   "metadata": {
    "ExecuteTime": {
     "end_time": "2023-12-05T15:11:41.616592444Z",
     "start_time": "2023-12-05T15:11:40.844304829Z"
    }
   },
   "outputs": [
    {
     "data": {
      "text/plain": "[{'_id': 'Shelby', 'charactereNumberByFamily': 3},\n {'_id': 'Gray', 'charactereNumberByFamily': 2},\n {'_id': 'Thorne', 'charactereNumberByFamily': 1}]"
     },
     "execution_count": 63,
     "metadata": {},
     "output_type": "execute_result"
    }
   ],
   "source": [
    "cur = collection_peaky.aggregate([{\"$group\" : {\"_id\" : \"$lastname\", \"charactereNumberByFamily\" : {\"$sum\" : 1}}}])\n",
    "list(cur)"
   ]
  },
  {
   "cell_type": "markdown",
   "metadata": {},
   "source": [
    "\n",
    "Vous avez accès à toutes les opérations mathématiques dont vous avez besoin : \n",
    "\n",
    "- `$sum` : fait la somme de \n",
    "- `$avg` : fait la moyenne \n",
    "- `$min` : récupère la valeur minimale \n",
    "- `$max` : récupère la valeur maximale \n",
    "- `$first` : récupère le premier élément\n",
    "- `$last` : récupère le dernier élément\n"
   ]
  },
  {
   "cell_type": "code",
   "execution_count": 64,
   "metadata": {
    "ExecuteTime": {
     "end_time": "2023-12-05T15:12:01.714107279Z",
     "start_time": "2023-12-05T15:12:01.662186744Z"
    }
   },
   "outputs": [
    {
     "data": {
      "text/plain": "[{'_id': 'Shelby', 'averageAgeByFamily': 34.333333333333336},\n {'_id': 'Gray', 'averageAgeByFamily': 33.0},\n {'_id': 'Thorne', 'averageAgeByFamily': 28.0}]"
     },
     "execution_count": 64,
     "metadata": {},
     "output_type": "execute_result"
    }
   ],
   "source": [
    "cur = collection_peaky.aggregate([{\"$group\" : {\"_id\" : \"$lastname\", \"averageAgeByFamily\" : {\"$avg\" : \"$age\"}}}])\n",
    "list(cur)\n"
   ]
  },
  {
   "cell_type": "code",
   "execution_count": 65,
   "metadata": {
    "ExecuteTime": {
     "end_time": "2023-12-05T15:12:17.024502394Z",
     "start_time": "2023-12-05T15:12:16.970717057Z"
    }
   },
   "outputs": [
    {
     "data": {
      "text/plain": "[{'_id': 'Thorne', 'minAgeByFamily': 28},\n {'_id': 'Shelby', 'minAgeByFamily': 30},\n {'_id': 'Gray', 'minAgeByFamily': 21}]"
     },
     "execution_count": 65,
     "metadata": {},
     "output_type": "execute_result"
    }
   ],
   "source": [
    "cur = collection_peaky.aggregate([{\"$group\" : {\"_id\" : \"$lastname\", \"minAgeByFamily\" : {\"$min\" : \"$age\"}}}])\n",
    "list(cur)\n"
   ]
  },
  {
   "cell_type": "code",
   "execution_count": 66,
   "metadata": {
    "ExecuteTime": {
     "end_time": "2023-12-05T15:12:20.007402704Z",
     "start_time": "2023-12-05T15:12:19.969019542Z"
    }
   },
   "outputs": [
    {
     "data": {
      "text/plain": "[{'_id': 'Thorne', 'lastAgeByFamily': 28},\n {'_id': 'Shelby', 'lastAgeByFamily': 30},\n {'_id': 'Gray', 'lastAgeByFamily': 45}]"
     },
     "execution_count": 66,
     "metadata": {},
     "output_type": "execute_result"
    }
   ],
   "source": [
    "cur = collection_peaky.aggregate([{\"$group\" : {\"_id\" : \"$lastname\", \"lastAgeByFamily\" : {\"$last\" : \"$age\"}}}])\n",
    "list(cur)\n"
   ]
  },
  {
   "cell_type": "markdown",
   "metadata": {},
   "source": [
    "On peut ajouter un paramètre à la fonction `aggregate()` pour filtrer les élements à aggréger.\n",
    "Si on ne veut récupérer que les hommes : \n"
   ]
  },
  {
   "cell_type": "code",
   "execution_count": 67,
   "metadata": {
    "ExecuteTime": {
     "end_time": "2023-12-05T15:12:42.923147324Z",
     "start_time": "2023-12-05T15:12:42.868047124Z"
    }
   },
   "outputs": [
    {
     "data": {
      "text/plain": "[{'_id': 'Gray', 'averageAgeByFamily': 21.0},\n {'_id': 'Shelby', 'averageAgeByFamily': 34.333333333333336}]"
     },
     "execution_count": 67,
     "metadata": {},
     "output_type": "execute_result"
    }
   ],
   "source": [
    "cur = collection_peaky.aggregate([\n",
    "        {\"$match\":{\"gender\":\"Male\"}},\n",
    "        {\"$group\" : {\"_id\" : \"$lastname\", \"averageAgeByFamily\" : {\"$avg\" : \"$age\"}}}\n",
    "    ])\n",
    "list(cur)"
   ]
  },
  {
   "cell_type": "markdown",
   "metadata": {},
   "source": [
    "\n",
    "Il est aussi possible d'intégrer directement du code JavaScript dans les requêtes Mongo. Des fonctions de Map->Reduce sont disponibles pour effectuer les fonctions d'aggrégation. L'opération de Map->Reduce se découpe en deux phases : \n",
    "\n",
    "- Phase de MAP : parcourt tous les élements et extrait les champs voulus.\n",
    "- Phase de REDUCE : utilise les champs retournés pour effectuer l'opération finale. "
   ]
  },
  {
   "cell_type": "code",
   "execution_count": 68,
   "metadata": {
    "ExecuteTime": {
     "end_time": "2023-12-05T15:13:20.329238516Z",
     "start_time": "2023-12-05T15:13:20.275238460Z"
    }
   },
   "outputs": [
    {
     "ename": "TypeError",
     "evalue": "'Collection' object is not callable. If you meant to call the 'map_reduce' method on a 'Collection' object it is failing because no such method exists.",
     "output_type": "error",
     "traceback": [
      "\u001B[0;31m---------------------------------------------------------------------------\u001B[0m",
      "\u001B[0;31mTypeError\u001B[0m                                 Traceback (most recent call last)",
      "Cell \u001B[0;32mIn[68], line 4\u001B[0m\n\u001B[1;32m      2\u001B[0m reduce_function \u001B[38;5;241m=\u001B[39m \u001B[38;5;124m'''\u001B[39m\u001B[38;5;124mfunction(key,values)\u001B[39m\u001B[38;5;124m{\u001B[39m\u001B[38;5;124mreturn Array.sum(values)}\u001B[39m\u001B[38;5;124m'''\u001B[39m\n\u001B[1;32m      3\u001B[0m out \u001B[38;5;241m=\u001B[39m \u001B[38;5;124m'''\u001B[39m\u001B[38;5;124m{\u001B[39m\u001B[38;5;124mquery :\u001B[39m\u001B[38;5;124m{\u001B[39m\u001B[38;5;124mgender:\u001B[39m\u001B[38;5;124m\"\u001B[39m\u001B[38;5;124mMale\u001B[39m\u001B[38;5;124m\"\u001B[39m\u001B[38;5;124m}, out:\u001B[39m\u001B[38;5;124m\"\u001B[39m\u001B[38;5;124msumAge\u001B[39m\u001B[38;5;124m\"\u001B[39m\u001B[38;5;124m}\u001B[39m\u001B[38;5;124m'''\u001B[39m\n\u001B[0;32m----> 4\u001B[0m result \u001B[38;5;241m=\u001B[39m \u001B[43mcollection_peaky\u001B[49m\u001B[38;5;241;43m.\u001B[39;49m\u001B[43mmap_reduce\u001B[49m\u001B[43m(\u001B[49m\n\u001B[1;32m      5\u001B[0m \u001B[43m        \u001B[49m\u001B[43mmap_function\u001B[49m\u001B[43m,\u001B[49m\u001B[43m \u001B[49m\n\u001B[1;32m      6\u001B[0m \u001B[43m        \u001B[49m\u001B[43mreduce_function\u001B[49m\u001B[43m,\u001B[49m\n\u001B[1;32m      7\u001B[0m \u001B[43m        \u001B[49m\u001B[43mout\u001B[49m\u001B[43m)\u001B[49m\n",
      "File \u001B[0;32m~/.virtualenvs/4201C-mfuJG1Ab/lib/python3.8/site-packages/pymongo/collection.py:3507\u001B[0m, in \u001B[0;36mCollection.__call__\u001B[0;34m(self, *args, **kwargs)\u001B[0m\n\u001B[1;32m   3500\u001B[0m \u001B[38;5;28;01mif\u001B[39;00m \u001B[38;5;124m\"\u001B[39m\u001B[38;5;124m.\u001B[39m\u001B[38;5;124m\"\u001B[39m \u001B[38;5;129;01mnot\u001B[39;00m \u001B[38;5;129;01min\u001B[39;00m \u001B[38;5;28mself\u001B[39m\u001B[38;5;241m.\u001B[39m__name:\n\u001B[1;32m   3501\u001B[0m     \u001B[38;5;28;01mraise\u001B[39;00m \u001B[38;5;167;01mTypeError\u001B[39;00m(\n\u001B[1;32m   3502\u001B[0m         \u001B[38;5;124m\"\u001B[39m\u001B[38;5;124m'\u001B[39m\u001B[38;5;124mCollection\u001B[39m\u001B[38;5;124m'\u001B[39m\u001B[38;5;124m object is not callable. If you \u001B[39m\u001B[38;5;124m\"\u001B[39m\n\u001B[1;32m   3503\u001B[0m         \u001B[38;5;124m\"\u001B[39m\u001B[38;5;124mmeant to call the \u001B[39m\u001B[38;5;124m'\u001B[39m\u001B[38;5;132;01m%s\u001B[39;00m\u001B[38;5;124m'\u001B[39m\u001B[38;5;124m method on a \u001B[39m\u001B[38;5;124m'\u001B[39m\u001B[38;5;124mDatabase\u001B[39m\u001B[38;5;124m'\u001B[39m\u001B[38;5;124m \u001B[39m\u001B[38;5;124m\"\u001B[39m\n\u001B[1;32m   3504\u001B[0m         \u001B[38;5;124m\"\u001B[39m\u001B[38;5;124mobject it is failing because no such method \u001B[39m\u001B[38;5;124m\"\u001B[39m\n\u001B[1;32m   3505\u001B[0m         \u001B[38;5;124m\"\u001B[39m\u001B[38;5;124mexists.\u001B[39m\u001B[38;5;124m\"\u001B[39m \u001B[38;5;241m%\u001B[39m \u001B[38;5;28mself\u001B[39m\u001B[38;5;241m.\u001B[39m__name\n\u001B[1;32m   3506\u001B[0m     )\n\u001B[0;32m-> 3507\u001B[0m \u001B[38;5;28;01mraise\u001B[39;00m \u001B[38;5;167;01mTypeError\u001B[39;00m(\n\u001B[1;32m   3508\u001B[0m     \u001B[38;5;124m\"\u001B[39m\u001B[38;5;124m'\u001B[39m\u001B[38;5;124mCollection\u001B[39m\u001B[38;5;124m'\u001B[39m\u001B[38;5;124m object is not callable. If you meant to \u001B[39m\u001B[38;5;124m\"\u001B[39m\n\u001B[1;32m   3509\u001B[0m     \u001B[38;5;124m\"\u001B[39m\u001B[38;5;124mcall the \u001B[39m\u001B[38;5;124m'\u001B[39m\u001B[38;5;132;01m%s\u001B[39;00m\u001B[38;5;124m'\u001B[39m\u001B[38;5;124m method on a \u001B[39m\u001B[38;5;124m'\u001B[39m\u001B[38;5;124mCollection\u001B[39m\u001B[38;5;124m'\u001B[39m\u001B[38;5;124m object it is \u001B[39m\u001B[38;5;124m\"\u001B[39m\n\u001B[1;32m   3510\u001B[0m     \u001B[38;5;124m\"\u001B[39m\u001B[38;5;124mfailing because no such method exists.\u001B[39m\u001B[38;5;124m\"\u001B[39m \u001B[38;5;241m%\u001B[39m \u001B[38;5;28mself\u001B[39m\u001B[38;5;241m.\u001B[39m__name\u001B[38;5;241m.\u001B[39msplit(\u001B[38;5;124m\"\u001B[39m\u001B[38;5;124m.\u001B[39m\u001B[38;5;124m\"\u001B[39m)[\u001B[38;5;241m-\u001B[39m\u001B[38;5;241m1\u001B[39m]\n\u001B[1;32m   3511\u001B[0m )\n",
      "\u001B[0;31mTypeError\u001B[0m: 'Collection' object is not callable. If you meant to call the 'map_reduce' method on a 'Collection' object it is failing because no such method exists."
     ]
    }
   ],
   "source": [
    "map_function = '''function(){emit(this.lastname, this.age)}'''\n",
    "reduce_function = '''function(key,values){return Array.sum(values)}'''\n",
    "out = '''{query :{gender:\"Male\"}, out:\"sumAge\"}'''\n",
    "result = collection_peaky.map_reduce(\n",
    "        map_function, \n",
    "        reduce_function,\n",
    "        out)\n"
   ]
  },
  {
   "cell_type": "code",
   "execution_count": 72,
   "outputs": [],
   "source": [
    "pipeline = [\n",
    "    {\n",
    "        '$match': {\n",
    "            'gender': 'Male'  # Add any additional match conditions here\n",
    "        }\n",
    "    },\n",
    "    {\n",
    "        '$group': {\n",
    "            '_id': '$lastname',\n",
    "            'sumAge': {'$sum': '$age'}\n",
    "        }\n",
    "    },\n",
    "    {\n",
    "        '$out': 'sumAge'\n",
    "    }\n",
    "]\n",
    "\n",
    "# Run the aggregate pipeline\n",
    "result = collection_peaky.aggregate(pipeline)\n"
   ],
   "metadata": {
    "collapsed": false,
    "ExecuteTime": {
     "end_time": "2023-12-05T15:21:38.765412204Z",
     "start_time": "2023-12-05T15:21:37.412843897Z"
    }
   }
  },
  {
   "cell_type": "markdown",
   "metadata": {},
   "source": [
    "Pour récupérer maintenant les résultats : "
   ]
  },
  {
   "cell_type": "code",
   "execution_count": 73,
   "metadata": {
    "ExecuteTime": {
     "end_time": "2023-12-05T15:21:42.357548070Z",
     "start_time": "2023-12-05T15:21:42.331640160Z"
    }
   },
   "outputs": [
    {
     "ename": "AttributeError",
     "evalue": "'CommandCursor' object has no attribute 'find'",
     "output_type": "error",
     "traceback": [
      "\u001B[0;31m---------------------------------------------------------------------------\u001B[0m",
      "\u001B[0;31mAttributeError\u001B[0m                            Traceback (most recent call last)",
      "Cell \u001B[0;32mIn[73], line 1\u001B[0m\n\u001B[0;32m----> 1\u001B[0m \u001B[38;5;28mlist\u001B[39m(\u001B[43mresult\u001B[49m\u001B[38;5;241;43m.\u001B[39;49m\u001B[43mfind\u001B[49m())\n",
      "\u001B[0;31mAttributeError\u001B[0m: 'CommandCursor' object has no attribute 'find'"
     ]
    }
   ],
   "source": [
    "list(result.find())"
   ]
  },
  {
   "cell_type": "code",
   "execution_count": null,
   "metadata": {},
   "outputs": [],
   "source": []
  }
 ],
 "metadata": {
  "kernelspec": {
   "display_name": "Python 3",
   "language": "python",
   "name": "python3"
  },
  "language_info": {
   "codemirror_mode": {
    "name": "ipython",
    "version": 3
   },
   "file_extension": ".py",
   "mimetype": "text/x-python",
   "name": "python",
   "nbconvert_exporter": "python",
   "pygments_lexer": "ipython3",
   "version": "3.6.9"
  },
  "varInspector": {
   "cols": {
    "lenName": 16,
    "lenType": 16,
    "lenVar": 40
   },
   "kernels_config": {
    "python": {
     "delete_cmd_postfix": "",
     "delete_cmd_prefix": "del ",
     "library": "var_list.py",
     "varRefreshCmd": "print(var_dic_list())"
    },
    "r": {
     "delete_cmd_postfix": ") ",
     "delete_cmd_prefix": "rm(",
     "library": "var_list.r",
     "varRefreshCmd": "cat(var_dic_list()) "
    }
   },
   "types_to_exclude": [
    "module",
    "function",
    "builtin_function_or_method",
    "instance",
    "_Feature"
   ],
   "window_display": false
  }
 },
 "nbformat": 4,
 "nbformat_minor": 2
}
